{
 "cells": [
  {
   "cell_type": "markdown",
   "metadata": {
    "application/vnd.databricks.v1+cell": {
     "cellMetadata": {},
     "inputWidgets": {},
     "nuid": "f006eb6c-7978-430b-baf9-32d149d47f9f",
     "showTitle": false,
     "title": ""
    }
   },
   "source": [
    "##Cleaning The DataFrames"
   ]
  },
  {
   "cell_type": "code",
   "execution_count": null,
   "metadata": {
    "application/vnd.databricks.v1+cell": {
     "cellMetadata": {
      "byteLimit": 2048000,
      "rowLimit": 10000
     },
     "inputWidgets": {},
     "nuid": "84d750c0-d7a1-4707-8644-1ca8203b7352",
     "showTitle": false,
     "title": ""
    }
   },
   "outputs": [
    {
     "data": {
      "text/html": [
       "<style scoped>\n",
       "  .ansiout {\n",
       "    display: block;\n",
       "    unicode-bidi: embed;\n",
       "    white-space: pre-wrap;\n",
       "    word-wrap: break-word;\n",
       "    word-break: break-all;\n",
       "    font-family: \"Menlo\", \"Monaco\", \"Consolas\", \"Ubuntu Mono\", \"Source Code Pro\", monospace;\n",
       "    font-size: 13px;\n",
       "    color: #555;\n",
       "    margin-left: 4px;\n",
       "    line-height: 19px;\n",
       "  }\n",
       "</style>\n",
       "<div class=\"ansiout\">+-------+--------------------+--------------------+--------------------+--------------+--------------------+--------------------+-----------------+--------------------+--------------+--------------+\n",
       "    ind|           unique_id|               title|         description|follower_count|         poster_name|            tag_list|is_image_or_video|           image_src| save_location|      category|\n",
       "+-------+--------------------+--------------------+--------------------+--------------+--------------------+--------------------+-----------------+--------------------+--------------+--------------+\n",
       " 2482.0|08604f20-fa17-4b9...|FORNT PORCH CHRIS...|Christmas decorat...|          null|Life on Summerhil...|Diy Christmas Dec...|            video|https://i.pinimg....|     christmas|     christmas|\n",
       "10138.0|927c4658-cc3f-4b9...|14 Amazing Things...|This Costa Rica i...|          null|Wanderlust Chloe ...|Costa Rica Travel...|            image|https://i.pinimg....|        travel|        travel|\n",
       " 3156.0|fa6e31a4-18c2-4ec...|Handprint Reindee...|This post may con...|          null|Michelle {CraftyM...|Christmas Gifts F...|            image|https://i.pinimg....|diy-and-crafts|diy-and-crafts|\n",
       " 3419.0|d0b80187-0171-49b...|Easy Christmas Tr...|Easy Christmas tr...|          null|Kids Crafts &amp; Fre...|Christmas Crafts ...|            image|https://i.pinimg....|diy-and-crafts|diy-and-crafts|\n",
       " 5494.0|8fb2af68-543b-463...|Dave Ramsey&#39;s 7 B...|If you love budge...|          null|Living Low Key | ...|Financial Peace,F...|            image|https://i.pinimg....|       finance|       finance|\n",
       " 2418.0|da8745a6-5160-46c...|100 DIY Christmas...|Here are the best...|          null|            HikenDip|Farmhouse Christm...|            image|https://i.pinimg....|     christmas|     christmas|\n",
       " 7922.0|a584581c-1b38-473...|45 Top Life Quote...|summcoco gives yo...|          null|Sumcoco | Decor I...|Life Quotes Love,...|            image|https://i.pinimg....|        quotes|        quotes|\n",
       "  771.0|a5021766-a8aa-4dc...|African Sunset Sh...|Use your mini wor...|          null|Taming Little Mon...|African Art Proje...|            image|https://i.pinimg....|           art|           art|\n",
       " 4508.0|9064f4a2-2753-476...|Custom Event and ...|Personalize your ...|           111|Life of Neon | Cu...|Our Wedding,Weddi...|            image|https://i.pinimg....|event-planning|event-planning|\n",
       " 4076.0|3a52d364-7c04-47c...|Phonics Activitie...|Hi everyone! As a...|          null|   The Literacy Nest|Literacy Games,Ki...|            image|https://i.pinimg....|     education|     education|\n",
       " 2293.0|1fd7d4cc-54c1-454...|Over 40 of the BE...|Over 40 of the BE...|          null|Kitchen Fun With ...|Diy Christmas Lig...|            image|https://i.pinimg....|     christmas|     christmas|\n",
       "  159.0|841a161a-47b8-416...|Valentine&#39;s Day B...|This bee directed...|          null|Teachers Pay Teac...|Classroom Art Pro...|            image|https://i.pinimg....|           art|           art|\n",
       " 9979.0|2b2abc85-fc51-481...|Paris in the Summ...|Are you traveling...|          null|     Petite in Paris|Torre Eiffel Pari...|            image|https://i.pinimg....|        travel|        travel|\n",
       " 9759.0|d105eb6e-0f9f-46e...|8 Best Greek Isla...|Although you&#39;d th...|          null|TheFab20s | Trave...|Greek Islands To ...|            image|https://i.pinimg....|        travel|        travel|\n",
       " 2698.0|73f16302-4871-486...|DIY Dollar Tree V...|DIY Dollar Store ...|          null|  South Lumina Style|Valentine Day Wre...|            image|https://i.pinimg....|diy-and-crafts|diy-and-crafts|\n",
       " 6145.0|82e13a07-db99-43a...|HOLIDAY MANTLE DE...|Holiday mantle de...|          null|     Stylin by Aylin|Winter Home Decor...|            image|https://i.pinimg....|    home-decor|    home-decor|\n",
       "  427.0|4a455340-09a2-437...|DIY Acrylic Paint...|Easy to follow st...|          null|     Abbotts At Home|Acrylic Pouring A...|            video|https://i.pinimg....|           art|           art|\n",
       " 1704.0|5fbf9863-fb79-477...|Christmas Trees F...|Christmas Trees F...|          null|       Instructables|Pallet Wood Chris...|            image|https://i.pinimg....|     christmas|     christmas|\n",
       " 4315.0|21b59ba9-829d-4c3...|Podcasts for Teac...|Podcasts for Teac...|          null|        Math Giraffe|Middle School Cla...|            image|https://i.pinimg....|     education|     education|\n",
       " 4315.0|21b59ba9-829d-4c3...|Podcasts for Teac...|Podcasts for Teac...|          null|        Math Giraffe|Middle School Cla...|            image|https://i.pinimg....|     education|     education|\n",
       "+-------+--------------------+--------------------+--------------------+--------------+--------------------+--------------------+-----------------+--------------------+--------------+--------------+\n",
       "only showing top 20 rows\n",
       "\n",
       "</div>"
      ]
     },
     "metadata": {
      "application/vnd.databricks.v1+output": {
       "addedWidgets": {},
       "arguments": {},
       "data": "<div class=\"ansiout\">+-------+--------------------+--------------------+--------------------+--------------+--------------------+--------------------+-----------------+--------------------+--------------+--------------+\n|    ind|           unique_id|               title|         description|follower_count|         poster_name|            tag_list|is_image_or_video|           image_src| save_location|      category|\n+-------+--------------------+--------------------+--------------------+--------------+--------------------+--------------------+-----------------+--------------------+--------------+--------------+\n| 2482.0|08604f20-fa17-4b9...|FORNT PORCH CHRIS...|Christmas decorat...|          null|Life on Summerhil...|Diy Christmas Dec...|            video|https://i.pinimg....|     christmas|     christmas|\n|10138.0|927c4658-cc3f-4b9...|14 Amazing Things...|This Costa Rica i...|          null|Wanderlust Chloe ...|Costa Rica Travel...|            image|https://i.pinimg....|        travel|        travel|\n| 3156.0|fa6e31a4-18c2-4ec...|Handprint Reindee...|This post may con...|          null|Michelle {CraftyM...|Christmas Gifts F...|            image|https://i.pinimg....|diy-and-crafts|diy-and-crafts|\n| 3419.0|d0b80187-0171-49b...|Easy Christmas Tr...|Easy Christmas tr...|          null|Kids Crafts &amp; Fre...|Christmas Crafts ...|            image|https://i.pinimg....|diy-and-crafts|diy-and-crafts|\n| 5494.0|8fb2af68-543b-463...|Dave Ramsey&#39;s 7 B...|If you love budge...|          null|Living Low Key | ...|Financial Peace,F...|            image|https://i.pinimg....|       finance|       finance|\n| 2418.0|da8745a6-5160-46c...|100 DIY Christmas...|Here are the best...|          null|            HikenDip|Farmhouse Christm...|            image|https://i.pinimg....|     christmas|     christmas|\n| 7922.0|a584581c-1b38-473...|45 Top Life Quote...|summcoco gives yo...|          null|Sumcoco | Decor I...|Life Quotes Love,...|            image|https://i.pinimg....|        quotes|        quotes|\n|  771.0|a5021766-a8aa-4dc...|African Sunset Sh...|Use your mini wor...|          null|Taming Little Mon...|African Art Proje...|            image|https://i.pinimg....|           art|           art|\n| 4508.0|9064f4a2-2753-476...|Custom Event and ...|Personalize your ...|           111|Life of Neon | Cu...|Our Wedding,Weddi...|            image|https://i.pinimg....|event-planning|event-planning|\n| 4076.0|3a52d364-7c04-47c...|Phonics Activitie...|Hi everyone! As a...|          null|   The Literacy Nest|Literacy Games,Ki...|            image|https://i.pinimg....|     education|     education|\n| 2293.0|1fd7d4cc-54c1-454...|Over 40 of the BE...|Over 40 of the BE...|          null|Kitchen Fun With ...|Diy Christmas Lig...|            image|https://i.pinimg....|     christmas|     christmas|\n|  159.0|841a161a-47b8-416...|Valentine&#39;s Day B...|This bee directed...|          null|Teachers Pay Teac...|Classroom Art Pro...|            image|https://i.pinimg....|           art|           art|\n| 9979.0|2b2abc85-fc51-481...|Paris in the Summ...|Are you traveling...|          null|     Petite in Paris|Torre Eiffel Pari...|            image|https://i.pinimg....|        travel|        travel|\n| 9759.0|d105eb6e-0f9f-46e...|8 Best Greek Isla...|Although you&#39;d th...|          null|TheFab20s | Trave...|Greek Islands To ...|            image|https://i.pinimg....|        travel|        travel|\n| 2698.0|73f16302-4871-486...|DIY Dollar Tree V...|DIY Dollar Store ...|          null|  South Lumina Style|Valentine Day Wre...|            image|https://i.pinimg....|diy-and-crafts|diy-and-crafts|\n| 6145.0|82e13a07-db99-43a...|HOLIDAY MANTLE DE...|Holiday mantle de...|          null|     Stylin by Aylin|Winter Home Decor...|            image|https://i.pinimg....|    home-decor|    home-decor|\n|  427.0|4a455340-09a2-437...|DIY Acrylic Paint...|Easy to follow st...|          null|     Abbotts At Home|Acrylic Pouring A...|            video|https://i.pinimg....|           art|           art|\n| 1704.0|5fbf9863-fb79-477...|Christmas Trees F...|Christmas Trees F...|          null|       Instructables|Pallet Wood Chris...|            image|https://i.pinimg....|     christmas|     christmas|\n| 4315.0|21b59ba9-829d-4c3...|Podcasts for Teac...|Podcasts for Teac...|          null|        Math Giraffe|Middle School Cla...|            image|https://i.pinimg....|     education|     education|\n| 4315.0|21b59ba9-829d-4c3...|Podcasts for Teac...|Podcasts for Teac...|          null|        Math Giraffe|Middle School Cla...|            image|https://i.pinimg....|     education|     education|\n+-------+--------------------+--------------------+--------------------+--------------+--------------------+--------------------+-----------------+--------------------+--------------+--------------+\nonly showing top 20 rows\n\n</div>",
       "datasetInfos": [],
       "metadata": {},
       "removedWidgets": [],
       "type": "html"
      }
     },
     "output_type": "display_data"
    }
   ],
   "source": [
    "#Clean the df_pin Data Frame\n",
    "from pyspark.sql.functions import expr\n",
    "\n",
    "# a) Replace empty entries and entries with no relevant data in each column with Nones\n",
    "df_pin_cleaned = df_pin.na.replace('', None)\n",
    "\n",
    "# b) Perform the necessary transformations on the follower_count column\n",
    "df_pin_cleaned = df_pin_cleaned.withColumn(\"follower_count\", df_pin_cleaned[\"follower_count\"].cast(\"int\"))\n",
    "\n",
    "# c) Ensure that each column containing numeric data has a numeric data type\n",
    "numeric_columns = [\"downloaded\", \"index\"]\n",
    "for col in numeric_columns:\n",
    "    df_pin_cleaned = df_pin_cleaned.withColumn(col, df_pin_cleaned[col].cast(\"double\"))\n",
    "\n",
    "# d) Clean the data in the save_location column\n",
    "df_pin_cleaned = df_pin_cleaned.withColumn(\"save_location\", expr(\"substring_index(save_location, '/', -1)\"))\n",
    "\n",
    "# e) Rename the index column to ind\n",
    "df_pin_cleaned = df_pin_cleaned.withColumnRenamed(\"index\", \"ind\")\n",
    "\n",
    "# f) Reorder the DataFrame columns\n",
    "column_order = [\"ind\", \"unique_id\", \"title\", \"description\", \"follower_count\", \"poster_name\", \"tag_list\",\n",
    "                \"is_image_or_video\", \"image_src\", \"save_location\", \"category\"]\n",
    "\n",
    "df_pin_cleaned = df_pin_cleaned.select(column_order)\n",
    "\n",
    "# Save the cleaned DataFrame to the specified mount point\n",
    "output_path_pin = \"/mnt/diane_mount/cleaned_data/df_pin_cleaned\"\n",
    "df_pin_cleaned.write.mode(\"overwrite\").parquet(output_path_pin)\n",
    "\n",
    "# Show the cleaned DataFrame\n",
    "df_pin_cleaned.show()\n"
   ]
  },
  {
   "cell_type": "code",
   "execution_count": null,
   "metadata": {
    "application/vnd.databricks.v1+cell": {
     "cellMetadata": {
      "byteLimit": 2048000,
      "rowLimit": 10000
     },
     "inputWidgets": {},
     "nuid": "910774fe-af2d-4260-93b9-01f07e52b64f",
     "showTitle": false,
     "title": ""
    }
   },
   "outputs": [
    {
     "data": {
      "text/html": [
       "<style scoped>\n",
       "  .ansiout {\n",
       "    display: block;\n",
       "    unicode-bidi: embed;\n",
       "    white-space: pre-wrap;\n",
       "    word-wrap: break-word;\n",
       "    word-break: break-all;\n",
       "    font-family: \"Menlo\", \"Monaco\", \"Consolas\", \"Ubuntu Mono\", \"Source Code Pro\", monospace;\n",
       "    font-size: 13px;\n",
       "    color: #555;\n",
       "    margin-left: 4px;\n",
       "    line-height: 19px;\n",
       "  }\n",
       "</style>\n",
       "<div class=\"ansiout\">+-----+--------------------+--------------------+-------------------+\n",
       "  ind|             country|         coordinates|          timestamp|\n",
       "+-----+--------------------+--------------------+-------------------+\n",
       " 2418|Antarctica (the t...|[-88.4642, -171.061]|2022-05-27 11:30:59|\n",
       "10794|Cocos (Keeling) I...|[-89.5236, -154.567]|2022-01-01 02:26:50|\n",
       " 2074|Central African R...|  [-52.3213, -50.11]|2019-11-03 05:41:59|\n",
       " 2293|British Virgin Is...|[-87.7946, -159.647]|2022-03-21 10:46:53|\n",
       "10663|Saint Kitts and N...| [-27.3474, -162.83]|2019-07-25 18:53:51|\n",
       " 7922| Antigua and Barbuda|[-88.0974, -172.052]|2021-01-27 09:14:19|\n",
       " 8606| Antigua and Barbuda|[-88.0974, -172.052]|2021-03-28 14:54:07|\n",
       "  603|Netherlands Antilles| [14.0083, -141.603]|2019-06-25 05:13:01|\n",
       " 9979|  Dominican Republic| [14.9967, -120.682]|2018-07-18 19:01:46|\n",
       " 1704|    Christmas Island|[-56.8702, -93.6232]|2018-11-29 04:46:39|\n",
       " 7790|    Papua New Guinea|  [-43.692, 64.9839]|2018-07-31 08:19:15|\n",
       " 9759|      American Samoa|[-77.9744, -106.258]|2017-12-30 13:05:49|\n",
       " 1422|      American Samoa|[-88.5252, -172.436]|2018-04-30 08:27:21|\n",
       " 2923|       Cote d&#39;Ivoire|[-84.6302, -164.507]|2019-09-08 22:53:09|\n",
       " 8304|       French Guiana| [-28.8852, -164.87]|2019-09-13 04:50:29|\n",
       " 4315|       Cote d&#39;Ivoire| [-45.8508, 66.1003]|2019-12-15 03:51:28|\n",
       " 8578|       Guinea-Bissau| [34.6427, -161.397]|2018-01-26 19:27:11|\n",
       " 6844|       New Caledonia| [-22.6915, 5.69245]|2021-06-06 21:53:11|\n",
       " 3599|         Afghanistan|[-88.5478, -174.971]|2019-03-03 06:13:41|\n",
       " 5069|          Azerbaijan|[-63.0063, -157.474]|2021-03-20 09:32:44|\n",
       "+-----+--------------------+--------------------+-------------------+\n",
       "only showing top 20 rows\n",
       "\n",
       "</div>"
      ]
     },
     "metadata": {
      "application/vnd.databricks.v1+output": {
       "addedWidgets": {},
       "arguments": {},
       "data": "<div class=\"ansiout\">+-----+--------------------+--------------------+-------------------+\n|  ind|             country|         coordinates|          timestamp|\n+-----+--------------------+--------------------+-------------------+\n| 2418|Antarctica (the t...|[-88.4642, -171.061]|2022-05-27 11:30:59|\n|10794|Cocos (Keeling) I...|[-89.5236, -154.567]|2022-01-01 02:26:50|\n| 2074|Central African R...|  [-52.3213, -50.11]|2019-11-03 05:41:59|\n| 2293|British Virgin Is...|[-87.7946, -159.647]|2022-03-21 10:46:53|\n|10663|Saint Kitts and N...| [-27.3474, -162.83]|2019-07-25 18:53:51|\n| 7922| Antigua and Barbuda|[-88.0974, -172.052]|2021-01-27 09:14:19|\n| 8606| Antigua and Barbuda|[-88.0974, -172.052]|2021-03-28 14:54:07|\n|  603|Netherlands Antilles| [14.0083, -141.603]|2019-06-25 05:13:01|\n| 9979|  Dominican Republic| [14.9967, -120.682]|2018-07-18 19:01:46|\n| 1704|    Christmas Island|[-56.8702, -93.6232]|2018-11-29 04:46:39|\n| 7790|    Papua New Guinea|  [-43.692, 64.9839]|2018-07-31 08:19:15|\n| 9759|      American Samoa|[-77.9744, -106.258]|2017-12-30 13:05:49|\n| 1422|      American Samoa|[-88.5252, -172.436]|2018-04-30 08:27:21|\n| 2923|       Cote d&#39;Ivoire|[-84.6302, -164.507]|2019-09-08 22:53:09|\n| 8304|       French Guiana| [-28.8852, -164.87]|2019-09-13 04:50:29|\n| 4315|       Cote d&#39;Ivoire| [-45.8508, 66.1003]|2019-12-15 03:51:28|\n| 8578|       Guinea-Bissau| [34.6427, -161.397]|2018-01-26 19:27:11|\n| 6844|       New Caledonia| [-22.6915, 5.69245]|2021-06-06 21:53:11|\n| 3599|         Afghanistan|[-88.5478, -174.971]|2019-03-03 06:13:41|\n| 5069|          Azerbaijan|[-63.0063, -157.474]|2021-03-20 09:32:44|\n+-----+--------------------+--------------------+-------------------+\nonly showing top 20 rows\n\n</div>",
       "datasetInfos": [],
       "metadata": {},
       "removedWidgets": [],
       "type": "html"
      }
     },
     "output_type": "display_data"
    }
   ],
   "source": [
    "#Clean the geo data\n",
    "\n",
    "from pyspark.sql.functions import col, array, to_timestamp, expr\n",
    "\n",
    "# a) Create a new column 'coordinates' that contains an array based on the latitude and longitude columns\n",
    "df_geo_cleaned = df_geo.withColumn(\"coordinates\", array(col(\"latitude\"), col(\"longitude\")))\n",
    "\n",
    "# b) Drop the latitude and longitude columns from the DataFrame\n",
    "df_geo_cleaned = df_geo_cleaned.drop(\"latitude\", \"longitude\")\n",
    "\n",
    "# c) Convert the timestamp column from a string to a timestamp data type\n",
    "df_geo_cleaned = df_geo_cleaned.withColumn(\"timestamp\", to_timestamp(col(\"timestamp\")))\n",
    "\n",
    "# d) Reorder the DataFrame columns\n",
    "column_order_geo = [\"ind\", \"country\", \"coordinates\", \"timestamp\"]\n",
    "df_geo_cleaned = df_geo_cleaned.select(column_order_geo)\n",
    "\n",
    "# Save the cleaned DataFrame to the specified mount point\n",
    "output_path_geo = \"/mnt/diane_mount/cleaned_data/df_geo_cleaned\"\n",
    "df_geo_cleaned.write.mode(\"overwrite\").parquet(output_path_geo)\n",
    "\n",
    "# Show the cleaned DataFrame\n",
    "df_geo_cleaned.show()\n"
   ]
  },
  {
   "cell_type": "code",
   "execution_count": null,
   "metadata": {
    "application/vnd.databricks.v1+cell": {
     "cellMetadata": {
      "byteLimit": 2048000,
      "rowLimit": 10000
     },
     "inputWidgets": {},
     "nuid": "94bfeb32-8ebd-4fee-9c37-499847d4fb5b",
     "showTitle": false,
     "title": ""
    }
   },
   "outputs": [
    {
     "data": {
      "text/html": [
       "<style scoped>\n",
       "  .ansiout {\n",
       "    display: block;\n",
       "    unicode-bidi: embed;\n",
       "    white-space: pre-wrap;\n",
       "    word-wrap: break-word;\n",
       "    word-break: break-all;\n",
       "    font-family: \"Menlo\", \"Monaco\", \"Consolas\", \"Ubuntu Mono\", \"Source Code Pro\", monospace;\n",
       "    font-size: 13px;\n",
       "    color: #555;\n",
       "    margin-left: 4px;\n",
       "    line-height: 19px;\n",
       "  }\n",
       "</style>\n",
       "<div class=\"ansiout\">+-----+--------------------+---+-------------------+\n",
       "  ind|           user_name|age|        date_joined|\n",
       "+-----+--------------------+---+-------------------+\n",
       " 2015|Christopher Bradshaw| 27|2016-03-08 13:38:37|\n",
       " 6398| Christina Davenport| 39|2016-06-29 20:43:59|\n",
       " 3599| Alexandria Alvarado| 20|2015-10-23 04:13:23|\n",
       " 5076|  Christopher Butler| 20|2015-12-01 15:08:31|\n",
       " 7790|  Michelle Gutierrez| 39|2017-07-19 07:12:04|\n",
       "10509|   Brittany Thompson| 49|2016-04-22 20:36:02|\n",
       " 8731|    Andrea Alexander| 21|2015-11-10 09:27:42|\n",
       " 8887|    Austin Rodriguez| 24|2016-03-31 20:56:39|\n",
       " 7768|    Christine Cortez| 23|2015-12-01 18:15:02|\n",
       " 4315|     Michelle Prince| 36|2015-12-20 16:38:13|\n",
       "10625|      Christian Lang| 32|2017-10-10 20:09:33|\n",
       " 9672|     Jennifer Hudson| 22|2016-02-11 20:46:04|\n",
       " 8930|     Andrew Anderson| 23|2015-11-28 11:52:37|\n",
       " 6566|     Alexander Perez| 31|2017-08-04 14:30:22|\n",
       " 3729|     Richard Edwards| 52|2016-02-07 20:00:25|\n",
       "10552|      Michael Hunter| 40|2017-05-16 07:09:21|\n",
       " 1313|      Brittany Jones| 32|2016-04-02 03:51:23|\n",
       "10794|       Thomas Turner| 34|2016-12-22 00:02:02|\n",
       " 2959|      David Griffith| 20|2016-01-07 19:49:22|\n",
       " 9875|      Brendan Joseph| 26|2015-12-20 10:28:00|\n",
       "+-----+--------------------+---+-------------------+\n",
       "only showing top 20 rows\n",
       "\n",
       "</div>"
      ]
     },
     "metadata": {
      "application/vnd.databricks.v1+output": {
       "addedWidgets": {},
       "arguments": {},
       "data": "<div class=\"ansiout\">+-----+--------------------+---+-------------------+\n|  ind|           user_name|age|        date_joined|\n+-----+--------------------+---+-------------------+\n| 2015|Christopher Bradshaw| 27|2016-03-08 13:38:37|\n| 6398| Christina Davenport| 39|2016-06-29 20:43:59|\n| 3599| Alexandria Alvarado| 20|2015-10-23 04:13:23|\n| 5076|  Christopher Butler| 20|2015-12-01 15:08:31|\n| 7790|  Michelle Gutierrez| 39|2017-07-19 07:12:04|\n|10509|   Brittany Thompson| 49|2016-04-22 20:36:02|\n| 8731|    Andrea Alexander| 21|2015-11-10 09:27:42|\n| 8887|    Austin Rodriguez| 24|2016-03-31 20:56:39|\n| 7768|    Christine Cortez| 23|2015-12-01 18:15:02|\n| 4315|     Michelle Prince| 36|2015-12-20 16:38:13|\n|10625|      Christian Lang| 32|2017-10-10 20:09:33|\n| 9672|     Jennifer Hudson| 22|2016-02-11 20:46:04|\n| 8930|     Andrew Anderson| 23|2015-11-28 11:52:37|\n| 6566|     Alexander Perez| 31|2017-08-04 14:30:22|\n| 3729|     Richard Edwards| 52|2016-02-07 20:00:25|\n|10552|      Michael Hunter| 40|2017-05-16 07:09:21|\n| 1313|      Brittany Jones| 32|2016-04-02 03:51:23|\n|10794|       Thomas Turner| 34|2016-12-22 00:02:02|\n| 2959|      David Griffith| 20|2016-01-07 19:49:22|\n| 9875|      Brendan Joseph| 26|2015-12-20 10:28:00|\n+-----+--------------------+---+-------------------+\nonly showing top 20 rows\n\n</div>",
       "datasetInfos": [],
       "metadata": {},
       "removedWidgets": [],
       "type": "html"
      }
     },
     "output_type": "display_data"
    }
   ],
   "source": [
    "#clean the user data frame\n",
    "\n",
    "from pyspark.sql.functions import col, concat_ws, to_timestamp\n",
    "\n",
    "# a) Create a new column 'user_name' that concatenates the information found in the first_name and last_name columns\n",
    "df_user_cleaned = df_user.withColumn(\"user_name\", concat_ws(\" \", col(\"first_name\"), col(\"last_name\")))\n",
    "\n",
    "# b) Drop the first_name and last_name columns from the DataFrame\n",
    "df_user_cleaned = df_user_cleaned.drop(\"first_name\", \"last_name\")\n",
    "\n",
    "# c) Convert the date_joined column from a string to a timestamp data type\n",
    "df_user_cleaned = df_user_cleaned.withColumn(\"date_joined\", to_timestamp(col(\"date_joined\")))\n",
    "\n",
    "# d) Reorder the DataFrame columns\n",
    "column_order_user = [\"ind\", \"user_name\", \"age\", \"date_joined\"]\n",
    "df_user_cleaned = df_user_cleaned.select(column_order_user)\n",
    "\n",
    "# Save the cleaned DataFrame to the specified mount point\n",
    "output_path_user = \"/mnt/diane_mount/cleaned_data/df_user_cleaned\"\n",
    "df_user_cleaned.write.mode(\"overwrite\").parquet(output_path_user)\n",
    "\n",
    "# Show the cleaned DataFrame\n",
    "df_user_cleaned.show()\n"
   ]
  },
  {
   "cell_type": "markdown",
   "metadata": {
    "application/vnd.databricks.v1+cell": {
     "cellMetadata": {},
     "inputWidgets": {},
     "nuid": "c617137c-1491-4e24-a149-707a659362f0",
     "showTitle": false,
     "title": ""
    }
   },
   "source": [
    "##Checking the Data Frames"
   ]
  },
  {
   "cell_type": "code",
   "execution_count": null,
   "metadata": {
    "application/vnd.databricks.v1+cell": {
     "cellMetadata": {
      "byteLimit": 2048000,
      "rowLimit": 10000
     },
     "inputWidgets": {},
     "nuid": "0bcc096f-7228-42e0-b495-73e1ca183fb8",
     "showTitle": false,
     "title": ""
    }
   },
   "outputs": [
    {
     "data": {
      "text/html": [
       "<style scoped>\n",
       "  .table-result-container {\n",
       "    max-height: 300px;\n",
       "    overflow: auto;\n",
       "  }\n",
       "  table, th, td {\n",
       "    border: 1px solid black;\n",
       "    border-collapse: collapse;\n",
       "  }\n",
       "  th, td {\n",
       "    padding: 5px;\n",
       "  }\n",
       "  th {\n",
       "    text-align: left;\n",
       "  }\n",
       "</style><div class='table-result-container'><table class='table-result'><thead style='background-color: white'><tr><th>country</th><th>ind</th><th>latitude</th><th>longitude</th><th>timestamp</th></tr></thead><tbody><tr><td>Antarctica (the territory South of 60 deg S)</td><td>2418</td><td>-88.4642</td><td>-171.061</td><td>2022-05-27 11:30:59</td></tr><tr><td>Cocos (Keeling) Islands</td><td>10794</td><td>-89.5236</td><td>-154.567</td><td>2022-01-01 02:26:50</td></tr><tr><td>Central African Republic</td><td>2074</td><td>-52.3213</td><td>-50.11</td><td>2019-11-03 05:41:59</td></tr><tr><td>British Virgin Islands</td><td>2293</td><td>-87.7946</td><td>-159.647</td><td>2022-03-21 10:46:53</td></tr><tr><td>Saint Kitts and Nevis</td><td>10663</td><td>-27.3474</td><td>-162.83</td><td>2019-07-25 18:53:51</td></tr><tr><td>Antigua and Barbuda</td><td>7922</td><td>-88.0974</td><td>-172.052</td><td>2021-01-27 09:14:19</td></tr><tr><td>Antigua and Barbuda</td><td>8606</td><td>-88.0974</td><td>-172.052</td><td>2021-03-28 14:54:07</td></tr><tr><td>Netherlands Antilles</td><td>603</td><td>14.0083</td><td>-141.603</td><td>2019-06-25 05:13:01</td></tr><tr><td>Dominican Republic</td><td>9979</td><td>14.9967</td><td>-120.682</td><td>2018-07-18 19:01:46</td></tr><tr><td>Christmas Island</td><td>1704</td><td>-56.8702</td><td>-93.6232</td><td>2018-11-29 04:46:39</td></tr><tr><td>Papua New Guinea</td><td>7790</td><td>-43.692</td><td>64.9839</td><td>2018-07-31 08:19:15</td></tr><tr><td>American Samoa</td><td>9759</td><td>-77.9744</td><td>-106.258</td><td>2017-12-30 13:05:49</td></tr><tr><td>American Samoa</td><td>1422</td><td>-88.5252</td><td>-172.436</td><td>2018-04-30 08:27:21</td></tr><tr><td>Cote d'Ivoire</td><td>2923</td><td>-84.6302</td><td>-164.507</td><td>2019-09-08 22:53:09</td></tr><tr><td>French Guiana</td><td>8304</td><td>-28.8852</td><td>-164.87</td><td>2019-09-13 04:50:29</td></tr><tr><td>Cote d'Ivoire</td><td>4315</td><td>-45.8508</td><td>66.1003</td><td>2019-12-15 03:51:28</td></tr><tr><td>Guinea-Bissau</td><td>8578</td><td>34.6427</td><td>-161.397</td><td>2018-01-26 19:27:11</td></tr><tr><td>New Caledonia</td><td>6844</td><td>-22.6915</td><td>5.69245</td><td>2021-06-06 21:53:11</td></tr><tr><td>Afghanistan</td><td>3599</td><td>-88.5478</td><td>-174.971</td><td>2019-03-03 06:13:41</td></tr><tr><td>Azerbaijan</td><td>5069</td><td>-63.0063</td><td>-157.474</td><td>2021-03-20 09:32:44</td></tr><tr><td>Mozambique</td><td>6145</td><td>-65.9079</td><td>-143.845</td><td>2019-12-05 02:09:44</td></tr><tr><td>Philippines</td><td>4508</td><td>69.1858</td><td>-76.0761</td><td>2019-01-04 11:15:27</td></tr><tr><td>Madagascar</td><td>4988</td><td>-32.1879</td><td>-35.2784</td><td>2020-07-11 11:01:12</td></tr><tr><td>Isle of Man</td><td>427</td><td>-66.9418</td><td>-30.0087</td><td>2020-04-22 03:08:50</td></tr><tr><td>Bangladesh</td><td>428</td><td>-83.4105</td><td>-150.788</td><td>2020-09-27 18:46:41</td></tr><tr><td>Australia</td><td>7343</td><td>-65.4428</td><td>-161.684</td><td>2018-08-06 12:17:07</td></tr><tr><td>Seychelles</td><td>8653</td><td>48.4569</td><td>-139.658</td><td>2022-04-11 18:30:19</td></tr><tr><td>Isle of Man</td><td>5468</td><td>-83.544</td><td>33.9473</td><td>2020-05-16 23:17:50</td></tr><tr><td>Argentina</td><td>8930</td><td>-89.4739</td><td>-176.154</td><td>2021-09-29 13:25:49</td></tr><tr><td>Australia</td><td>7294</td><td>-76.2967</td><td>-136.501</td><td>2018-02-12 08:06:28</td></tr><tr><td>Montserrat</td><td>771</td><td>-29.1712</td><td>-107.111</td><td>2018-06-21 08:42:57</td></tr><tr><td>Mauritania</td><td>4076</td><td>-67.2157</td><td>27.8139</td><td>2019-06-07 20:13:50</td></tr><tr><td>Gibraltar</td><td>10509</td><td>-67.187</td><td>-24.2977</td><td>2019-03-06 12:21:56</td></tr><tr><td>Australia</td><td>9936</td><td>-82.1715</td><td>-147.691</td><td>2018-06-30 22:07:13</td></tr><tr><td>Cape Verde</td><td>6566</td><td>-39.225</td><td>-71.6593</td><td>2020-11-19 10:06:13</td></tr><tr><td>Bulgaria</td><td>5494</td><td>-82.6768</td><td>-129.202</td><td>2021-07-21 02:02:35</td></tr><tr><td>Anguilla</td><td>6063</td><td>-89.1797</td><td>-174.015</td><td>2021-07-20 09:02:47</td></tr><tr><td>Cambodia</td><td>3454</td><td>-0.375174</td><td>49.8106</td><td>2021-07-25 02:20:29</td></tr><tr><td>Jamaica</td><td>10625</td><td>-84.4944</td><td>-81.0613</td><td>2018-07-13 11:51:15</td></tr><tr><td>Barbados</td><td>9875</td><td>-74.3382</td><td>-110.484</td><td>2020-03-20 13:03:18</td></tr><tr><td>Botswana</td><td>8887</td><td>-28.0137</td><td>-160.708</td><td>2021-09-19 05:27:43</td></tr><tr><td>Australia</td><td>4137</td><td>-55.3079</td><td>108.918</td><td>2019-06-23 22:16:34</td></tr><tr><td>Argentina</td><td>1268</td><td>-41.7803</td><td>-177.23</td><td>2019-07-06 04:10:29</td></tr><tr><td>Albania</td><td>7528</td><td>-89.9787</td><td>-173.293</td><td>2020-08-28 03:52:47</td></tr><tr><td>Armenia</td><td>2863</td><td>-5.34445</td><td>-177.924</td><td>2020-04-27 13:34:16</td></tr><tr><td>Colombia</td><td>5730</td><td>-77.015</td><td>-101.437</td><td>2021-04-19 17:37:03</td></tr><tr><td>Albania</td><td>3089</td><td>-89.9787</td><td>-173.293</td><td>2018-02-28 05:31:29</td></tr><tr><td>Austria</td><td>10138</td><td>-72.142</td><td>-74.3545</td><td>2019-08-03 00:59:29</td></tr><tr><td>Austria</td><td>9546</td><td>-70.0295</td><td>-155.428</td><td>2018-02-10 06:16:40</td></tr><tr><td>Albania</td><td>2411</td><td>-71.6856</td><td>-179.126</td><td>2020-11-15 17:10:07</td></tr><tr><td>Algeria</td><td>9590</td><td>-64.3876</td><td>-174.281</td><td>2019-05-20 19:48:48</td></tr><tr><td>Germany</td><td>5076</td><td>-70.7195</td><td>-91.1935</td><td>2019-05-05 16:22:23</td></tr><tr><td>Barbados</td><td>205</td><td>-75.8378</td><td>-163.945</td><td>2020-07-08 14:10:38</td></tr><tr><td>Armenia</td><td>1094</td><td>-46.7328</td><td>-124.445</td><td>2018-08-19 00:34:20</td></tr><tr><td>Bahrain</td><td>5630</td><td>-19.1403</td><td>-164.987</td><td>2019-05-12 14:43:19</td></tr><tr><td>Albania</td><td>6398</td><td>-3.29267</td><td>-179.726</td><td>2020-01-19 01:49:05</td></tr><tr><td>Afghanistan</td><td>46</td><td>4.21689</td><td>-145.82</td><td>2018-09-15 09:16:57</td></tr><tr><td>Grenada</td><td>10552</td><td>32.7568</td><td>-179.812</td><td>2020-08-24 11:39:32</td></tr><tr><td>Maldives</td><td>1313</td><td>77.0447</td><td>61.9119</td><td>2018-06-26 02:39:25</td></tr><tr><td>Angola</td><td>2959</td><td>-68.0095</td><td>-157.227</td><td>2019-08-19 08:22:02</td></tr><tr><td>Armenia</td><td>3156</td><td>-84.738</td><td>-160.795</td><td>2018-01-13 19:33:49</td></tr><tr><td>Armenia</td><td>719</td><td>-38.4062</td><td>-154.323</td><td>2018-10-29 04:05:12</td></tr><tr><td>Bermuda</td><td>2482</td><td>63.4563</td><td>-164.709</td><td>2019-09-13 08:20:13</td></tr><tr><td>Albania</td><td>808</td><td>-71.6856</td><td>-179.126</td><td>2019-01-03 15:43:12</td></tr><tr><td>Anguilla</td><td>1545</td><td>-30.18</td><td>-72.3784</td><td>2022-06-17 05:47:12</td></tr><tr><td>Armenia</td><td>2015</td><td>-17.629</td><td>-177.685</td><td>2018-09-22 13:52:19</td></tr><tr><td>Algeria</td><td>7768</td><td>-88.355</td><td>-96.0131</td><td>2018-05-25 21:34:19</td></tr><tr><td>Turkey</td><td>3729</td><td>-24.4793</td><td>-150.145</td><td>2018-01-17 03:43:38</td></tr><tr><td>Andorra</td><td>159</td><td>-88.0812</td><td>-166.603</td><td>2017-11-20 21:14:56</td></tr><tr><td>Sudan</td><td>7554</td><td>-51.2172</td><td>-77.9768</td><td>2019-03-20 03:15:07</td></tr><tr><td>Aruba</td><td>4913</td><td>-84.3768</td><td>-157.544</td><td>2019-03-08 06:45:39</td></tr><tr><td>Aruba</td><td>7166</td><td>-86.4063</td><td>-136.657</td><td>2022-07-25 03:07:37</td></tr><tr><td>Bhutan</td><td>3419</td><td>7.60293</td><td>-108.979</td><td>2021-12-20 05:01:54</td></tr><tr><td>Algeria</td><td>1555</td><td>-1.7046</td><td>-55.332</td><td>2017-12-24 18:41:23</td></tr><tr><td>Aruba</td><td>8731</td><td>-83.104</td><td>-171.302</td><td>2020-07-17 04:39:09</td></tr><tr><td>India</td><td>9672</td><td>79.4658</td><td>-69.4133</td><td>2019-11-03 13:15:52</td></tr><tr><td>Congo</td><td>831</td><td>-43.7816</td><td>-66.1592</td><td>2021-06-23 23:16:10</td></tr><tr><td>Aruba</td><td>3800</td><td>-61.471</td><td>-154.912</td><td>2018-01-27 16:49:07</td></tr><tr><td>Tonga</td><td>1014</td><td>81.1477</td><td>69.3538</td><td>2022-02-03 22:05:34</td></tr><tr><td>Egypt</td><td>2698</td><td>-72.7174</td><td>24.169</td><td>2021-11-24 08:33:51</td></tr></tbody></table></div>"
      ]
     },
     "metadata": {
      "application/vnd.databricks.v1+output": {
       "addedWidgets": {},
       "aggData": [],
       "aggError": "",
       "aggOverflow": false,
       "aggSchema": [],
       "aggSeriesLimitReached": false,
       "aggType": "",
       "arguments": {},
       "columnCustomDisplayInfos": {},
       "data": [
        [
         "Antarctica (the territory South of 60 deg S)",
         2418,
         -88.4642,
         -171.061,
         "2022-05-27 11:30:59"
        ],
        [
         "Cocos (Keeling) Islands",
         10794,
         -89.5236,
         -154.567,
         "2022-01-01 02:26:50"
        ],
        [
         "Central African Republic",
         2074,
         -52.3213,
         -50.11,
         "2019-11-03 05:41:59"
        ],
        [
         "British Virgin Islands",
         2293,
         -87.7946,
         -159.647,
         "2022-03-21 10:46:53"
        ],
        [
         "Saint Kitts and Nevis",
         10663,
         -27.3474,
         -162.83,
         "2019-07-25 18:53:51"
        ],
        [
         "Antigua and Barbuda",
         7922,
         -88.0974,
         -172.052,
         "2021-01-27 09:14:19"
        ],
        [
         "Antigua and Barbuda",
         8606,
         -88.0974,
         -172.052,
         "2021-03-28 14:54:07"
        ],
        [
         "Netherlands Antilles",
         603,
         14.0083,
         -141.603,
         "2019-06-25 05:13:01"
        ],
        [
         "Dominican Republic",
         9979,
         14.9967,
         -120.682,
         "2018-07-18 19:01:46"
        ],
        [
         "Christmas Island",
         1704,
         -56.8702,
         -93.6232,
         "2018-11-29 04:46:39"
        ],
        [
         "Papua New Guinea",
         7790,
         -43.692,
         64.9839,
         "2018-07-31 08:19:15"
        ],
        [
         "American Samoa",
         9759,
         -77.9744,
         -106.258,
         "2017-12-30 13:05:49"
        ],
        [
         "American Samoa",
         1422,
         -88.5252,
         -172.436,
         "2018-04-30 08:27:21"
        ],
        [
         "Cote d'Ivoire",
         2923,
         -84.6302,
         -164.507,
         "2019-09-08 22:53:09"
        ],
        [
         "French Guiana",
         8304,
         -28.8852,
         -164.87,
         "2019-09-13 04:50:29"
        ],
        [
         "Cote d'Ivoire",
         4315,
         -45.8508,
         66.1003,
         "2019-12-15 03:51:28"
        ],
        [
         "Guinea-Bissau",
         8578,
         34.6427,
         -161.397,
         "2018-01-26 19:27:11"
        ],
        [
         "New Caledonia",
         6844,
         -22.6915,
         5.69245,
         "2021-06-06 21:53:11"
        ],
        [
         "Afghanistan",
         3599,
         -88.5478,
         -174.971,
         "2019-03-03 06:13:41"
        ],
        [
         "Azerbaijan",
         5069,
         -63.0063,
         -157.474,
         "2021-03-20 09:32:44"
        ],
        [
         "Mozambique",
         6145,
         -65.9079,
         -143.845,
         "2019-12-05 02:09:44"
        ],
        [
         "Philippines",
         4508,
         69.1858,
         -76.0761,
         "2019-01-04 11:15:27"
        ],
        [
         "Madagascar",
         4988,
         -32.1879,
         -35.2784,
         "2020-07-11 11:01:12"
        ],
        [
         "Isle of Man",
         427,
         -66.9418,
         -30.0087,
         "2020-04-22 03:08:50"
        ],
        [
         "Bangladesh",
         428,
         -83.4105,
         -150.788,
         "2020-09-27 18:46:41"
        ],
        [
         "Australia",
         7343,
         -65.4428,
         -161.684,
         "2018-08-06 12:17:07"
        ],
        [
         "Seychelles",
         8653,
         48.4569,
         -139.658,
         "2022-04-11 18:30:19"
        ],
        [
         "Isle of Man",
         5468,
         -83.544,
         33.9473,
         "2020-05-16 23:17:50"
        ],
        [
         "Argentina",
         8930,
         -89.4739,
         -176.154,
         "2021-09-29 13:25:49"
        ],
        [
         "Australia",
         7294,
         -76.2967,
         -136.501,
         "2018-02-12 08:06:28"
        ],
        [
         "Montserrat",
         771,
         -29.1712,
         -107.111,
         "2018-06-21 08:42:57"
        ],
        [
         "Mauritania",
         4076,
         -67.2157,
         27.8139,
         "2019-06-07 20:13:50"
        ],
        [
         "Gibraltar",
         10509,
         -67.187,
         -24.2977,
         "2019-03-06 12:21:56"
        ],
        [
         "Australia",
         9936,
         -82.1715,
         -147.691,
         "2018-06-30 22:07:13"
        ],
        [
         "Cape Verde",
         6566,
         -39.225,
         -71.6593,
         "2020-11-19 10:06:13"
        ],
        [
         "Bulgaria",
         5494,
         -82.6768,
         -129.202,
         "2021-07-21 02:02:35"
        ],
        [
         "Anguilla",
         6063,
         -89.1797,
         -174.015,
         "2021-07-20 09:02:47"
        ],
        [
         "Cambodia",
         3454,
         -0.375174,
         49.8106,
         "2021-07-25 02:20:29"
        ],
        [
         "Jamaica",
         10625,
         -84.4944,
         -81.0613,
         "2018-07-13 11:51:15"
        ],
        [
         "Barbados",
         9875,
         -74.3382,
         -110.484,
         "2020-03-20 13:03:18"
        ],
        [
         "Botswana",
         8887,
         -28.0137,
         -160.708,
         "2021-09-19 05:27:43"
        ],
        [
         "Australia",
         4137,
         -55.3079,
         108.918,
         "2019-06-23 22:16:34"
        ],
        [
         "Argentina",
         1268,
         -41.7803,
         -177.23,
         "2019-07-06 04:10:29"
        ],
        [
         "Albania",
         7528,
         -89.9787,
         -173.293,
         "2020-08-28 03:52:47"
        ],
        [
         "Armenia",
         2863,
         -5.34445,
         -177.924,
         "2020-04-27 13:34:16"
        ],
        [
         "Colombia",
         5730,
         -77.015,
         -101.437,
         "2021-04-19 17:37:03"
        ],
        [
         "Albania",
         3089,
         -89.9787,
         -173.293,
         "2018-02-28 05:31:29"
        ],
        [
         "Austria",
         10138,
         -72.142,
         -74.3545,
         "2019-08-03 00:59:29"
        ],
        [
         "Austria",
         9546,
         -70.0295,
         -155.428,
         "2018-02-10 06:16:40"
        ],
        [
         "Albania",
         2411,
         -71.6856,
         -179.126,
         "2020-11-15 17:10:07"
        ],
        [
         "Algeria",
         9590,
         -64.3876,
         -174.281,
         "2019-05-20 19:48:48"
        ],
        [
         "Germany",
         5076,
         -70.7195,
         -91.1935,
         "2019-05-05 16:22:23"
        ],
        [
         "Barbados",
         205,
         -75.8378,
         -163.945,
         "2020-07-08 14:10:38"
        ],
        [
         "Armenia",
         1094,
         -46.7328,
         -124.445,
         "2018-08-19 00:34:20"
        ],
        [
         "Bahrain",
         5630,
         -19.1403,
         -164.987,
         "2019-05-12 14:43:19"
        ],
        [
         "Albania",
         6398,
         -3.29267,
         -179.726,
         "2020-01-19 01:49:05"
        ],
        [
         "Afghanistan",
         46,
         4.21689,
         -145.82,
         "2018-09-15 09:16:57"
        ],
        [
         "Grenada",
         10552,
         32.7568,
         -179.812,
         "2020-08-24 11:39:32"
        ],
        [
         "Maldives",
         1313,
         77.0447,
         61.9119,
         "2018-06-26 02:39:25"
        ],
        [
         "Angola",
         2959,
         -68.0095,
         -157.227,
         "2019-08-19 08:22:02"
        ],
        [
         "Armenia",
         3156,
         -84.738,
         -160.795,
         "2018-01-13 19:33:49"
        ],
        [
         "Armenia",
         719,
         -38.4062,
         -154.323,
         "2018-10-29 04:05:12"
        ],
        [
         "Bermuda",
         2482,
         63.4563,
         -164.709,
         "2019-09-13 08:20:13"
        ],
        [
         "Albania",
         808,
         -71.6856,
         -179.126,
         "2019-01-03 15:43:12"
        ],
        [
         "Anguilla",
         1545,
         -30.18,
         -72.3784,
         "2022-06-17 05:47:12"
        ],
        [
         "Armenia",
         2015,
         -17.629,
         -177.685,
         "2018-09-22 13:52:19"
        ],
        [
         "Algeria",
         7768,
         -88.355,
         -96.0131,
         "2018-05-25 21:34:19"
        ],
        [
         "Turkey",
         3729,
         -24.4793,
         -150.145,
         "2018-01-17 03:43:38"
        ],
        [
         "Andorra",
         159,
         -88.0812,
         -166.603,
         "2017-11-20 21:14:56"
        ],
        [
         "Sudan",
         7554,
         -51.2172,
         -77.9768,
         "2019-03-20 03:15:07"
        ],
        [
         "Aruba",
         4913,
         -84.3768,
         -157.544,
         "2019-03-08 06:45:39"
        ],
        [
         "Aruba",
         7166,
         -86.4063,
         -136.657,
         "2022-07-25 03:07:37"
        ],
        [
         "Bhutan",
         3419,
         7.60293,
         -108.979,
         "2021-12-20 05:01:54"
        ],
        [
         "Algeria",
         1555,
         -1.7046,
         -55.332,
         "2017-12-24 18:41:23"
        ],
        [
         "Aruba",
         8731,
         -83.104,
         -171.302,
         "2020-07-17 04:39:09"
        ],
        [
         "India",
         9672,
         79.4658,
         -69.4133,
         "2019-11-03 13:15:52"
        ],
        [
         "Congo",
         831,
         -43.7816,
         -66.1592,
         "2021-06-23 23:16:10"
        ],
        [
         "Aruba",
         3800,
         -61.471,
         -154.912,
         "2018-01-27 16:49:07"
        ],
        [
         "Tonga",
         1014,
         81.1477,
         69.3538,
         "2022-02-03 22:05:34"
        ],
        [
         "Egypt",
         2698,
         -72.7174,
         24.169,
         "2021-11-24 08:33:51"
        ]
       ],
       "datasetInfos": [],
       "dbfsResultPath": null,
       "isJsonSchema": true,
       "metadata": {},
       "overflow": false,
       "plotOptions": {
        "customPlotOptions": {},
        "displayType": "table",
        "pivotAggregation": null,
        "pivotColumns": null,
        "xColumns": null,
        "yColumns": null
       },
       "removedWidgets": [],
       "schema": [
        {
         "metadata": "{}",
         "name": "country",
         "type": "\"string\""
        },
        {
         "metadata": "{}",
         "name": "ind",
         "type": "\"long\""
        },
        {
         "metadata": "{}",
         "name": "latitude",
         "type": "\"double\""
        },
        {
         "metadata": "{}",
         "name": "longitude",
         "type": "\"double\""
        },
        {
         "metadata": "{}",
         "name": "timestamp",
         "type": "\"string\""
        }
       ],
       "type": "table"
      }
     },
     "output_type": "display_data"
    }
   ],
   "source": [
    "display(df_geo)"
   ]
  },
  {
   "cell_type": "code",
   "execution_count": null,
   "metadata": {
    "application/vnd.databricks.v1+cell": {
     "cellMetadata": {
      "byteLimit": 2048000,
      "rowLimit": 10000
     },
     "inputWidgets": {},
     "nuid": "9bd4dc22-4b5f-40b0-b7dc-53b2ebf5518b",
     "showTitle": false,
     "title": ""
    }
   },
   "outputs": [
    {
     "data": {
      "text/html": [
       "<style scoped>\n",
       "  .table-result-container {\n",
       "    max-height: 300px;\n",
       "    overflow: auto;\n",
       "  }\n",
       "  table, th, td {\n",
       "    border: 1px solid black;\n",
       "    border-collapse: collapse;\n",
       "  }\n",
       "  th, td {\n",
       "    padding: 5px;\n",
       "  }\n",
       "  th {\n",
       "    text-align: left;\n",
       "  }\n",
       "</style><div class='table-result-container'><table class='table-result'><thead style='background-color: white'><tr><th>category</th><th>description</th><th>downloaded</th><th>follower_count</th><th>image_src</th><th>index</th><th>is_image_or_video</th><th>poster_name</th><th>save_location</th><th>tag_list</th><th>title</th><th>unique_id</th></tr></thead><tbody><tr><td>christmas</td><td>Christmas decorating ideas for porches. Beautiful holiday decor ideas for front porches both small and large. Outdoor decorations like sleds, lanterns, Christmas trees, wreaths,… </td><td>1</td><td>46k</td><td>https://i.pinimg.com/videos/thumbnails/originals/40/83/f5/4083f5b4971bf235f89a4784ab87271e.0000001.jpg</td><td>2482</td><td>video</td><td>Life on Summerhill | Home, Holiday Decor & DIY Website</td><td>Local save in /data/christmas</td><td>Diy Christmas Decorations For Home,Farmhouse Christmas Decor,Christmas Home,Christmas Holidays,Christmas Front Porches,How To Decorate For Christmas,Christmas Porch Ideas,Christmas Decorating Ideas,Large Outdoor Christmas Decorations</td><td>FORNT PORCH CHRISTMAS DECORATING IDEAS</td><td>08604f20-fa17-4b9a-9949-781717eca6cd</td></tr><tr><td>travel</td><td>This Costa Rica itinerary is the ultimate guide to spending two weeks in Costa Rica. Find out about visiting La Fortuna, Arenal, Monteverde, Naranjo, Corcovado National Park, Or… </td><td>1</td><td>10k</td><td>https://i.pinimg.com/originals/30/93/cb/3093cb01d9de2d125fda8ba5e3e41946.jpg</td><td>10138</td><td>image</td><td>Wanderlust Chloe ✈️ Travel guides, inspo and adventure travel ✈️</td><td>Local save in /data/travel</td><td>Costa Rica Travel,Rio Celeste Costa Rica,Dream Vacations,Vacation Spots,Vacation Travel,Travel Pictures,Travel Photos,Fortuna Costa Rica,Costa Rica Pictures</td><td>14 Amazing Things To Do In Costa Rica | Volcanoes, Waterfalls, Wildlife And More</td><td>927c4658-cc3f-4b92-9b5c-70743d0c238d</td></tr><tr><td>diy-and-crafts</td><td>This post may contain affiliate links, read our Disclosure Policy for more information. As an Amazon Associate I earn from qualifying purchases, thank you! Make some cute handpr… </td><td>1</td><td>892k</td><td>https://i.pinimg.com/originals/ff/fe/38/fffe384f3ec18a0d87cb2d80cc8c1499.jpg</td><td>3156</td><td>image</td><td>Michelle {CraftyMorning.com}</td><td>Local save in /data/diy-and-crafts</td><td>Christmas Gifts For Parents,Christmas Decorations For Kids,Christmas Crafts For Toddlers,Preschool Christmas,Christmas Crafts For Gifts,Christmas Activities,Toddler Crafts,Kids Christmas,Christmas Feeling</td><td>Handprint Reindeer Ornaments - Crafty Morning</td><td>fa6e31a4-18c2-4eca-a6d8-e903eee2c2a4</td></tr><tr><td>diy-and-crafts</td><td>Easy Christmas tree Craft Ideas for toddlers and preschoolers. Engage your kids in these DIY</td><td>1</td><td>3k</td><td>https://i.pinimg.com/originals/69/f0/75/69f075939d4449dffa69519756c30e26.png</td><td>3419</td><td>image</td><td>Kids Crafts & Free Preschool Printables- Sharing Our Experiences</td><td>Local save in /data/diy-and-crafts</td><td>Christmas Crafts For Kids To Make,Christmas Tree Painting,Christmas Activities For Kids,Easy Christmas Crafts For Toddlers,Kid Activities,Christmas Handprint Crafts,Christmas Tree Crafts,Christmas Baby,Xmas Tree</td><td>Easy Christmas Tree Crafts Ideas for toddlers and preschoolers | Sharing Our Experiences</td><td>d0b80187-0171-49b2-8ee4-572984244f65</td></tr><tr><td>finance</td><td>If you love budgeting, make sure to give Dave Ramsey's 7 Baby Steps a try. Follow these steps to begin your debt snowball, build an emergency fund, invest and reach riches. I ca… </td><td>1</td><td>26k</td><td>https://i.pinimg.com/originals/1e/9d/90/1e9d906e4e150e3b95187f3b76ea7c71.png</td><td>5494</td><td>image</td><td>Living Low Key | Save Money, Make Money, & Frugal Living</td><td>Local save in /data/finance</td><td>Financial Peace,Financial Tips,Saving Money Quotes,Total Money Makeover,Budgeting Finances,Money Management,Wealth Management,Personal Finance,Making Ideas</td><td>Dave Ramsey's 7 Baby Steps: What Are They And Will They Work For You</td><td>8fb2af68-543b-4639-8119-de33d28706ed</td></tr><tr><td>christmas</td><td>Here are the best DIY Christmas Centerpieces ideas perfect for your Christmas & holiday season home decor. From Christmas Vignettes to Table Centerpieces.</td><td>1</td><td>500k</td><td>https://i.pinimg.com/originals/aa/6d/0f/aa6d0f44d7c1c96b998cb9aa6c4446b8.png</td><td>2418</td><td>image</td><td>HikenDip</td><td>Local save in /data/christmas</td><td>Farmhouse Christmas Decor,Rustic Christmas,Christmas Time,Vintage Christmas,Xmas,Primitive Christmas Crafts,Christmas Vignette,Indoor Christmas Decorations,Diy Christmas Ornaments</td><td>100 DIY Christmas Centerpieces You'll Love To Decorate Your Home With For The Christmas Season - Hike n Dip</td><td>da8745a6-5160-46c4-877d-181d50a729fd</td></tr><tr><td>quotes</td><td>summcoco gives you inspiration for the women fashion trends you want. Thinking about a new look or lifestyle? This is your ultimate resource to get the hottest trends. 45 Top Li… </td><td>1</td><td>306k</td><td>https://i.pinimg.com/originals/bb/c0/e6/bbc0e6a797079505f11ac12bcb0b8c66.jpg</td><td>7922</td><td>image</td><td>Sumcoco | Decor Ideas, Hairstyles, Nails Fashion Advice</td><td>Local save in /data/quotes</td><td>Life Quotes Love,Inspirational Quotes About Love,Mood Quotes,Motivational Quotes,Tears Quotes,Quotes About Sadness,Deep Quotes About Life,Quotes Quotes,Quote Life</td><td>45 Top Life Quotes School Did Not Teach You</td><td>a584581c-1b38-4731-a1cc-f36115ecf229</td></tr><tr><td>art</td><td>Use your mini world figures to create this beautiful African sunset. Your kids will love learning about shadows, angles and distortion in this fun art and STEM activity for kids.</td><td>1</td><td>4k</td><td>https://i.pinimg.com/originals/e3/aa/35/e3aa350f8f104d0e59f26d7f17ea7461.png</td><td>771</td><td>image</td><td>Taming Little Monsters - Fun Activities for Kids</td><td>Local save in /data/art</td><td>African Art Projects,Cool Art Projects,Projects For Kids,African Art For Kids,African Crafts Kids,Art Club Projects,Art Education Projects,Tracing Art,African Sunset</td><td>African Sunset Shadow Tracing Art - Taming Little Monsters</td><td>a5021766-a8aa-4dc7-9857-4da6b8e3dc1a</td></tr><tr><td>event-planning</td><td>Personalize your event or shop with a customized neon sign. Make a statement with your own custom vibes! This light is 32 -40 inches (80cm-100cm) if you need something bigger, p… </td><td>1</td><td>111</td><td>https://i.pinimg.com/originals/e9/c0/7c/e9c07cf0cf16cab23764a36718ab76c1.jpg</td><td>4508</td><td>image</td><td>Life of Neon | Custom Neon Light Signs | Home Decor Wall Art</td><td>Local save in /data/event-planning</td><td>Our Wedding,Wedding Venues,Dream Wedding,Wedding Cakes,Church Wedding,Wedding Flowers,Lace Wedding,Wedding Rings,Wedding Dresses</td><td>Custom Event and Shop Neon Sign Lights - Event & Shop</td><td>9064f4a2-2753-476c-815e-db360f45a93e</td></tr><tr><td>education</td><td>Hi everyone! As a teacher using the Orton-Gillingham approach, I am constantly looking for phonics activities that my students will find fun and engaging. Using Orton-Gillingham… </td><td>1</td><td>22k</td><td>https://i.pinimg.com/originals/58/8e/38/588e380b19942a71a86a69d9c9973d25.png</td><td>4076</td><td>image</td><td>The Literacy Nest</td><td>Local save in /data/education</td><td>Literacy Games,Kindergarten Activities,Literacy Centers,Fun Phonics Activities,Listening Activities,Vocabulary Games,Literacy Stations,Letter Activities,Montessori Activities</td><td>Phonics Activities Your Kids Will Love - The Literacy Nest</td><td>3a52d364-7c04-47cb-a3e5-56d9e2b77528</td></tr><tr><td>christmas</td><td>Over 40 of the BEST Homemade Christmas Ornaments...these easy Holiday crafts are so fun to make for Kids and Adults! Lots of great class party ideas!</td><td>1</td><td>245k</td><td>https://i.pinimg.com/originals/d0/d3/a3/d0d3a31e87296224d5ba8896904b5b88.jpg</td><td>2293</td><td>image</td><td>Kitchen Fun With My 3 Sons</td><td>Local save in /data/christmas</td><td>Diy Christmas Lights,Homemade Christmas Decorations,Christmas Crafts For Gifts,Mini Christmas Tree,Christmas Ornament Crafts,Homemade Christmas Gifts,Xmas Decorations,Simple Christmas,Handmade Christmas</td><td>Over 40 of the BEST Homemade Christmas Ornament Ideas</td><td>1fd7d4cc-54c1-4542-9c1f-449cb4c875f4</td></tr><tr><td>art</td><td>This bee directed drawing and associated pages will help you create a fun and creative Valentine's Day Directed Drawing Art Project activity for your class.Choose to do a painti… </td><td>1</td><td>1M</td><td>https://i.pinimg.com/originals/49/ff/2e/49ff2e83c0cefdd37213f6084c6f0566.jpg</td><td>159</td><td>image</td><td>Teachers Pay Teachers</td><td>Local save in /data/art</td><td>Classroom Art Projects,School Art Projects,Art Classroom,Art Projects For Kindergarteners,Spring Art Projects,Classroom Posters,Valentines Art Lessons,Valentines Day Activities,Grade 1 Art</td><td>Valentine's Day Bee Directed Drawing {Art Project}</td><td>841a161a-47b8-4161-884d-adeb67a28b1e</td></tr><tr><td>travel</td><td>Are you traveling to Paris during the summer? Find out what to do in Paris, France during the summer. Fun summertime activities in Paris. Enjoy the incredible outdoors when trav… </td><td>1</td><td>3k</td><td>https://i.pinimg.com/originals/6c/4c/90/6c4c90bba27ebf8c8bfe4c1acfb9f07a.jpg</td><td>9979</td><td>image</td><td>Petite in Paris</td><td>Local save in /data/travel</td><td>Torre Eiffel Paris,Tour Eiffel,Picnic In Paris,Hello France,Voyage Europe,Destination Voyage,Beautiful Places To Travel,Travel Aesthetic,Paris Travel</td><td>Paris in the Summer. 10 fun things to do in Paris in the Summertime • Petite in Paris</td><td>2b2abc85-fc51-481f-8ae6-17681993da28</td></tr><tr><td>travel</td><td>Although you'd think Greek islands are fairly similar, you'd be completely wrong! Each island has it's own personality and appeal. Here are the 8 Best Greek Islands to visit, es… </td><td>1</td><td>42k</td><td>https://i.pinimg.com/originals/06/1d/ce/061dce38929dec8e74844442116bea4a.jpg</td><td>9759</td><td>image</td><td>TheFab20s | Travel+Food+DIY+Listicles</td><td>Local save in /data/travel</td><td>Greek Islands To Visit,Best Greek Islands,Greece Islands,Cool Places To Visit,Places To Go,Best Places In Portugal,Copenhagen Travel,Paros Island,Santorini Island</td><td>8 Best Greek Islands You Have To Visit - TheFab20s</td><td>d105eb6e-0f9f-46e7-8d02-d24b62f6ae90</td></tr><tr><td>diy-and-crafts</td><td>DIY Dollar Store Valentine’s Day Heart Wreath Decoration. There are so many great Valentine crafts at the Dollar Tree right now! During our last trip, we picked up a few supplie… </td><td>1</td><td>9k</td><td>https://i.pinimg.com/originals/dc/f6/8a/dcf68adcc63c339c24fa5664f1115994.png</td><td>2698</td><td>image</td><td>South Lumina Style</td><td>Local save in /data/diy-and-crafts</td><td>Valentine Day Wreaths,Valentines Day Hearts,Valentines Day Decorations,Valentine Day Crafts,Holiday Crafts,Diy Christmas,Christmas Wreaths,Valentine Tree,Printable Valentine</td><td>DIY Dollar Tree Valentine's Day Wreath</td><td>73f16302-4871-486a-8836-947530526337</td></tr><tr><td>home-decor</td><td>Holiday mantle decor, Christmas decor, metallic mercury glass style Christmas trees, eucalyptus vine, evergreen pine branches, white neutral holiday decor, cozy mantle for the h… </td><td>1</td><td>83k</td><td>https://i.pinimg.com/originals/9d/82/1a/9d821a80acd8f90c16454e978bd9b115.jpg</td><td>6145</td><td>image</td><td>Stylin by Aylin</td><td>Local save in /data/home-decor</td><td>Winter Home Decor,Christmas Living Room Decor,Living Room Decor Cozy,Christmas Decor,Cozy Fireplace,Rustic Fireplace Decor,Fireplace Decorations,Rustic Room,House Decorations</td><td>HOLIDAY MANTLE DECOR - @AMAZON & @TARGET FINDS</td><td>82e13a07-db99-43a3-b1c0-89a4b75821da</td></tr><tr><td>art</td><td>Easy to follow steps for this easy DIY wall art. Acrylic Paint Pouring with a blow dryer, Dutch paint pour. Written steps and full step by step video to help you do it too! 👍</td><td>1</td><td>52k</td><td>https://i.pinimg.com/videos/thumbnails/originals/d5/5e/fa/d55efa6ef50d35dac425cea935f39c89.0000001.jpg</td><td>427</td><td>video</td><td>Abbotts At Home</td><td>Local save in /data/art</td><td>Acrylic Pouring Art,Acrylic Wall Art,Acrylic Pouring Techniques,Acrylic Paintings,Art Paintings,Marble Art,Marble Painting,Pour Painting,Large Canvas Art</td><td>DIY Acrylic Paint Pouring Wall Art - Abbotts At Home</td><td>4a455340-09a2-4370-ad86-73d7964603db</td></tr><tr><td>christmas</td><td>Christmas Trees From Pallet Wood | Holiday DIY: Deck the yard with some fun outdoor Christmas Trees! We made these merry and bright decorations from two old pallets we had lying… </td><td>1</td><td>3M</td><td>https://i.pinimg.com/originals/64/7b/ca/647bca35169b7c144604116c64bcba8a.png</td><td>1704</td><td>image</td><td>Instructables</td><td>Local save in /data/christmas</td><td>Pallet Wood Christmas Tree,Wooden Christmas Crafts,Diy Christmas Tree,Christmas Projects,Holiday Crafts,Wooden Xmas Trees,Different Christmas Trees,Pallet Tree,Christmas Kitchen</td><td>Christmas Trees From Pallet Wood | Holiday DIY</td><td>5fbf9863-fb79-477c-a5b6-540c3020a55f</td></tr><tr><td>education</td><td>Podcasts for Teachers or Parents of Teenagers: Teaching teens middle school and high school can feel joyful and rewarding most days, but can also frustrate you with one challeng… </td><td>1</td><td>25k</td><td>https://i.pinimg.com/originals/50/19/31/501931a27ee4d076658980851b995b2c.jpg</td><td>4315</td><td>image</td><td>Math Giraffe</td><td>Local save in /data/education</td><td>Middle School Classroom,High School Students,High School Teachers,Middle School Tips,High School Counseling,Ela Classroom,High School Science,Future Classroom,Google Classroom</td><td>Podcasts for Teachers or Parents of Teenagers</td><td>21b59ba9-829d-4c33-8c27-4cd4c56d26b8</td></tr><tr><td>education</td><td>Podcasts for Teachers or Parents of Teenagers: Teaching teens middle school and high school can feel joyful and rewarding most days, but can also frustrate you with one challeng… </td><td>1</td><td>25k</td><td>https://i.pinimg.com/originals/50/19/31/501931a27ee4d076658980851b995b2c.jpg</td><td>4315</td><td>image</td><td>Math Giraffe</td><td>Local save in /data/education</td><td>Middle School Classroom,High School Students,High School Teachers,Middle School Tips,High School Counseling,Ela Classroom,High School Science,Future Classroom,Google Classroom</td><td>Podcasts for Teachers or Parents of Teenagers</td><td>21b59ba9-829d-4c33-8c27-4cd4c56d26b8</td></tr><tr><td>education</td><td>This book presents 10 inspirational case studies of how centre leaders, principals and leadership teams in high-needs New Zealand educational settings have enacted leadership to… </td><td>1</td><td>2M</td><td>https://i.pinimg.com/originals/0e/ea/c4/0eeac457780bbe43fcc5e9eaabd80f62.jpg</td><td>3599</td><td>image</td><td>Walmart</td><td>Local save in /data/education</td><td>Research Studies,Educational Leadership,Education System,Secondary School,Try It Free,Book Format,Social Justice,Young People,Paperback Books</td><td>Educational Leadership in Aotearoa New Zealand : Issues of Context and Social Justice</td><td>ff0dd945-dafa-411c-8cef-eb43e374e815</td></tr><tr><td>event-planning</td><td>Sacramento California Wedding 2 Chic Events & Design Jodi Yorston Photography Wilson Vineyards Barn Miosa Couture Yellow Barn Vineyard Outdoor Candles DIY</td><td>1</td><td>6M</td><td>https://i.pinimg.com/originals/7e/45/90/7e45905fefa36347e83333fd6d091140.jpg</td><td>5069</td><td>image</td><td>Style Me Pretty</td><td>Local save in /data/event-planning</td><td>60th Anniversary Parties,Anniversary Decorations,Golden Anniversary,25th Wedding Anniversary,Anniversary Pictures,Anniversary Ideas,Birthday Decorations,Event Planning Design,Event Design</td><td>The Vault: Curated & Refined Wedding Inspiration</td><td>b75b6f87-deb3-444f-b29e-ce9161b2df49</td></tr><tr><td>mens-fashion</td><td>Black And Brown Outfits You Need To Try This Fall Season. The trick with black and brown outfits is to know how to combine colors, fabrics, and shapes to get a cohesive look. So… </td><td>1</td><td>1M</td><td>https://i.pinimg.com/originals/3e/49/09/3e4909c0ccc4dbba3cad83d97eab4a61.png</td><td>7343</td><td>image</td><td>Cultura Colectiva</td><td>Local save in /data/mens-fashion</td><td>Winter Outfits Men,Stylish Mens Outfits,Casual Outfits,Men Casual,Smart Casual,Outfits For Men,Fall Outfits,Mens Winter Boots,Business Casual Men</td><td>This Fashion Rule Is Nonsense, And We Should All Forget About It</td><td>b8c63a95-6fe8-4d7f-9455-1eef3462fee0</td></tr><tr><td>tattoos</td><td>summcoco gives you inspiration for the women fashion trends you want. Thinking about a new look or lifestyle? This is your ultimate resource to get the hottest trends. 30+ Eagle… </td><td>1</td><td>306k</td><td>https://i.pinimg.com/originals/8d/c6/ed/8dc6ed0b212393187a14c7d07a88060f.png</td><td>8606</td><td>image</td><td>Sumcoco | Decor Ideas, Hairstyles, Nails Fashion Advice</td><td>Local save in /data/tattoos</td><td>White Bird Tattoos,Rose Tattoos,Flower Tattoos,Tattoo Black,Bird And Flower Tattoo,Tattoo Floral,Mini Tattoos,Flower Art,Girls With Sleeve Tattoos</td><td>30+ Eagle Tattoos Ideas for Women</td><td>71757040-bfc8-4631-9cac-22801e61d9e3</td></tr><tr><td>home-decor</td><td>Beautiful and easy ways to update every room in your home with fall decor. Plus, my favorite finds in fall decor for 2020!</td><td>1</td><td>92k</td><td>https://i.pinimg.com/originals/e5/ae/dc/e5aedc14ce557e3a69f672e0f8c88f6e.png</td><td>6063</td><td>image</td><td>Kristen | Lifestyle, Mom Tips & Teacher Stuff Blog</td><td>Local save in /data/home-decor</td><td>Fall Home Decor,Autumn Home,Fall Decor Outdoor,Front Porch Fall Decor,Home Decor Ideas,Porch Ideas For Fall,Fall Outdoor Decorating,Decorating Ideas For Fall,Fall Front Doors</td><td>41 Gorgeous Fall Decor Ideas For Your Home - Chaylor & Mads</td><td>60693727-4927-4bd6-a8c5-096a392d63e6</td></tr><tr><td>event-planning</td><td>So you're thinking of getting your event planner certification, but how much do you REALLY know about event planning? Event planners need to be knowledgeable and able to answer… </td><td>1</td><td>5k</td><td>https://i.pinimg.com/originals/6f/19/bc/6f19bce24921bf843540fc04da9eb6bf.jpg</td><td>5076</td><td>image</td><td>QC Career School</td><td>Local save in /data/event-planning</td><td>Diy Wedding Food,Best Wedding Makeup,Wedding Events,Wedding Tips,Wedding Stuff,Weddings,Event Planning Business,Business Events,Wedding Makeup Tutorial</td><td>Quiz: Test Your Event IQ! - Pointers For Planners</td><td>fa3af29c-dc78-4eed-a4c5-52a407ea04c0</td></tr><tr><td>tattoos</td><td>Snake temporary tattoo for collarbone. Spooky 3D tattoo for Halloween Includes 2 copies, 1 for the right side and 1 for the left side Apply with water and remove anytime with ba… </td><td>1</td><td>0</td><td>https://i.pinimg.com/originals/d8/b7/a1/d8b7a11a3fe64e7fab91d3afb1536537.jpg</td><td>8578</td><td>image</td><td>Livitrevisani</td><td>Local save in /data/tattoos</td><td>Finger Tattoo Designs,Small Tattoo Designs,Finger Tattoos,Small 3d Tattoos,Cool Tattoos,Line Work Tattoo,Back Tattoo,Collarbone Tattoo,Tattoo Neck</td><td>Snake Collarbone Temporary Tattoo. Halloween Tattoos  Spooky | Etsy</td><td>036ec267-658b-4dad-a097-8ef0b4f30c0d</td></tr><tr><td>education</td><td>15 Essential Classroom Items For First Year Teachers / First Year Teacher Must Haves</td><td>1</td><td>5k</td><td>https://i.pinimg.com/originals/4b/b9/a8/4bb9a85f609a8384ed9c9ab14e7bcea0.jpg</td><td>4137</td><td>image</td><td>Write Your Story | Budgeting, Healthy Lifestyle, Faith</td><td>Local save in /data/education</td><td>1st Year Teachers,First Year Teaching,First Grade Teachers,Elementary Teacher,Montessori Elementary,Teaching Reading,History Teachers,High School Classroom,First Grade Classroom</td><td>15 Essential Classroom Items For First Year Teachers / First Year Teacher Must Haves</td><td>bf275054-4464-448b-9143-1bf101aa366d</td></tr><tr><td>home-decor</td><td>Celebrate fall with a neutral color palette with natural elements. This Navy and Neutral Fall Living Room + Kitchen Tour will make you rethink fall decor.</td><td>1</td><td>178k</td><td>https://i.pinimg.com/originals/f1/be/b6/f1beb6d3414f1c52929df39a83d8da9f.jpg</td><td>6566</td><td>image</td><td>Sand and Sisal</td><td>Local save in /data/home-decor</td><td>Fall Living Room,Coastal Living Rooms,Living Room Paint,Living Room Kitchen,Living Room Interior,Living Room Furniture,Living Room Decor,Living Area,Small Living</td><td>Navy and Neutral Fall Living Room + Kitchen Tour - Sand and Sisal</td><td>6d8848f8-f515-4935-8dae-5dd02304d76e</td></tr><tr><td>christmas</td><td>Transform mini terra cotta pots into the sweetest gingerbread house ornaments! Kids will love making this adorable Christmas craft to hang on the tree.</td><td>1</td><td>20k</td><td>https://i.pinimg.com/originals/13/28/09/1328097d7c290d1bf8642b01a6ba1c6c.jpg</td><td>2411</td><td>image</td><td>Projects with Kids</td><td>Local save in /data/christmas</td><td>Noel Christmas,Diy Christmas Ornaments,Homemade Christmas,Simple Christmas,Gingerbread Ornaments,Christmas Gingerbread,Gingerbread Houses,Preschool Christmas,Ornaments Ideas</td><td>The Sweetest Gingerbread House Ornaments Kids Can Make</td><td>4e11801e-7a64-4f1e-90dd-e900677595c5</td></tr><tr><td>mens-fashion</td><td>Women's T-shirt. Design inspired by the rock band The Killers' hit \"Mr. Brightside\". One of the greatest song from the album Hot Fuss released in 2004. Soft and light, 100% cott… </td><td>1</td><td>27</td><td>https://i.pinimg.com/originals/8c/42/39/8c42391d35fcad51a4a79f7cd81bf26d.jpg</td><td>7166</td><td>image</td><td>Mala Rock | Rock T-shirts</td><td>Local save in /data/mens-fashion</td><td>Mr Brightside,Rock T Shirts,Greatest Songs,Timeless Classic,Rock Bands,Album,T Shirts For Women,Inspired,Hot</td><td>The Killers - Mr. Brightside - Women's T-Shirt - Heather Dark Grey / S</td><td>4a844b03-e161-47a1-904b-591eb5dc4fb1</td></tr><tr><td>tattoos</td><td>We have put together the Ultimative Sunflower Tattoo Collection in 2020. Check out our highest rated handpicked Sunflower designs here!</td><td>1</td><td>800k</td><td>https://i.pinimg.com/originals/18/de/6c/18de6c81a8637e224c7d63dce1414ceb.jpg</td><td>8930</td><td>image</td><td>Next Luxury</td><td>Local save in /data/tattoos</td><td>Sunflower Tattoo Sleeve,Sunflower Tattoo Shoulder,Sunflower Tattoo Small,Sunflower Tattoos,Sunflower Tattoo Design,Shoulder Tattoo,Sunflower Mandala Tattoo,Sunflower Tattoo Meaning,Form Tattoo</td><td>135 Sunflower Tattoo Ideas - [Best Rated Designs in 2021]</td><td>a2999c28-f7b2-4577-af87-49d21d6d8a18</td></tr><tr><td>travel</td><td>On our Calgary to Vancouver road trip we got to spend time in Banff, Canada. We visited the stunning Lake Moraine as well as Lake Louise and plenty of other of Canada's natural… </td><td>1</td><td>7k</td><td>https://i.pinimg.com/videos/thumbnails/originals/57/9d/52/579d52242ae5609978c754d393e44e81.0000001.jpg</td><td>9672</td><td>video</td><td>Travel Mad Mum</td><td>Local save in /data/travel</td><td>Beautiful Places To Travel,Cool Places To Visit,Beautiful Roads,Beautiful Scenery,Wonderful Places,Lac Moraine,Moraine Lake,Lac Louise,Natur Wallpaper</td><td>Lake Moraine, Banff, Canada</td><td>1a5050a4-ac82-472c-aeff-3457de8bbee9</td></tr><tr><td>education</td><td>Our family would rather spend time outdoors than indoors. We love nature! That said, sometimes mother nature is uncooperative. On these days, it can be fun to pull out some natu… </td><td>1</td><td>9k</td><td>https://i.pinimg.com/originals/d6/3b/1a/d63b1a2a36534ecac5d1fbd0d932403a.jpg</td><td>3729</td><td>image</td><td>My Little Poppies (Cait Curley, MA/CAGS)</td><td>Local save in /data/education</td><td>Diy Nature,Theme Nature,Nature Study,Science And Nature,Summer Science,Earth Science,Nature Crafts,Outdoor Education,Outdoor Learning</td><td>5 + Nature Games for Your Homeschool</td><td>ac90f1d2-dc9e-438c-b073-dd48511b80b0</td></tr><tr><td>mens-fashion</td><td>Looking for the coolest fall fashion for men this season? Click to read this article on fall fashion for men to look sharp on LLEGANCE.</td><td>1</td><td>28k</td><td>https://i.pinimg.com/originals/4c/bf/2d/4cbf2d6e04d2502612169220553f4cef.jpg</td><td>7294</td><td>image</td><td>LLEGANCE | Workwear Fashion Woman Advice For Driven Professionals</td><td>Local save in /data/mens-fashion</td><td>Fashion 90s,Autumn Fashion,Fashion Ideas,Trendy Fashion,Fashion Photo,Fashion Outfits,Fashion Trends,Urban Fashion Men,Men's Casual Fashion</td><td>Foolproof Fall Fashion For Men You'll Love</td><td>9d8409ef-bea7-4133-a021-c58b9c042210</td></tr><tr><td>christmas</td><td>Take a look at this new collection of Christmas decor featuring 16 Blissful Christmas Table Decor Ideas That You Must See. Happy holidays!</td><td>1</td><td>616k</td><td>https://i.pinimg.com/originals/5f/70/30/5f7030a35bb8a1491e915fb0ae29bcf5.jpg</td><td>2015</td><td>image</td><td>ArchitectureArtDesigns</td><td>Local save in /data/christmas</td><td>Kids Crafts,Christmas Crafts For Kids,Homemade Christmas,Christmas Projects,Holiday Crafts,Christmas Gift Ideas,Preschool Christmas,Tree Crafts,Christmas Inspiration</td><td>16 Blissful Christmas Table Decor Ideas That You Must See</td><td>72359164-4419-452c-81cb-74f30a5a26b7</td></tr><tr><td>event-planning</td><td>Do you love planning parties? Do you want to work-at-home? This post covers everything you need to know about becoming a home-based event planner!</td><td>1</td><td>110k</td><td>https://i.pinimg.com/originals/4d/a3/a4/4da3a4730418239f1b43ce81fb032c15.jpg</td><td>4913</td><td>image</td><td>The Work at Home Woman</td><td>Local save in /data/event-planning</td><td>Event Planning Tips,Event Planning Business,Party Planning,Business Ideas,Craft Business,Business Chic,Business Inspiration,Business Goals,Business Opportunities</td><td>How to Work From Home as an Event Planner</td><td>4d2d79c6-9ca8-46c9-a38e-931c5d967804</td></tr><tr><td>diy-and-crafts</td><td>One thing I love about Crafts is how the evolve! These toilet paper rolls are adorable and modern. I love that something as simple as a recycled toilet paper roll can be taken t… </td><td>1</td><td>502k</td><td>https://i.pinimg.com/originals/c6/cd/0d/c6cd0d04da9cfc11566cfd34eeb1f918.jpg</td><td>2959</td><td>image</td><td>CraftGossip.com</td><td>Local save in /data/diy-and-crafts</td><td>Toilet Paper Roll Crafts,Cardboard Crafts,Diy Paper,Paper Crafting,Toilet Paper Rolls,Cardboard Playhouse,Paper Art,Kids Crafts,Toddler Crafts</td><td>The Cutest Toilet Paper Crafts</td><td>439cac4b-18e8-4aaa-88c5-edb26a701111</td></tr><tr><td>travel</td><td>35 European bucket list destinations for any traveler heading to Europe. From Cinque Terre, Italy to Iceland - there are so many amazing sites to see in Europe.</td><td>1</td><td>28k</td><td>https://i.pinimg.com/originals/71/04/1a/71041ad83ede43d9665741e719c58a86.jpg</td><td>9875</td><td>image</td><td>Nicki </td><td>Local save in /data/travel</td><td>Backpacking Europe,Europe Travel Guide,Travel Guides,Travel Packing,Traveling Europe,Travelling,Travel Backpack,Budget Travel,2 Week Europe Itinerary</td><td>European Bucket List: 35 Things NOT To Miss When Traveling Europe</td><td>782dcbad-ff91-40a6-ba60-216efe29adb7</td></tr><tr><td>art</td><td>Fashion designer Issac Mizrahi’s Greenwich Village home is an amalgamation of three apartments that was 20 years in the making</td><td>1</td><td>3M</td><td>https://i.pinimg.com/originals/f4/6c/54/f46c546a2e480022a42d842b7dca157e.jpg</td><td>428</td><td>image</td><td>Architectural Digest</td><td>Local save in /data/art</td><td>Modern Art,Contemporary Art,Contemporary Kitchens,Contemporary Bedroom,New York City Apartment,Manhattan Apartment,Art Moderne,Architectural Digest,Painting Inspiration</td><td>Fashion Designer Isaac Mizrahi’s Updated 1930s New York City Apartment</td><td>610b3f83-9fe0-469d-946c-d16b577fca71</td></tr><tr><td>education</td><td>behavior, special education, token boards, when token boards don't work, money token systems</td><td>1</td><td>11k</td><td>https://i.pinimg.com/originals/24/f9/e2/24f9e22ada4a79c61432ef6c8fe1d0f9.jpg</td><td>3800</td><td>image</td><td>Traci Bender - The Bender Bunch</td><td>Local save in /data/education</td><td>Special Education Behavior,Classroom Behavior Management,Behavior Plans,Behaviour Management,Behavior Charts,Behavior Board,Behavior Report,Behavior Analyst,Preschool Special Education</td><td>Reinforcing the Difficult Child When Token Boards Don't Work!</td><td>d2c367ed-9287-4ea3-b173-198b292d9981</td></tr><tr><td>diy-and-crafts</td><td>HELPFUL RESOURCES – Check out my resin colorants resources page here with links to all the products mentioned in this article (and more). Let me know if you have any that you lo… </td><td>1</td><td>6k</td><td>https://i.pinimg.com/originals/d4/12/78/d4127833023ca32600571ddca16f1556.jpg</td><td>3454</td><td>image</td><td>Mixed Media Crafts</td><td>Local save in /data/diy-and-crafts</td><td>Epoxy Resin Art,Diy Resin Art,Diy Resin Crafts,Resin Molds,Ice Resin,Resin Pour,Diy Epoxy,Diy Resin Painting,Diy Resin Dice</td><td>What can you use to color resin?</td><td>46bd3f86-b09d-4e29-9033-7ff2df595e51</td></tr><tr><td>home-decor</td><td>No description available Story format</td><td>1</td><td>117k</td><td>https://i.pinimg.com/videos/thumbnails/originals/75/48/3b/75483b74822855519ec8b40df4c670ef.0000001.jpg</td><td>6398</td><td>multi-video(story page format)</td><td>MojisStyle</td><td>Local save in /data/home-decor</td><td>Decor Home Living Room,Home And Living,Diy Bedroom Decor,Home Decor,Bathroom Interior Design,Interior Design Living Room,Dream Home Design,House Design,Beautiful Bathrooms</td><td>My master bathroom makeover with @flooranddecor ! Follow me on Instagram @Mojisstyle for more</td><td>ea44d318-2ced-4cf8-a66f-a6a036b84faa</td></tr><tr><td>finance</td><td>Description Coupon Organizer in a fun colorful fabric -island oasis, Great Size for the \"basic\" couponer - holds up to 500 coupons with ease, and is made long enough so that you… </td><td>1</td><td>0</td><td>https://i.pinimg.com/originals/65/bb/ea/65bbeaf458907bb079317d8303c4fa0e.jpg</td><td>5730</td><td>image</td><td>Consuelo Aguirre</td><td>Local save in /data/finance</td><td>Grocery Items,Grocery Coupons,Care Organization,Coupon Organization,Extreme Couponing,Couponing 101,Life Binder,Save My Money,Love Coupons</td><td>Island Oasis Coupon Organizer</td><td>1e1f0c8b-9fcf-460b-9154-c775827206eb</td></tr><tr><td>finance</td><td>Description Coupon Organizer in a fun colorful fabric -island oasis, Great Size for the \"basic\" couponer - holds up to 500 coupons with ease, and is made long enough so that you… </td><td>1</td><td>0</td><td>https://i.pinimg.com/originals/65/bb/ea/65bbeaf458907bb079317d8303c4fa0e.jpg</td><td>5730</td><td>image</td><td>Consuelo Aguirre</td><td>Local save in /data/finance</td><td>Grocery Items,Grocery Coupons,Care Organization,Coupon Organization,Extreme Couponing,Couponing 101,Life Binder,Save My Money,Love Coupons</td><td>Island Oasis Coupon Organizer</td><td>1e1f0c8b-9fcf-460b-9154-c775827206eb</td></tr><tr><td>vehicles</td><td>January 23, 2009 We can see emergency responders queueing up for this one. ATVCorp has created versions of its Prowler Light Tactical All Terrain Vehicle (LTATV) for fire-fighti… </td><td>1</td><td>314</td><td>https://i.pinimg.com/originals/14/6b/6b/146b6b1a1127773f7046e08550e68ed0.jpg</td><td>10552</td><td>image</td><td>p hump</td><td>Local save in /data/vehicles</td><td>Army Vehicles,Armored Vehicles,Go Kart Buggy,Atv Attachments,Aviation Fuel,Special Forces,Special Ops,Terrain Vehicle,Emergency Response</td><td>The Prowler Emergency Response Vehicle</td><td>17301b8c-ccbb-42ad-b2df-3876df35b1cd</td></tr><tr><td>art</td><td>Learn to create alcohol ink rings for gorgeous pieces of art. Each ring sits on top of another, giving a multilayered appearance</td><td>1</td><td>7k</td><td>https://i.pinimg.com/originals/03/03/1f/03031fdc9775d0c06f61d68e51362379.png</td><td>603</td><td>image</td><td>Kim Cook-Thirteen Chairs-Slates Mugs And Tees</td><td>Local save in /data/art</td><td>Alcohol Ink Tiles,Alcohol Ink Glass,Alcohol Ink Crafts,Alcohol Ink Painting,Pour Painting,Zealand Tattoo,Copics,Types Of Art,Art Techniques</td><td>How to Create Alcohol Ink Rings For Gorgeous Pieces of Art -</td><td>78e21a64-53b0-4745-8294-e8c456f0ccc1</td></tr><tr><td>art</td><td>10 art sub lessons that only need a pencil. Cover lessons for art teachers. Make the perfect art sub lessson folder with this amazing resources.</td><td>1</td><td>25k</td><td>https://i.pinimg.com/originals/ee/a8/78/eea878911033897d981a69d9f6b2fb7c.png</td><td>719</td><td>image</td><td>The Arty Teacher</td><td>Local save in /data/art</td><td>Art Lessons For Kids,Art Lessons Elementary,Art For Kids,Art Sub Plans,Art Lesson Plans,Art Substitute Plans,High School Art,Middle School Art,Primary School Art</td><td>10 Art Sub Lessons that only need a Pencil</td><td>d7c53e34-9540-4f48-a31b-89b6ed1852bb</td></tr><tr><td>christmas</td><td>20 Christmas Decorating Ideas We Bet You Haven't Thought Of via @PureWow</td><td>1</td><td>868k</td><td>https://i.pinimg.com/originals/e9/b9/f0/e9b9f01cc3b2cf41948b45854335396c.jpg</td><td>2074</td><td>image</td><td>PureWow</td><td>Local save in /data/christmas</td><td>Holiday Centerpieces,Xmas Decorations,Centerpiece Ideas,Table Centerpieces,Valentine Decorations,Wedding Centerpieces,Outdoor Decorations,Christmas Centerpieces With Candles,Christmas Dining Table Decorations</td><td>35 Christmas Decorating Ideas We Bet You Haven't Thought Of</td><td>86ed09a7-842d-496d-9501-010c654eb340</td></tr><tr><td>art</td><td>Free quick inspirational video on creating a mixed media face with acrylic, collage, stenciling and simple techniques. Come on over to watch</td><td>1</td><td>27k</td><td>https://i.pinimg.com/videos/thumbnails/originals/05/86/a4/0586a4116e1fc34efc25e064ccd123e8.0000001.jpg</td><td>831</td><td>video</td><td>Shawn Petite</td><td>Local save in /data/art</td><td>Collage Kunst,Paper Collage Art,Collage Art Mixed Media,Mixed Media Painting,Mixed Media Canvas,Canvas Collage,Art Collages,Wall Canvas,Canvas Art</td><td>creating mixed-media faces tutorial</td><td>5e65914d-9f58-4ff1-9676-658e426e8ce5</td></tr><tr><td>beauty</td><td>The oil cleansing method is a simple, natural way to have clean skin without using toxic chemicals. It will leave your face radiant and soft!</td><td>1</td><td>85k</td><td>https://i.pinimg.com/originals/2c/1c/da/2c1cda7da86ee711536bbacfe89c75c9.jpg</td><td>1545</td><td>image</td><td>Thank Your Body</td><td>Local save in /data/beauty</td><td>Beauty Care,Diy Beauty,Beauty Hacks,Beauty Shop,Oil Cleansing Method,Goji,Korean Skincare Routine,Homemade Beauty Products,Organic Beauty</td><td>Oil Cleansing Method: What it is and why you should do it.</td><td>0c629541-cc5b-4b61-bd3f-613346893258</td></tr><tr><td>art</td><td>Use our easy step by step tutorial to create a DIY abstract heart painting on any canvas size. Lots of inspiration to help you choose colors.</td><td>1</td><td>410k</td><td>https://i.pinimg.com/originals/33/85/f8/3385f82ee5e8ecdcccdf798bdcbee3d2.jpg</td><td>205</td><td>image</td><td>The Creativity Exchange</td><td>Local save in /data/art</td><td>Painting & Drawing,Watercolor Paintings,Original Paintings,Owl Watercolor,Acrylic Paintings,Owl Art,Bird Art,Beginner Painting,Animal Paintings</td><td>DIY Abstract Heart Painting and a Fun Paint Party</td><td>f4afd543-b9fe-44c3-8064-f2198faa1372</td></tr><tr><td>art</td><td>Kids will use chalk pastels and black paper to create this bold and bright hot chocolate art project! Easy to follow tutorial included.</td><td>1</td><td>20k</td><td>https://i.pinimg.com/originals/5a/d3/82/5ad38202cf8acb022cb8f46ce2a78ad6.jpg</td><td>808</td><td>image</td><td>Projects with Kids</td><td>Local save in /data/art</td><td>Hot Chocolate Art,Chocolate Crafts,Art Activities For Kids,Preschool Art,Preschool Winter,Christmas Activities,Winter Art Projects,Clay Art Projects,Chalk Pastel Art</td><td>Chalk Pastel Hot Chocolate Art Project</td><td>23f67e42-db9f-4aae-8b82-cbec64ad9f4d</td></tr><tr><td>beauty</td><td>Skin Purging sorgt für die reinste Haut, die du jemals hattest #skin äpurging #skinpurging #skincare #hautpflege #schönehaut #haut #beauty #tips</td><td>1</td><td>326k</td><td>https://i.pinimg.com/originals/93/b2/7b/93b27be044b2fd2f227f30a7f2c2faf2.jpg</td><td>1555</td><td>image</td><td>ELLE Germany</td><td>Local save in /data/beauty</td><td>Natural Hair Mask,Natural Hair Styles,Natural Beauty,Skin Tag,How To Apply Makeup,Pimples,Beauty Routines,Skincare Routine,Glowing Skin</td><td>Skin Purging: Die Pflegemethode für reine Haut | ELLE</td><td>1f20551b-a21c-4ff0-b20d-49e95fdc50d3</td></tr><tr><td>finance</td><td>Don't fight about budgets and money with your spouse! Here are a few tips that we've found that make it work in our marriage!</td><td>1</td><td>313</td><td>https://i.pinimg.com/originals/37/d5/82/37d58296bcef3471a633c76b89d8625e.jpg</td><td>5468</td><td>image</td><td>Annamarie Hilton</td><td>Local save in /data/finance</td><td>Ways To Save Money,Money Tips,Money Saving Tips,How To Make Money,Managing Money,Saving Time,College Fund,Scholarships For College,Education College</td><td>Budgets, Spouses & Making It Work! - Tshanina Peterson</td><td>91ee49f6-0070-4270-ba19-fde88ba51c91</td></tr><tr><td>quotes</td><td>Are you looking for some heart touching sad quotes and sayings; Here we have collected for you 50 best heart touching sad quotes..</td><td>1</td><td>112</td><td>https://i.pinimg.com/originals/0c/0f/40/0c0f408d96458080e0c82adb50be8e8f.jpg</td><td>7790</td><td>image</td><td>AnnaLee Kick</td><td>Local save in /data/quotes</td><td>Crush Quotes For Girls,Sad Crush Quotes,Hurt Quotes,Love Me Quotes,Mood Quotes,Quotes To Live By,Life Quotes,Quotes Quotes,Sad Quotes That Make You Cry</td><td>50 Heart Touching Sad Quotes That Will Make You Cry</td><td>9cd89fb9-d1af-4e66-85ca-c9d656c918b4</td></tr><tr><td>beauty</td><td>Might try this... I'm generally skeptical about at-home remedies, but I know baking soda and lemons both do wonders. More</td><td>1</td><td>5M</td><td>https://i.pinimg.com/originals/c8/ab/af/c8abaffc56050f674eef8e65ad684929.jpg</td><td>1422</td><td>image</td><td>BuzzFeed</td><td>Local save in /data/beauty</td><td>Baking Soda Lemon Juice,Diy Beauté,Tips Belleza,Belleza Natural,Health And Beauty Tips,Beauty Secrets,Beauty Advice,Diy Beauty Tips,Beauty Life Hacks</td><td>41 Life-Saving Beauty Hacks Every Girl Should Have In Her Arsenal</td><td>7bbe860c-a739-4ba9-babd-feb24bb6e4d9</td></tr><tr><td>vehicles</td><td>There are a lot of options of places to stay so you probably only have to book the initial one so you know the best place to land from the airport</td><td>1</td><td>171k</td><td>https://i.pinimg.com/originals/e9/01/4d/e9014d537dd2b81c606e8466cef3904c.jpg</td><td>10663</td><td>image</td><td>vintagetopia</td><td>Local save in /data/vehicles</td><td>Old Classic Cars,Classic Trucks,Old Vintage Cars,Antique Cars,Vintage Trucks,Antique Trucks,Cadillac,Convertible,Mustang</td><td>21+ Classic Car Picture of the 1950s - Vintagetopia</td><td>d5208c16-82ae-4fd1-87f0-36e5ef789412</td></tr><tr><td>diy-and-crafts</td><td>Keep the kids busy this summer with these easy diy crafts and projects. Creative and…</td><td>1</td><td>124k</td><td>https://i.pinimg.com/originals/b3/bc/e2/b3bce2964e8c8975387b39660eed5f16.jpg</td><td>2863</td><td>image</td><td>Of Life & Lisa | Lifestyle Blog</td><td>Local save in /data/diy-and-crafts</td><td>Summer Crafts For Kids,Fun Crafts For Kids,Summer Kids,Toddler Crafts,Crafts To Do,Diy For Kids,Summer Snow,Diys For Summer,Craft Ideas For Girls</td><td>25 Super Fun Summer Crafts for Kids - Of Life and Lisa</td><td>9bf39437-42a6-4f02-99a0-9a0383d8cd70</td></tr><tr><td>diy-and-crafts</td><td>Keep the kids busy this summer with these easy diy crafts and projects. Creative and…</td><td>1</td><td>124k</td><td>https://i.pinimg.com/originals/b3/bc/e2/b3bce2964e8c8975387b39660eed5f16.jpg</td><td>2863</td><td>image</td><td>Of Life & Lisa | Lifestyle Blog</td><td>Local save in /data/diy-and-crafts</td><td>Summer Crafts For Kids,Fun Crafts For Kids,Summer Kids,Toddler Crafts,Crafts To Do,Diy For Kids,Summer Snow,Diys For Summer,Craft Ideas For Girls</td><td>25 Super Fun Summer Crafts for Kids - Of Life and Lisa</td><td>9bf39437-42a6-4f02-99a0-9a0383d8cd70</td></tr><tr><td>tattoos</td><td>We welcome you to our latest collection of Beautiful Tattoo Ideas For Women. Check out and get inspired by the most beautiful design for yourself.</td><td>1</td><td>21k</td><td>https://i.pinimg.com/originals/fa/cf/7c/facf7cd752a4bc7c09faaa8925ab80b1.jpg</td><td>8653</td><td>image</td><td>ALL FOR WOMAN</td><td>Local save in /data/tattoos</td><td>Small Back Tattoos,Small Girl Tattoos,Little Tattoos,Tattoo Girls,Mini Tattoos,Tattoo Small,Back Tattoo Women,Tattoo On Back,Girl Back Tattoos</td><td>Unique Women Tattoos Ideas 2020</td><td>24b1343c-4d86-4705-8ec9-7f1f2df2d77e</td></tr><tr><td>diy-and-crafts</td><td>A fun space activity for kids. Preshoolers and kindergartners will love making their own alien spacecraft!</td><td>1</td><td>192k</td><td>https://i.pinimg.com/originals/6f/e8/aa/6fe8aa405513c6d2f77b5f47d17cdce8.jpg</td><td>2923</td><td>image</td><td>The Crafting Chicks</td><td>Local save in /data/diy-and-crafts</td><td>Paper Plate Crafts For Kids,Fun Crafts For Kids,Summer Crafts,Toddler Crafts,Art For Kids,Outer Space Crafts For Kids,Kid Crafts,Space Kids,Back To School Crafts For Kids</td><td>UFO Paper Plate Craft</td><td>52fa3af5-24a4-4ccb-8f17-9c3eb12327ee</td></tr><tr><td>travel</td><td>Volcanoes, hikes, and hot springs in Costa Rica! The ultimate 5 day travel itinerary. - #costarica #travel #blogging #blog #bucketlist</td><td>1</td><td>22k</td><td>https://i.pinimg.com/originals/60/fe/4c/60fe4c3602e8e50e2e9f787ed27d2aba.jpg</td><td>9936</td><td>image</td><td>Jess Wandering</td><td>Local save in /data/travel</td><td>Costa Rica Reisen,Costa Rica Travel,Vacation Places,Dream Vacations,Vacation Spots,Vacation Food,Vacation Ideas,Voyage Dubai,Beautiful Places To Travel</td><td>Chasing Waterfalls in Costa Rica</td><td>1f3154a6-13f0-4049-8d5c-faea15b9f07c</td></tr><tr><td>quotes</td><td>motivation quotes</td><td>1</td><td>45k</td><td>https://i.pinimg.com/originals/ee/b4/bc/eeb4bccdb074edb787ea61711e0c4dfd.jpg</td><td>7768</td><td>image</td><td>Boss Babe Chronicles | Personal Development, Finances, Self Care</td><td>Local save in /data/quotes</td><td>Motivacional Quotes,Motivational Quotes For Life,Uplifting Quotes,True Quotes,Words Quotes,Empowering Quotes,Boss Up Quotes,Inspirational Success Quotes,Boss Babe Quotes Work Hard</td><td>16 Motivational Quotes Get You Inspired Today - Boss Babe Chronicles</td><td>ae1a61f6-d958-40fe-ba93-6a78b3a73178</td></tr><tr><td>beauty</td><td>Here’s how to get long-lasting makeup, so you can do your face in the morning and be set for the entire day. Follow these makeup tips for foundation, lipstick and more using pro… </td><td>1</td><td>3k</td><td>https://i.pinimg.com/originals/d9/d1/3b/d9d13b9ac47d54940f05a75345a873d4.jpg</td><td>1268</td><td>image</td><td>Tony</td><td>Local save in /data/beauty</td><td>Beauty Makeup,Eye Makeup,Diy Beauty,Beauty Ideas,Beauty Skin,Homemade Beauty,Wolf Makeup,Oily Skin Makeup,Face Beauty</td><td>Janet on Twitter</td><td>e2f2cec5-cda5-42b2-ab9d-6dddf863e94e</td></tr><tr><td>art</td><td>Mountain monologue watercolor</td><td>1</td><td>27k</td><td>https://i.pinimg.com/originals/fd/54/89/fd548935dcb13545120a2115baaa41d9.jpg</td><td>46</td><td>image</td><td>It's me, JD | DIY, Crafts, Home & Organization</td><td>Local save in /data/art</td><td>Arte Inspo,Kunst Inspo,Watercolor Artists,Watercolor Ideas,Simple Watercolor,Tattoo Watercolor,Watercolor Techniques,Watercolor Animals,Watercolor Illustration</td><td>10 Watercolor Hacks For Beginners | Tips and Tricks to Making Watercolor Painting Easier</td><td>19234073-8905-4885-b0d5-98e0b84cbf27</td></tr><tr><td>travel</td><td>The best trips to take when you are young!</td><td>1</td><td>89k</td><td>https://i.pinimg.com/videos/thumbnails/originals/81/97/c1/8197c1beef8bcb19bea5d8b422211f34.0000001.jpg</td><td>9546</td><td>video</td><td>The World Pursuit Travel Website</td><td>Local save in /data/travel</td><td>Fun Places To Go,Beautiful Places To Travel,Best Places To Travel,Travel Jobs,Holiday Places,Future Travel,Travel Around The World,Adventure Travel,Travel Photos</td><td>20 Amazing Trips to Take in Your Twenties!</td><td>efd5b2d6-2f69-40cd-bb59-41f18c089e52</td></tr><tr><td>finance</td><td>Get your personal finance in order with these 8 fr…</td><td>1</td><td>46k</td><td>https://i.pinimg.com/originals/f1/4f/cc/f14fcc75ee73ff22c983bdce70c022e2.jpg</td><td>5630</td><td>image</td><td>R.J. Weiss at The Ways To Wealth | Personal Finance | Debt Payoff</td><td>Local save in /data/finance</td><td>Ways To Save Money,Money Tips,Money Saving Tips,Money Budget,Saving Ideas,Budgeting Finances,Budgeting Tips,Planning Budget,Budget Planer</td><td>7 Insanely Useful Money Management Worksheets</td><td>d41e703c-c97c-4c5a-9f9c-338982ca7504</td></tr><tr><td>tattoos</td><td>Koi fish tattoos are a popular choice for men who want to make a statement, thanks to their rich symbolism and bold design.</td><td>1</td><td>211k</td><td>https://i.pinimg.com/originals/8a/0c/0a/8a0c0a7b6236565c519acd41ad1a52c0.jpg</td><td>8731</td><td>image</td><td>TheTrendSpotter</td><td>Local save in /data/tattoos</td><td>Dr Tattoo,Wörter Tattoos,Pisces Tattoos,Tatoo Art,Dream Tattoos,Dope Tattoos,Mini Tattoos,Finger Tattoos,Body Art Tattoos</td><td>20 Koi Fish Tattoos For Lucky Men</td><td>ea760f71-febf-4023-b592-d17396659039</td></tr><tr><td>tattoos</td><td>Koi fish tattoos are a popular choice for men who want to make a statement, thanks to their rich symbolism and bold design.</td><td>1</td><td>211k</td><td>https://i.pinimg.com/originals/8a/0c/0a/8a0c0a7b6236565c519acd41ad1a52c0.jpg</td><td>8731</td><td>image</td><td>TheTrendSpotter</td><td>Local save in /data/tattoos</td><td>Dr Tattoo,Wörter Tattoos,Pisces Tattoos,Tatoo Art,Dream Tattoos,Dope Tattoos,Mini Tattoos,Finger Tattoos,Body Art Tattoos</td><td>20 Koi Fish Tattoos For Lucky Men</td><td>ea760f71-febf-4023-b592-d17396659039</td></tr><tr><td>quotes</td><td>#lovequotes #matchmaker #matchmadeinheaven #loveyourself #respectyourself</td><td>1</td><td>51k</td><td>https://i.pinimg.com/originals/c6/64/ee/c664ee71524fb5a6e7b7b49233f93b43.png</td><td>8304</td><td>image</td><td>Commitment Connection</td><td>Local save in /data/quotes</td><td>Wise Quotes,Quotable Quotes,Words Quotes,Wise Words,Quotes To Live By,Great Quotes,Motivational Quotes,Inspirational Quotes,Funny Quotes</td><td>The #1 Reason You’re Not His Priority Anymore - Matthew Coast</td><td>5b6d0913-25e4-43ab-839d-85d5516f78a4</td></tr><tr><td>quotes</td><td>#lovequotes #matchmaker #matchmadeinheaven #loveyourself #respectyourself</td><td>1</td><td>51k</td><td>https://i.pinimg.com/originals/c6/64/ee/c664ee71524fb5a6e7b7b49233f93b43.png</td><td>8304</td><td>image</td><td>Commitment Connection</td><td>Local save in /data/quotes</td><td>Wise Quotes,Quotable Quotes,Words Quotes,Wise Words,Quotes To Live By,Great Quotes,Motivational Quotes,Inspirational Quotes,Funny Quotes</td><td>The #1 Reason You’re Not His Priority Anymore - Matthew Coast</td><td>5b6d0913-25e4-43ab-839d-85d5516f78a4</td></tr><tr><td>mens-fashion</td><td>imgentleboss: “ - More about men’s fashion at @Gentleboss - GB’s Facebook - ”</td><td>1</td><td>940</td><td>https://i.pinimg.com/originals/e7/6e/8e/e76e8ed6cc838b84a934c6948a5caff7.jpg</td><td>7554</td><td>image</td><td>iElylike ..✿◕‿◕✿ஐ✿◕‿◕✿</td><td>Local save in /data/mens-fashion</td><td>Mens Fashion Blog,Look Fashion,Autumn Fashion,Fashion News,Fashion Sale,80s Fashion,Paris Fashion,Runway Fashion,Fashion Trends</td><td>Craig Style</td><td>c6fa12f4-0d4a-4b07-a335-5bf9f37f8281</td></tr><tr><td>tattoos</td><td>Tattoos are one of the most efficient ways through which one decides to express themselves…</td><td>1</td><td>4k</td><td>https://i.pinimg.com/originals/ab/8e/50/ab8e505b04d4abc8f23e273c15f8a65d.jpg</td><td>8887</td><td>image</td><td>RapidLeaks</td><td>Local save in /data/tattoos</td><td>Dream Tattoos,Body Art Tattoos,New Tattoos,Small Tattoos,Cross Tattoos,Random Tattoos,Fashion Tattoos,Bird Tattoos,Fitness Tattoos</td><td>25 Ultra Sexy Back Tattoo Ideas For Girls</td><td>5df9f6e5-07f5-4ce8-a82e-96586bbc05d8</td></tr><tr><td>vehicles</td><td>No description available Story format</td><td>1</td><td>89k</td><td>https://i.pinimg.com/videos/thumbnails/originals/4a/d4/96/4ad4961606179854f1141a90f50f002c.0000001.jpg</td><td>10509</td><td>multi-video(story page format)</td><td>TheSuperBOO!</td><td>Local save in /data/vehicles</td><td>Electric Off Road Vehicle,Cool Illusions,Flying Vehicles,Wow Video,Art And Craft Videos,Top Luxury Cars,Chevy Muscle Cars,Street Racing Cars,Funny Videos Clean</td><td>Flying Car</td><td>6a5f0e7e-1389-4e54-942f-4cb69f09f140</td></tr><tr><td>beauty</td><td>Instantly create the look of lash extensions with this award-winning, best-selling mascara that won't clump, flake or smudge. Available in 3 shades!</td><td>1</td><td>43k</td><td>https://i.pinimg.com/videos/thumbnails/originals/69/84/e2/6984e20f3e262098fa9c0614c3453254.0000001.jpg</td><td>1313</td><td>video</td><td>Thrive Causemetics</td><td>Local save in /data/beauty</td><td>N,o, ,T,a,g,s, ,A,v,a,i,l,a,b,l,e</td><td>Liquid Lash Extensions Mascara</td><td>44662045-e891-4821-8a19-ebe7eedd371a</td></tr><tr><td>beauty</td><td>Instantly create the look of lash extensions with this award-winning, best-selling mascara that won't clump, flake or smudge. Available in 3 shades!</td><td>1</td><td>43k</td><td>https://i.pinimg.com/videos/thumbnails/originals/69/84/e2/6984e20f3e262098fa9c0614c3453254.0000001.jpg</td><td>1313</td><td>video</td><td>Thrive Causemetics</td><td>Local save in /data/beauty</td><td>N,o, ,T,a,g,s, ,A,v,a,i,l,a,b,l,e</td><td>Liquid Lash Extensions Mascara</td><td>44662045-e891-4821-8a19-ebe7eedd371a</td></tr><tr><td>vehicles</td><td>1937 Jaguar SS100 - 2 1/2 Litre Roadster, one of the most sought after pre-war sports cars</td><td>1</td><td>8k</td><td>https://i.pinimg.com/originals/26/81/a7/2681a71bd0c8f7fd0ab79c455338a49a.jpg</td><td>10625</td><td>image</td><td>hobbyDB</td><td>Local save in /data/vehicles</td><td>Jaguar Type E,Jaguar Xk,Jaguar Cars,Jaguar Roadster,Jaguar Sport,Retro Cars,Vintage Cars,Antique Cars,British Sports Cars</td><td>Jaguar Type E</td><td>d31885b7-742a-4e2a-bbb7-ac5f9d334340</td></tr><tr><td>event-planning</td><td>Fun Book Page Crafts - MomAdvice</td><td>1</td><td>112k</td><td>https://i.pinimg.com/originals/17/55/87/175587b334e71c12300453b8b4b4c6aa.jpg</td><td>4988</td><td>image</td><td>MomAdvice</td><td>Local save in /data/event-planning</td><td>Harry Potter Wedding,Harry Potter Theme,Wedding Book,Wedding Table,Wedding Ideas,Wedding Vintage,Garden Wedding,Vintage Party,Wedding Paper</td><td>Fun Book Page Crafts - MomAdvice</td><td>fbdfd355-a356-46c2-a251-301869ae2674</td></tr><tr><td>travel</td><td>Best spots to see for travel through Ireland!</td><td>1</td><td>130k</td><td>https://i.pinimg.com/originals/c7/50/d3/c750d36524856873d64406652d69b4fb.png</td><td>9590</td><td>image</td><td>Fun Life Crisis</td><td>Local save in /data/travel</td><td>Vacation Ideas,Vacation Spots,Emerald Isle,London England,Travel Guides,Travel Tips,Travel Hacks,Travel Packing,Places To Travel</td><td>Top 20 Things To See And Do In Ireland</td><td>b849e976-52f6-45d7-8b25-51559318f167</td></tr><tr><td>mens-fashion</td><td>billy-george: “Summer styles ”</td><td>1</td><td>377</td><td>https://i.pinimg.com/originals/3c/8c/53/3c8c534cd02334c50047bd3a4feccce9.jpg</td><td>6844</td><td>image</td><td>Au'vey Smith</td><td>Local save in /data/mens-fashion</td><td>Fashion Week Hommes,La Fashion Week,Fashion Moda,Urban Fashion,Trendy Fashion,Fashion Spring,Fashion 2017,New Mens Fashion,Trendy Clothing</td><td>♔the-fashman♔</td><td>69c3f268-274f-44bd-9cb4-427e64fefc44</td></tr><tr><td>beauty</td><td>Untitled</td><td>1</td><td>0</td><td>https://i.pinimg.com/originals/af/c4/59/afc459bd6e1fd8f9aef212504afebf3a.jpg</td><td>1014</td><td>image</td><td>Grecia Perales</td><td>Local save in /data/beauty</td><td>Hair Inspo,Hair Inspiration,Motivation Inspiration,Cl Rapper,Foto Glamour,Kreative Portraits,Classy Aesthetic,Pretty Hairstyles,Hair Looks</td><td>Hairstyles & Beauty</td><td>9ac94307-bb27-410e-b554-0a0ab6c19847</td></tr><tr><td>vehicles</td><td>Nissan GT-R. Sick.</td><td>1</td><td>437</td><td>https://i.pinimg.com/originals/0d/29/9f/0d299f3df020395aa7ce8387f40fbeed.jpg</td><td>10794</td><td>image</td><td>Ray Uyemura</td><td>Local save in /data/vehicles</td><td>Lowrider,Old Vintage Cars,Antique Cars,Austin Martin,Nissan Gtr Black,Jaguar,1959 Cadillac,Cadillac Ct6,Old School Cars</td><td>TireBuyer</td><td>c4bd2577-a7bb-4409-bb7a-17d5ed7e1cf1</td></tr><tr><td>beauty</td><td>9 colors lazy lipstick</td><td>1</td><td>8k</td><td>https://i.pinimg.com/originals/25/cf/8c/25cf8cb74b43ab95591342c2bbe4ecd8.jpg</td><td>1094</td><td>image</td><td>Jiew82633</td><td>Local save in /data/beauty</td><td>Nail Inspo,Lazy,Lipstick,How To Apply,Makeup,Colors,Products,Make Up,Lipsticks</td><td>9 colors lazy lipstick - 9 colors lazy lipstick4</td><td>6deacdcd-75ed-4dd8-8951-9b77453f38e0</td></tr><tr><td>diy-and-crafts</td><td>No description available Story format</td><td>0</td><td>User Info Error</td><td>Image src error.</td><td>3089</td><td>multi-video(story page format)</td><td>User Info Error</td><td>Local save in /data/diy-and-crafts</td><td>N,o, ,T,a,g,s, ,A,v,a,i,l,a,b,l,e</td><td>No Title Data Available</td><td>88f9227e-88d0-4b1c-b0be-bcfc3028b8e2</td></tr><tr><td>mens-fashion</td><td>No description available Story format</td><td>0</td><td>User Info Error</td><td>Image src error.</td><td>7528</td><td>multi-video(story page format)</td><td>User Info Error</td><td>Local save in /data/mens-fashion</td><td>N,o, ,T,a,g,s, ,A,v,a,i,l,a,b,l,e</td><td>No Title Data Available</td><td>fbe53c66-3442-4773-b19e-d3ec6f54dddf</td></tr><tr><td>mens-fashion</td><td>No description available Story format</td><td>0</td><td>User Info Error</td><td>Image src error.</td><td>7528</td><td>multi-video(story page format)</td><td>User Info Error</td><td>Local save in /data/mens-fashion</td><td>N,o, ,T,a,g,s, ,A,v,a,i,l,a,b,l,e</td><td>No Title Data Available</td><td>fbe53c66-3442-4773-b19e-d3ec6f54dddf</td></tr></tbody></table></div>"
      ]
     },
     "metadata": {
      "application/vnd.databricks.v1+output": {
       "addedWidgets": {},
       "aggData": [],
       "aggError": "",
       "aggOverflow": false,
       "aggSchema": [],
       "aggSeriesLimitReached": false,
       "aggType": "",
       "arguments": {},
       "columnCustomDisplayInfos": {},
       "data": [
        [
         "christmas",
         "Christmas decorating ideas for porches. Beautiful holiday decor ideas for front porches both small and large. Outdoor decorations like sleds, lanterns, Christmas trees, wreaths,… ",
         1,
         "46k",
         "https://i.pinimg.com/videos/thumbnails/originals/40/83/f5/4083f5b4971bf235f89a4784ab87271e.0000001.jpg",
         2482,
         "video",
         "Life on Summerhill | Home, Holiday Decor & DIY Website",
         "Local save in /data/christmas",
         "Diy Christmas Decorations For Home,Farmhouse Christmas Decor,Christmas Home,Christmas Holidays,Christmas Front Porches,How To Decorate For Christmas,Christmas Porch Ideas,Christmas Decorating Ideas,Large Outdoor Christmas Decorations",
         "FORNT PORCH CHRISTMAS DECORATING IDEAS",
         "08604f20-fa17-4b9a-9949-781717eca6cd"
        ],
        [
         "travel",
         "This Costa Rica itinerary is the ultimate guide to spending two weeks in Costa Rica. Find out about visiting La Fortuna, Arenal, Monteverde, Naranjo, Corcovado National Park, Or… ",
         1,
         "10k",
         "https://i.pinimg.com/originals/30/93/cb/3093cb01d9de2d125fda8ba5e3e41946.jpg",
         10138,
         "image",
         "Wanderlust Chloe ✈️ Travel guides, inspo and adventure travel ✈️",
         "Local save in /data/travel",
         "Costa Rica Travel,Rio Celeste Costa Rica,Dream Vacations,Vacation Spots,Vacation Travel,Travel Pictures,Travel Photos,Fortuna Costa Rica,Costa Rica Pictures",
         "14 Amazing Things To Do In Costa Rica | Volcanoes, Waterfalls, Wildlife And More",
         "927c4658-cc3f-4b92-9b5c-70743d0c238d"
        ],
        [
         "diy-and-crafts",
         "This post may contain affiliate links, read our Disclosure Policy for more information. As an Amazon Associate I earn from qualifying purchases, thank you! Make some cute handpr… ",
         1,
         "892k",
         "https://i.pinimg.com/originals/ff/fe/38/fffe384f3ec18a0d87cb2d80cc8c1499.jpg",
         3156,
         "image",
         "Michelle {CraftyMorning.com}",
         "Local save in /data/diy-and-crafts",
         "Christmas Gifts For Parents,Christmas Decorations For Kids,Christmas Crafts For Toddlers,Preschool Christmas,Christmas Crafts For Gifts,Christmas Activities,Toddler Crafts,Kids Christmas,Christmas Feeling",
         "Handprint Reindeer Ornaments - Crafty Morning",
         "fa6e31a4-18c2-4eca-a6d8-e903eee2c2a4"
        ],
        [
         "diy-and-crafts",
         "Easy Christmas tree Craft Ideas for toddlers and preschoolers. Engage your kids in these DIY",
         1,
         "3k",
         "https://i.pinimg.com/originals/69/f0/75/69f075939d4449dffa69519756c30e26.png",
         3419,
         "image",
         "Kids Crafts & Free Preschool Printables- Sharing Our Experiences",
         "Local save in /data/diy-and-crafts",
         "Christmas Crafts For Kids To Make,Christmas Tree Painting,Christmas Activities For Kids,Easy Christmas Crafts For Toddlers,Kid Activities,Christmas Handprint Crafts,Christmas Tree Crafts,Christmas Baby,Xmas Tree",
         "Easy Christmas Tree Crafts Ideas for toddlers and preschoolers | Sharing Our Experiences",
         "d0b80187-0171-49b2-8ee4-572984244f65"
        ],
        [
         "finance",
         "If you love budgeting, make sure to give Dave Ramsey's 7 Baby Steps a try. Follow these steps to begin your debt snowball, build an emergency fund, invest and reach riches. I ca… ",
         1,
         "26k",
         "https://i.pinimg.com/originals/1e/9d/90/1e9d906e4e150e3b95187f3b76ea7c71.png",
         5494,
         "image",
         "Living Low Key | Save Money, Make Money, & Frugal Living",
         "Local save in /data/finance",
         "Financial Peace,Financial Tips,Saving Money Quotes,Total Money Makeover,Budgeting Finances,Money Management,Wealth Management,Personal Finance,Making Ideas",
         "Dave Ramsey's 7 Baby Steps: What Are They And Will They Work For You",
         "8fb2af68-543b-4639-8119-de33d28706ed"
        ],
        [
         "christmas",
         "Here are the best DIY Christmas Centerpieces ideas perfect for your Christmas & holiday season home decor. From Christmas Vignettes to Table Centerpieces.",
         1,
         "500k",
         "https://i.pinimg.com/originals/aa/6d/0f/aa6d0f44d7c1c96b998cb9aa6c4446b8.png",
         2418,
         "image",
         "HikenDip",
         "Local save in /data/christmas",
         "Farmhouse Christmas Decor,Rustic Christmas,Christmas Time,Vintage Christmas,Xmas,Primitive Christmas Crafts,Christmas Vignette,Indoor Christmas Decorations,Diy Christmas Ornaments",
         "100 DIY Christmas Centerpieces You'll Love To Decorate Your Home With For The Christmas Season - Hike n Dip",
         "da8745a6-5160-46c4-877d-181d50a729fd"
        ],
        [
         "quotes",
         "summcoco gives you inspiration for the women fashion trends you want. Thinking about a new look or lifestyle? This is your ultimate resource to get the hottest trends. 45 Top Li… ",
         1,
         "306k",
         "https://i.pinimg.com/originals/bb/c0/e6/bbc0e6a797079505f11ac12bcb0b8c66.jpg",
         7922,
         "image",
         "Sumcoco | Decor Ideas, Hairstyles, Nails Fashion Advice",
         "Local save in /data/quotes",
         "Life Quotes Love,Inspirational Quotes About Love,Mood Quotes,Motivational Quotes,Tears Quotes,Quotes About Sadness,Deep Quotes About Life,Quotes Quotes,Quote Life",
         "45 Top Life Quotes School Did Not Teach You",
         "a584581c-1b38-4731-a1cc-f36115ecf229"
        ],
        [
         "art",
         "Use your mini world figures to create this beautiful African sunset. Your kids will love learning about shadows, angles and distortion in this fun art and STEM activity for kids.",
         1,
         "4k",
         "https://i.pinimg.com/originals/e3/aa/35/e3aa350f8f104d0e59f26d7f17ea7461.png",
         771,
         "image",
         "Taming Little Monsters - Fun Activities for Kids",
         "Local save in /data/art",
         "African Art Projects,Cool Art Projects,Projects For Kids,African Art For Kids,African Crafts Kids,Art Club Projects,Art Education Projects,Tracing Art,African Sunset",
         "African Sunset Shadow Tracing Art - Taming Little Monsters",
         "a5021766-a8aa-4dc7-9857-4da6b8e3dc1a"
        ],
        [
         "event-planning",
         "Personalize your event or shop with a customized neon sign. Make a statement with your own custom vibes! This light is 32 -40 inches (80cm-100cm) if you need something bigger, p… ",
         1,
         "111",
         "https://i.pinimg.com/originals/e9/c0/7c/e9c07cf0cf16cab23764a36718ab76c1.jpg",
         4508,
         "image",
         "Life of Neon | Custom Neon Light Signs | Home Decor Wall Art",
         "Local save in /data/event-planning",
         "Our Wedding,Wedding Venues,Dream Wedding,Wedding Cakes,Church Wedding,Wedding Flowers,Lace Wedding,Wedding Rings,Wedding Dresses",
         "Custom Event and Shop Neon Sign Lights - Event & Shop",
         "9064f4a2-2753-476c-815e-db360f45a93e"
        ],
        [
         "education",
         "Hi everyone! As a teacher using the Orton-Gillingham approach, I am constantly looking for phonics activities that my students will find fun and engaging. Using Orton-Gillingham… ",
         1,
         "22k",
         "https://i.pinimg.com/originals/58/8e/38/588e380b19942a71a86a69d9c9973d25.png",
         4076,
         "image",
         "The Literacy Nest",
         "Local save in /data/education",
         "Literacy Games,Kindergarten Activities,Literacy Centers,Fun Phonics Activities,Listening Activities,Vocabulary Games,Literacy Stations,Letter Activities,Montessori Activities",
         "Phonics Activities Your Kids Will Love - The Literacy Nest",
         "3a52d364-7c04-47cb-a3e5-56d9e2b77528"
        ],
        [
         "christmas",
         "Over 40 of the BEST Homemade Christmas Ornaments...these easy Holiday crafts are so fun to make for Kids and Adults! Lots of great class party ideas!",
         1,
         "245k",
         "https://i.pinimg.com/originals/d0/d3/a3/d0d3a31e87296224d5ba8896904b5b88.jpg",
         2293,
         "image",
         "Kitchen Fun With My 3 Sons",
         "Local save in /data/christmas",
         "Diy Christmas Lights,Homemade Christmas Decorations,Christmas Crafts For Gifts,Mini Christmas Tree,Christmas Ornament Crafts,Homemade Christmas Gifts,Xmas Decorations,Simple Christmas,Handmade Christmas",
         "Over 40 of the BEST Homemade Christmas Ornament Ideas",
         "1fd7d4cc-54c1-4542-9c1f-449cb4c875f4"
        ],
        [
         "art",
         "This bee directed drawing and associated pages will help you create a fun and creative Valentine's Day Directed Drawing Art Project activity for your class.Choose to do a painti… ",
         1,
         "1M",
         "https://i.pinimg.com/originals/49/ff/2e/49ff2e83c0cefdd37213f6084c6f0566.jpg",
         159,
         "image",
         "Teachers Pay Teachers",
         "Local save in /data/art",
         "Classroom Art Projects,School Art Projects,Art Classroom,Art Projects For Kindergarteners,Spring Art Projects,Classroom Posters,Valentines Art Lessons,Valentines Day Activities,Grade 1 Art",
         "Valentine's Day Bee Directed Drawing {Art Project}",
         "841a161a-47b8-4161-884d-adeb67a28b1e"
        ],
        [
         "travel",
         "Are you traveling to Paris during the summer? Find out what to do in Paris, France during the summer. Fun summertime activities in Paris. Enjoy the incredible outdoors when trav… ",
         1,
         "3k",
         "https://i.pinimg.com/originals/6c/4c/90/6c4c90bba27ebf8c8bfe4c1acfb9f07a.jpg",
         9979,
         "image",
         "Petite in Paris",
         "Local save in /data/travel",
         "Torre Eiffel Paris,Tour Eiffel,Picnic In Paris,Hello France,Voyage Europe,Destination Voyage,Beautiful Places To Travel,Travel Aesthetic,Paris Travel",
         "Paris in the Summer. 10 fun things to do in Paris in the Summertime • Petite in Paris",
         "2b2abc85-fc51-481f-8ae6-17681993da28"
        ],
        [
         "travel",
         "Although you'd think Greek islands are fairly similar, you'd be completely wrong! Each island has it's own personality and appeal. Here are the 8 Best Greek Islands to visit, es… ",
         1,
         "42k",
         "https://i.pinimg.com/originals/06/1d/ce/061dce38929dec8e74844442116bea4a.jpg",
         9759,
         "image",
         "TheFab20s | Travel+Food+DIY+Listicles",
         "Local save in /data/travel",
         "Greek Islands To Visit,Best Greek Islands,Greece Islands,Cool Places To Visit,Places To Go,Best Places In Portugal,Copenhagen Travel,Paros Island,Santorini Island",
         "8 Best Greek Islands You Have To Visit - TheFab20s",
         "d105eb6e-0f9f-46e7-8d02-d24b62f6ae90"
        ],
        [
         "diy-and-crafts",
         "DIY Dollar Store Valentine’s Day Heart Wreath Decoration. There are so many great Valentine crafts at the Dollar Tree right now! During our last trip, we picked up a few supplie… ",
         1,
         "9k",
         "https://i.pinimg.com/originals/dc/f6/8a/dcf68adcc63c339c24fa5664f1115994.png",
         2698,
         "image",
         "South Lumina Style",
         "Local save in /data/diy-and-crafts",
         "Valentine Day Wreaths,Valentines Day Hearts,Valentines Day Decorations,Valentine Day Crafts,Holiday Crafts,Diy Christmas,Christmas Wreaths,Valentine Tree,Printable Valentine",
         "DIY Dollar Tree Valentine's Day Wreath",
         "73f16302-4871-486a-8836-947530526337"
        ],
        [
         "home-decor",
         "Holiday mantle decor, Christmas decor, metallic mercury glass style Christmas trees, eucalyptus vine, evergreen pine branches, white neutral holiday decor, cozy mantle for the h… ",
         1,
         "83k",
         "https://i.pinimg.com/originals/9d/82/1a/9d821a80acd8f90c16454e978bd9b115.jpg",
         6145,
         "image",
         "Stylin by Aylin",
         "Local save in /data/home-decor",
         "Winter Home Decor,Christmas Living Room Decor,Living Room Decor Cozy,Christmas Decor,Cozy Fireplace,Rustic Fireplace Decor,Fireplace Decorations,Rustic Room,House Decorations",
         "HOLIDAY MANTLE DECOR - @AMAZON & @TARGET FINDS",
         "82e13a07-db99-43a3-b1c0-89a4b75821da"
        ],
        [
         "art",
         "Easy to follow steps for this easy DIY wall art. Acrylic Paint Pouring with a blow dryer, Dutch paint pour. Written steps and full step by step video to help you do it too! 👍",
         1,
         "52k",
         "https://i.pinimg.com/videos/thumbnails/originals/d5/5e/fa/d55efa6ef50d35dac425cea935f39c89.0000001.jpg",
         427,
         "video",
         "Abbotts At Home",
         "Local save in /data/art",
         "Acrylic Pouring Art,Acrylic Wall Art,Acrylic Pouring Techniques,Acrylic Paintings,Art Paintings,Marble Art,Marble Painting,Pour Painting,Large Canvas Art",
         "DIY Acrylic Paint Pouring Wall Art - Abbotts At Home",
         "4a455340-09a2-4370-ad86-73d7964603db"
        ],
        [
         "christmas",
         "Christmas Trees From Pallet Wood | Holiday DIY: Deck the yard with some fun outdoor Christmas Trees! We made these merry and bright decorations from two old pallets we had lying… ",
         1,
         "3M",
         "https://i.pinimg.com/originals/64/7b/ca/647bca35169b7c144604116c64bcba8a.png",
         1704,
         "image",
         "Instructables",
         "Local save in /data/christmas",
         "Pallet Wood Christmas Tree,Wooden Christmas Crafts,Diy Christmas Tree,Christmas Projects,Holiday Crafts,Wooden Xmas Trees,Different Christmas Trees,Pallet Tree,Christmas Kitchen",
         "Christmas Trees From Pallet Wood | Holiday DIY",
         "5fbf9863-fb79-477c-a5b6-540c3020a55f"
        ],
        [
         "education",
         "Podcasts for Teachers or Parents of Teenagers: Teaching teens middle school and high school can feel joyful and rewarding most days, but can also frustrate you with one challeng… ",
         1,
         "25k",
         "https://i.pinimg.com/originals/50/19/31/501931a27ee4d076658980851b995b2c.jpg",
         4315,
         "image",
         "Math Giraffe",
         "Local save in /data/education",
         "Middle School Classroom,High School Students,High School Teachers,Middle School Tips,High School Counseling,Ela Classroom,High School Science,Future Classroom,Google Classroom",
         "Podcasts for Teachers or Parents of Teenagers",
         "21b59ba9-829d-4c33-8c27-4cd4c56d26b8"
        ],
        [
         "education",
         "Podcasts for Teachers or Parents of Teenagers: Teaching teens middle school and high school can feel joyful and rewarding most days, but can also frustrate you with one challeng… ",
         1,
         "25k",
         "https://i.pinimg.com/originals/50/19/31/501931a27ee4d076658980851b995b2c.jpg",
         4315,
         "image",
         "Math Giraffe",
         "Local save in /data/education",
         "Middle School Classroom,High School Students,High School Teachers,Middle School Tips,High School Counseling,Ela Classroom,High School Science,Future Classroom,Google Classroom",
         "Podcasts for Teachers or Parents of Teenagers",
         "21b59ba9-829d-4c33-8c27-4cd4c56d26b8"
        ],
        [
         "education",
         "This book presents 10 inspirational case studies of how centre leaders, principals and leadership teams in high-needs New Zealand educational settings have enacted leadership to… ",
         1,
         "2M",
         "https://i.pinimg.com/originals/0e/ea/c4/0eeac457780bbe43fcc5e9eaabd80f62.jpg",
         3599,
         "image",
         "Walmart",
         "Local save in /data/education",
         "Research Studies,Educational Leadership,Education System,Secondary School,Try It Free,Book Format,Social Justice,Young People,Paperback Books",
         "Educational Leadership in Aotearoa New Zealand : Issues of Context and Social Justice",
         "ff0dd945-dafa-411c-8cef-eb43e374e815"
        ],
        [
         "event-planning",
         "Sacramento California Wedding 2 Chic Events & Design Jodi Yorston Photography Wilson Vineyards Barn Miosa Couture Yellow Barn Vineyard Outdoor Candles DIY",
         1,
         "6M",
         "https://i.pinimg.com/originals/7e/45/90/7e45905fefa36347e83333fd6d091140.jpg",
         5069,
         "image",
         "Style Me Pretty",
         "Local save in /data/event-planning",
         "60th Anniversary Parties,Anniversary Decorations,Golden Anniversary,25th Wedding Anniversary,Anniversary Pictures,Anniversary Ideas,Birthday Decorations,Event Planning Design,Event Design",
         "The Vault: Curated & Refined Wedding Inspiration",
         "b75b6f87-deb3-444f-b29e-ce9161b2df49"
        ],
        [
         "mens-fashion",
         "Black And Brown Outfits You Need To Try This Fall Season. The trick with black and brown outfits is to know how to combine colors, fabrics, and shapes to get a cohesive look. So… ",
         1,
         "1M",
         "https://i.pinimg.com/originals/3e/49/09/3e4909c0ccc4dbba3cad83d97eab4a61.png",
         7343,
         "image",
         "Cultura Colectiva",
         "Local save in /data/mens-fashion",
         "Winter Outfits Men,Stylish Mens Outfits,Casual Outfits,Men Casual,Smart Casual,Outfits For Men,Fall Outfits,Mens Winter Boots,Business Casual Men",
         "This Fashion Rule Is Nonsense, And We Should All Forget About It",
         "b8c63a95-6fe8-4d7f-9455-1eef3462fee0"
        ],
        [
         "tattoos",
         "summcoco gives you inspiration for the women fashion trends you want. Thinking about a new look or lifestyle? This is your ultimate resource to get the hottest trends. 30+ Eagle… ",
         1,
         "306k",
         "https://i.pinimg.com/originals/8d/c6/ed/8dc6ed0b212393187a14c7d07a88060f.png",
         8606,
         "image",
         "Sumcoco | Decor Ideas, Hairstyles, Nails Fashion Advice",
         "Local save in /data/tattoos",
         "White Bird Tattoos,Rose Tattoos,Flower Tattoos,Tattoo Black,Bird And Flower Tattoo,Tattoo Floral,Mini Tattoos,Flower Art,Girls With Sleeve Tattoos",
         "30+ Eagle Tattoos Ideas for Women",
         "71757040-bfc8-4631-9cac-22801e61d9e3"
        ],
        [
         "home-decor",
         "Beautiful and easy ways to update every room in your home with fall decor. Plus, my favorite finds in fall decor for 2020!",
         1,
         "92k",
         "https://i.pinimg.com/originals/e5/ae/dc/e5aedc14ce557e3a69f672e0f8c88f6e.png",
         6063,
         "image",
         "Kristen | Lifestyle, Mom Tips & Teacher Stuff Blog",
         "Local save in /data/home-decor",
         "Fall Home Decor,Autumn Home,Fall Decor Outdoor,Front Porch Fall Decor,Home Decor Ideas,Porch Ideas For Fall,Fall Outdoor Decorating,Decorating Ideas For Fall,Fall Front Doors",
         "41 Gorgeous Fall Decor Ideas For Your Home - Chaylor & Mads",
         "60693727-4927-4bd6-a8c5-096a392d63e6"
        ],
        [
         "event-planning",
         "So you're thinking of getting your event planner certification, but how much do you REALLY know about event planning? Event planners need to be knowledgeable and able to answer… ",
         1,
         "5k",
         "https://i.pinimg.com/originals/6f/19/bc/6f19bce24921bf843540fc04da9eb6bf.jpg",
         5076,
         "image",
         "QC Career School",
         "Local save in /data/event-planning",
         "Diy Wedding Food,Best Wedding Makeup,Wedding Events,Wedding Tips,Wedding Stuff,Weddings,Event Planning Business,Business Events,Wedding Makeup Tutorial",
         "Quiz: Test Your Event IQ! - Pointers For Planners",
         "fa3af29c-dc78-4eed-a4c5-52a407ea04c0"
        ],
        [
         "tattoos",
         "Snake temporary tattoo for collarbone. Spooky 3D tattoo for Halloween Includes 2 copies, 1 for the right side and 1 for the left side Apply with water and remove anytime with ba… ",
         1,
         "0",
         "https://i.pinimg.com/originals/d8/b7/a1/d8b7a11a3fe64e7fab91d3afb1536537.jpg",
         8578,
         "image",
         "Livitrevisani",
         "Local save in /data/tattoos",
         "Finger Tattoo Designs,Small Tattoo Designs,Finger Tattoos,Small 3d Tattoos,Cool Tattoos,Line Work Tattoo,Back Tattoo,Collarbone Tattoo,Tattoo Neck",
         "Snake Collarbone Temporary Tattoo. Halloween Tattoos  Spooky | Etsy",
         "036ec267-658b-4dad-a097-8ef0b4f30c0d"
        ],
        [
         "education",
         "15 Essential Classroom Items For First Year Teachers / First Year Teacher Must Haves",
         1,
         "5k",
         "https://i.pinimg.com/originals/4b/b9/a8/4bb9a85f609a8384ed9c9ab14e7bcea0.jpg",
         4137,
         "image",
         "Write Your Story | Budgeting, Healthy Lifestyle, Faith",
         "Local save in /data/education",
         "1st Year Teachers,First Year Teaching,First Grade Teachers,Elementary Teacher,Montessori Elementary,Teaching Reading,History Teachers,High School Classroom,First Grade Classroom",
         "15 Essential Classroom Items For First Year Teachers / First Year Teacher Must Haves",
         "bf275054-4464-448b-9143-1bf101aa366d"
        ],
        [
         "home-decor",
         "Celebrate fall with a neutral color palette with natural elements. This Navy and Neutral Fall Living Room + Kitchen Tour will make you rethink fall decor.",
         1,
         "178k",
         "https://i.pinimg.com/originals/f1/be/b6/f1beb6d3414f1c52929df39a83d8da9f.jpg",
         6566,
         "image",
         "Sand and Sisal",
         "Local save in /data/home-decor",
         "Fall Living Room,Coastal Living Rooms,Living Room Paint,Living Room Kitchen,Living Room Interior,Living Room Furniture,Living Room Decor,Living Area,Small Living",
         "Navy and Neutral Fall Living Room + Kitchen Tour - Sand and Sisal",
         "6d8848f8-f515-4935-8dae-5dd02304d76e"
        ],
        [
         "christmas",
         "Transform mini terra cotta pots into the sweetest gingerbread house ornaments! Kids will love making this adorable Christmas craft to hang on the tree.",
         1,
         "20k",
         "https://i.pinimg.com/originals/13/28/09/1328097d7c290d1bf8642b01a6ba1c6c.jpg",
         2411,
         "image",
         "Projects with Kids",
         "Local save in /data/christmas",
         "Noel Christmas,Diy Christmas Ornaments,Homemade Christmas,Simple Christmas,Gingerbread Ornaments,Christmas Gingerbread,Gingerbread Houses,Preschool Christmas,Ornaments Ideas",
         "The Sweetest Gingerbread House Ornaments Kids Can Make",
         "4e11801e-7a64-4f1e-90dd-e900677595c5"
        ],
        [
         "mens-fashion",
         "Women's T-shirt. Design inspired by the rock band The Killers' hit \"Mr. Brightside\". One of the greatest song from the album Hot Fuss released in 2004. Soft and light, 100% cott… ",
         1,
         "27",
         "https://i.pinimg.com/originals/8c/42/39/8c42391d35fcad51a4a79f7cd81bf26d.jpg",
         7166,
         "image",
         "Mala Rock | Rock T-shirts",
         "Local save in /data/mens-fashion",
         "Mr Brightside,Rock T Shirts,Greatest Songs,Timeless Classic,Rock Bands,Album,T Shirts For Women,Inspired,Hot",
         "The Killers - Mr. Brightside - Women's T-Shirt - Heather Dark Grey / S",
         "4a844b03-e161-47a1-904b-591eb5dc4fb1"
        ],
        [
         "tattoos",
         "We have put together the Ultimative Sunflower Tattoo Collection in 2020. Check out our highest rated handpicked Sunflower designs here!",
         1,
         "800k",
         "https://i.pinimg.com/originals/18/de/6c/18de6c81a8637e224c7d63dce1414ceb.jpg",
         8930,
         "image",
         "Next Luxury",
         "Local save in /data/tattoos",
         "Sunflower Tattoo Sleeve,Sunflower Tattoo Shoulder,Sunflower Tattoo Small,Sunflower Tattoos,Sunflower Tattoo Design,Shoulder Tattoo,Sunflower Mandala Tattoo,Sunflower Tattoo Meaning,Form Tattoo",
         "135 Sunflower Tattoo Ideas - [Best Rated Designs in 2021]",
         "a2999c28-f7b2-4577-af87-49d21d6d8a18"
        ],
        [
         "travel",
         "On our Calgary to Vancouver road trip we got to spend time in Banff, Canada. We visited the stunning Lake Moraine as well as Lake Louise and plenty of other of Canada's natural… ",
         1,
         "7k",
         "https://i.pinimg.com/videos/thumbnails/originals/57/9d/52/579d52242ae5609978c754d393e44e81.0000001.jpg",
         9672,
         "video",
         "Travel Mad Mum",
         "Local save in /data/travel",
         "Beautiful Places To Travel,Cool Places To Visit,Beautiful Roads,Beautiful Scenery,Wonderful Places,Lac Moraine,Moraine Lake,Lac Louise,Natur Wallpaper",
         "Lake Moraine, Banff, Canada",
         "1a5050a4-ac82-472c-aeff-3457de8bbee9"
        ],
        [
         "education",
         "Our family would rather spend time outdoors than indoors. We love nature! That said, sometimes mother nature is uncooperative. On these days, it can be fun to pull out some natu… ",
         1,
         "9k",
         "https://i.pinimg.com/originals/d6/3b/1a/d63b1a2a36534ecac5d1fbd0d932403a.jpg",
         3729,
         "image",
         "My Little Poppies (Cait Curley, MA/CAGS)",
         "Local save in /data/education",
         "Diy Nature,Theme Nature,Nature Study,Science And Nature,Summer Science,Earth Science,Nature Crafts,Outdoor Education,Outdoor Learning",
         "5 + Nature Games for Your Homeschool",
         "ac90f1d2-dc9e-438c-b073-dd48511b80b0"
        ],
        [
         "mens-fashion",
         "Looking for the coolest fall fashion for men this season? Click to read this article on fall fashion for men to look sharp on LLEGANCE.",
         1,
         "28k",
         "https://i.pinimg.com/originals/4c/bf/2d/4cbf2d6e04d2502612169220553f4cef.jpg",
         7294,
         "image",
         "LLEGANCE | Workwear Fashion Woman Advice For Driven Professionals",
         "Local save in /data/mens-fashion",
         "Fashion 90s,Autumn Fashion,Fashion Ideas,Trendy Fashion,Fashion Photo,Fashion Outfits,Fashion Trends,Urban Fashion Men,Men's Casual Fashion",
         "Foolproof Fall Fashion For Men You'll Love",
         "9d8409ef-bea7-4133-a021-c58b9c042210"
        ],
        [
         "christmas",
         "Take a look at this new collection of Christmas decor featuring 16 Blissful Christmas Table Decor Ideas That You Must See. Happy holidays!",
         1,
         "616k",
         "https://i.pinimg.com/originals/5f/70/30/5f7030a35bb8a1491e915fb0ae29bcf5.jpg",
         2015,
         "image",
         "ArchitectureArtDesigns",
         "Local save in /data/christmas",
         "Kids Crafts,Christmas Crafts For Kids,Homemade Christmas,Christmas Projects,Holiday Crafts,Christmas Gift Ideas,Preschool Christmas,Tree Crafts,Christmas Inspiration",
         "16 Blissful Christmas Table Decor Ideas That You Must See",
         "72359164-4419-452c-81cb-74f30a5a26b7"
        ],
        [
         "event-planning",
         "Do you love planning parties? Do you want to work-at-home? This post covers everything you need to know about becoming a home-based event planner!",
         1,
         "110k",
         "https://i.pinimg.com/originals/4d/a3/a4/4da3a4730418239f1b43ce81fb032c15.jpg",
         4913,
         "image",
         "The Work at Home Woman",
         "Local save in /data/event-planning",
         "Event Planning Tips,Event Planning Business,Party Planning,Business Ideas,Craft Business,Business Chic,Business Inspiration,Business Goals,Business Opportunities",
         "How to Work From Home as an Event Planner",
         "4d2d79c6-9ca8-46c9-a38e-931c5d967804"
        ],
        [
         "diy-and-crafts",
         "One thing I love about Crafts is how the evolve! These toilet paper rolls are adorable and modern. I love that something as simple as a recycled toilet paper roll can be taken t… ",
         1,
         "502k",
         "https://i.pinimg.com/originals/c6/cd/0d/c6cd0d04da9cfc11566cfd34eeb1f918.jpg",
         2959,
         "image",
         "CraftGossip.com",
         "Local save in /data/diy-and-crafts",
         "Toilet Paper Roll Crafts,Cardboard Crafts,Diy Paper,Paper Crafting,Toilet Paper Rolls,Cardboard Playhouse,Paper Art,Kids Crafts,Toddler Crafts",
         "The Cutest Toilet Paper Crafts",
         "439cac4b-18e8-4aaa-88c5-edb26a701111"
        ],
        [
         "travel",
         "35 European bucket list destinations for any traveler heading to Europe. From Cinque Terre, Italy to Iceland - there are so many amazing sites to see in Europe.",
         1,
         "28k",
         "https://i.pinimg.com/originals/71/04/1a/71041ad83ede43d9665741e719c58a86.jpg",
         9875,
         "image",
         "Nicki ",
         "Local save in /data/travel",
         "Backpacking Europe,Europe Travel Guide,Travel Guides,Travel Packing,Traveling Europe,Travelling,Travel Backpack,Budget Travel,2 Week Europe Itinerary",
         "European Bucket List: 35 Things NOT To Miss When Traveling Europe",
         "782dcbad-ff91-40a6-ba60-216efe29adb7"
        ],
        [
         "art",
         "Fashion designer Issac Mizrahi’s Greenwich Village home is an amalgamation of three apartments that was 20 years in the making",
         1,
         "3M",
         "https://i.pinimg.com/originals/f4/6c/54/f46c546a2e480022a42d842b7dca157e.jpg",
         428,
         "image",
         "Architectural Digest",
         "Local save in /data/art",
         "Modern Art,Contemporary Art,Contemporary Kitchens,Contemporary Bedroom,New York City Apartment,Manhattan Apartment,Art Moderne,Architectural Digest,Painting Inspiration",
         "Fashion Designer Isaac Mizrahi’s Updated 1930s New York City Apartment",
         "610b3f83-9fe0-469d-946c-d16b577fca71"
        ],
        [
         "education",
         "behavior, special education, token boards, when token boards don't work, money token systems",
         1,
         "11k",
         "https://i.pinimg.com/originals/24/f9/e2/24f9e22ada4a79c61432ef6c8fe1d0f9.jpg",
         3800,
         "image",
         "Traci Bender - The Bender Bunch",
         "Local save in /data/education",
         "Special Education Behavior,Classroom Behavior Management,Behavior Plans,Behaviour Management,Behavior Charts,Behavior Board,Behavior Report,Behavior Analyst,Preschool Special Education",
         "Reinforcing the Difficult Child When Token Boards Don't Work!",
         "d2c367ed-9287-4ea3-b173-198b292d9981"
        ],
        [
         "diy-and-crafts",
         "HELPFUL RESOURCES – Check out my resin colorants resources page here with links to all the products mentioned in this article (and more). Let me know if you have any that you lo… ",
         1,
         "6k",
         "https://i.pinimg.com/originals/d4/12/78/d4127833023ca32600571ddca16f1556.jpg",
         3454,
         "image",
         "Mixed Media Crafts",
         "Local save in /data/diy-and-crafts",
         "Epoxy Resin Art,Diy Resin Art,Diy Resin Crafts,Resin Molds,Ice Resin,Resin Pour,Diy Epoxy,Diy Resin Painting,Diy Resin Dice",
         "What can you use to color resin?",
         "46bd3f86-b09d-4e29-9033-7ff2df595e51"
        ],
        [
         "home-decor",
         "No description available Story format",
         1,
         "117k",
         "https://i.pinimg.com/videos/thumbnails/originals/75/48/3b/75483b74822855519ec8b40df4c670ef.0000001.jpg",
         6398,
         "multi-video(story page format)",
         "MojisStyle",
         "Local save in /data/home-decor",
         "Decor Home Living Room,Home And Living,Diy Bedroom Decor,Home Decor,Bathroom Interior Design,Interior Design Living Room,Dream Home Design,House Design,Beautiful Bathrooms",
         "My master bathroom makeover with @flooranddecor ! Follow me on Instagram @Mojisstyle for more",
         "ea44d318-2ced-4cf8-a66f-a6a036b84faa"
        ],
        [
         "finance",
         "Description Coupon Organizer in a fun colorful fabric -island oasis, Great Size for the \"basic\" couponer - holds up to 500 coupons with ease, and is made long enough so that you… ",
         1,
         "0",
         "https://i.pinimg.com/originals/65/bb/ea/65bbeaf458907bb079317d8303c4fa0e.jpg",
         5730,
         "image",
         "Consuelo Aguirre",
         "Local save in /data/finance",
         "Grocery Items,Grocery Coupons,Care Organization,Coupon Organization,Extreme Couponing,Couponing 101,Life Binder,Save My Money,Love Coupons",
         "Island Oasis Coupon Organizer",
         "1e1f0c8b-9fcf-460b-9154-c775827206eb"
        ],
        [
         "finance",
         "Description Coupon Organizer in a fun colorful fabric -island oasis, Great Size for the \"basic\" couponer - holds up to 500 coupons with ease, and is made long enough so that you… ",
         1,
         "0",
         "https://i.pinimg.com/originals/65/bb/ea/65bbeaf458907bb079317d8303c4fa0e.jpg",
         5730,
         "image",
         "Consuelo Aguirre",
         "Local save in /data/finance",
         "Grocery Items,Grocery Coupons,Care Organization,Coupon Organization,Extreme Couponing,Couponing 101,Life Binder,Save My Money,Love Coupons",
         "Island Oasis Coupon Organizer",
         "1e1f0c8b-9fcf-460b-9154-c775827206eb"
        ],
        [
         "vehicles",
         "January 23, 2009 We can see emergency responders queueing up for this one. ATVCorp has created versions of its Prowler Light Tactical All Terrain Vehicle (LTATV) for fire-fighti… ",
         1,
         "314",
         "https://i.pinimg.com/originals/14/6b/6b/146b6b1a1127773f7046e08550e68ed0.jpg",
         10552,
         "image",
         "p hump",
         "Local save in /data/vehicles",
         "Army Vehicles,Armored Vehicles,Go Kart Buggy,Atv Attachments,Aviation Fuel,Special Forces,Special Ops,Terrain Vehicle,Emergency Response",
         "The Prowler Emergency Response Vehicle",
         "17301b8c-ccbb-42ad-b2df-3876df35b1cd"
        ],
        [
         "art",
         "Learn to create alcohol ink rings for gorgeous pieces of art. Each ring sits on top of another, giving a multilayered appearance",
         1,
         "7k",
         "https://i.pinimg.com/originals/03/03/1f/03031fdc9775d0c06f61d68e51362379.png",
         603,
         "image",
         "Kim Cook-Thirteen Chairs-Slates Mugs And Tees",
         "Local save in /data/art",
         "Alcohol Ink Tiles,Alcohol Ink Glass,Alcohol Ink Crafts,Alcohol Ink Painting,Pour Painting,Zealand Tattoo,Copics,Types Of Art,Art Techniques",
         "How to Create Alcohol Ink Rings For Gorgeous Pieces of Art -",
         "78e21a64-53b0-4745-8294-e8c456f0ccc1"
        ],
        [
         "art",
         "10 art sub lessons that only need a pencil. Cover lessons for art teachers. Make the perfect art sub lessson folder with this amazing resources.",
         1,
         "25k",
         "https://i.pinimg.com/originals/ee/a8/78/eea878911033897d981a69d9f6b2fb7c.png",
         719,
         "image",
         "The Arty Teacher",
         "Local save in /data/art",
         "Art Lessons For Kids,Art Lessons Elementary,Art For Kids,Art Sub Plans,Art Lesson Plans,Art Substitute Plans,High School Art,Middle School Art,Primary School Art",
         "10 Art Sub Lessons that only need a Pencil",
         "d7c53e34-9540-4f48-a31b-89b6ed1852bb"
        ],
        [
         "christmas",
         "20 Christmas Decorating Ideas We Bet You Haven't Thought Of via @PureWow",
         1,
         "868k",
         "https://i.pinimg.com/originals/e9/b9/f0/e9b9f01cc3b2cf41948b45854335396c.jpg",
         2074,
         "image",
         "PureWow",
         "Local save in /data/christmas",
         "Holiday Centerpieces,Xmas Decorations,Centerpiece Ideas,Table Centerpieces,Valentine Decorations,Wedding Centerpieces,Outdoor Decorations,Christmas Centerpieces With Candles,Christmas Dining Table Decorations",
         "35 Christmas Decorating Ideas We Bet You Haven't Thought Of",
         "86ed09a7-842d-496d-9501-010c654eb340"
        ],
        [
         "art",
         "Free quick inspirational video on creating a mixed media face with acrylic, collage, stenciling and simple techniques. Come on over to watch",
         1,
         "27k",
         "https://i.pinimg.com/videos/thumbnails/originals/05/86/a4/0586a4116e1fc34efc25e064ccd123e8.0000001.jpg",
         831,
         "video",
         "Shawn Petite",
         "Local save in /data/art",
         "Collage Kunst,Paper Collage Art,Collage Art Mixed Media,Mixed Media Painting,Mixed Media Canvas,Canvas Collage,Art Collages,Wall Canvas,Canvas Art",
         "creating mixed-media faces tutorial",
         "5e65914d-9f58-4ff1-9676-658e426e8ce5"
        ],
        [
         "beauty",
         "The oil cleansing method is a simple, natural way to have clean skin without using toxic chemicals. It will leave your face radiant and soft!",
         1,
         "85k",
         "https://i.pinimg.com/originals/2c/1c/da/2c1cda7da86ee711536bbacfe89c75c9.jpg",
         1545,
         "image",
         "Thank Your Body",
         "Local save in /data/beauty",
         "Beauty Care,Diy Beauty,Beauty Hacks,Beauty Shop,Oil Cleansing Method,Goji,Korean Skincare Routine,Homemade Beauty Products,Organic Beauty",
         "Oil Cleansing Method: What it is and why you should do it.",
         "0c629541-cc5b-4b61-bd3f-613346893258"
        ],
        [
         "art",
         "Use our easy step by step tutorial to create a DIY abstract heart painting on any canvas size. Lots of inspiration to help you choose colors.",
         1,
         "410k",
         "https://i.pinimg.com/originals/33/85/f8/3385f82ee5e8ecdcccdf798bdcbee3d2.jpg",
         205,
         "image",
         "The Creativity Exchange",
         "Local save in /data/art",
         "Painting & Drawing,Watercolor Paintings,Original Paintings,Owl Watercolor,Acrylic Paintings,Owl Art,Bird Art,Beginner Painting,Animal Paintings",
         "DIY Abstract Heart Painting and a Fun Paint Party",
         "f4afd543-b9fe-44c3-8064-f2198faa1372"
        ],
        [
         "art",
         "Kids will use chalk pastels and black paper to create this bold and bright hot chocolate art project! Easy to follow tutorial included.",
         1,
         "20k",
         "https://i.pinimg.com/originals/5a/d3/82/5ad38202cf8acb022cb8f46ce2a78ad6.jpg",
         808,
         "image",
         "Projects with Kids",
         "Local save in /data/art",
         "Hot Chocolate Art,Chocolate Crafts,Art Activities For Kids,Preschool Art,Preschool Winter,Christmas Activities,Winter Art Projects,Clay Art Projects,Chalk Pastel Art",
         "Chalk Pastel Hot Chocolate Art Project",
         "23f67e42-db9f-4aae-8b82-cbec64ad9f4d"
        ],
        [
         "beauty",
         "Skin Purging sorgt für die reinste Haut, die du jemals hattest #skin äpurging #skinpurging #skincare #hautpflege #schönehaut #haut #beauty #tips",
         1,
         "326k",
         "https://i.pinimg.com/originals/93/b2/7b/93b27be044b2fd2f227f30a7f2c2faf2.jpg",
         1555,
         "image",
         "ELLE Germany",
         "Local save in /data/beauty",
         "Natural Hair Mask,Natural Hair Styles,Natural Beauty,Skin Tag,How To Apply Makeup,Pimples,Beauty Routines,Skincare Routine,Glowing Skin",
         "Skin Purging: Die Pflegemethode für reine Haut | ELLE",
         "1f20551b-a21c-4ff0-b20d-49e95fdc50d3"
        ],
        [
         "finance",
         "Don't fight about budgets and money with your spouse! Here are a few tips that we've found that make it work in our marriage!",
         1,
         "313",
         "https://i.pinimg.com/originals/37/d5/82/37d58296bcef3471a633c76b89d8625e.jpg",
         5468,
         "image",
         "Annamarie Hilton",
         "Local save in /data/finance",
         "Ways To Save Money,Money Tips,Money Saving Tips,How To Make Money,Managing Money,Saving Time,College Fund,Scholarships For College,Education College",
         "Budgets, Spouses & Making It Work! - Tshanina Peterson",
         "91ee49f6-0070-4270-ba19-fde88ba51c91"
        ],
        [
         "quotes",
         "Are you looking for some heart touching sad quotes and sayings; Here we have collected for you 50 best heart touching sad quotes..",
         1,
         "112",
         "https://i.pinimg.com/originals/0c/0f/40/0c0f408d96458080e0c82adb50be8e8f.jpg",
         7790,
         "image",
         "AnnaLee Kick",
         "Local save in /data/quotes",
         "Crush Quotes For Girls,Sad Crush Quotes,Hurt Quotes,Love Me Quotes,Mood Quotes,Quotes To Live By,Life Quotes,Quotes Quotes,Sad Quotes That Make You Cry",
         "50 Heart Touching Sad Quotes That Will Make You Cry",
         "9cd89fb9-d1af-4e66-85ca-c9d656c918b4"
        ],
        [
         "beauty",
         "Might try this... I'm generally skeptical about at-home remedies, but I know baking soda and lemons both do wonders. More",
         1,
         "5M",
         "https://i.pinimg.com/originals/c8/ab/af/c8abaffc56050f674eef8e65ad684929.jpg",
         1422,
         "image",
         "BuzzFeed",
         "Local save in /data/beauty",
         "Baking Soda Lemon Juice,Diy Beauté,Tips Belleza,Belleza Natural,Health And Beauty Tips,Beauty Secrets,Beauty Advice,Diy Beauty Tips,Beauty Life Hacks",
         "41 Life-Saving Beauty Hacks Every Girl Should Have In Her Arsenal",
         "7bbe860c-a739-4ba9-babd-feb24bb6e4d9"
        ],
        [
         "vehicles",
         "There are a lot of options of places to stay so you probably only have to book the initial one so you know the best place to land from the airport",
         1,
         "171k",
         "https://i.pinimg.com/originals/e9/01/4d/e9014d537dd2b81c606e8466cef3904c.jpg",
         10663,
         "image",
         "vintagetopia",
         "Local save in /data/vehicles",
         "Old Classic Cars,Classic Trucks,Old Vintage Cars,Antique Cars,Vintage Trucks,Antique Trucks,Cadillac,Convertible,Mustang",
         "21+ Classic Car Picture of the 1950s - Vintagetopia",
         "d5208c16-82ae-4fd1-87f0-36e5ef789412"
        ],
        [
         "diy-and-crafts",
         "Keep the kids busy this summer with these easy diy crafts and projects. Creative and…",
         1,
         "124k",
         "https://i.pinimg.com/originals/b3/bc/e2/b3bce2964e8c8975387b39660eed5f16.jpg",
         2863,
         "image",
         "Of Life & Lisa | Lifestyle Blog",
         "Local save in /data/diy-and-crafts",
         "Summer Crafts For Kids,Fun Crafts For Kids,Summer Kids,Toddler Crafts,Crafts To Do,Diy For Kids,Summer Snow,Diys For Summer,Craft Ideas For Girls",
         "25 Super Fun Summer Crafts for Kids - Of Life and Lisa",
         "9bf39437-42a6-4f02-99a0-9a0383d8cd70"
        ],
        [
         "diy-and-crafts",
         "Keep the kids busy this summer with these easy diy crafts and projects. Creative and…",
         1,
         "124k",
         "https://i.pinimg.com/originals/b3/bc/e2/b3bce2964e8c8975387b39660eed5f16.jpg",
         2863,
         "image",
         "Of Life & Lisa | Lifestyle Blog",
         "Local save in /data/diy-and-crafts",
         "Summer Crafts For Kids,Fun Crafts For Kids,Summer Kids,Toddler Crafts,Crafts To Do,Diy For Kids,Summer Snow,Diys For Summer,Craft Ideas For Girls",
         "25 Super Fun Summer Crafts for Kids - Of Life and Lisa",
         "9bf39437-42a6-4f02-99a0-9a0383d8cd70"
        ],
        [
         "tattoos",
         "We welcome you to our latest collection of Beautiful Tattoo Ideas For Women. Check out and get inspired by the most beautiful design for yourself.",
         1,
         "21k",
         "https://i.pinimg.com/originals/fa/cf/7c/facf7cd752a4bc7c09faaa8925ab80b1.jpg",
         8653,
         "image",
         "ALL FOR WOMAN",
         "Local save in /data/tattoos",
         "Small Back Tattoos,Small Girl Tattoos,Little Tattoos,Tattoo Girls,Mini Tattoos,Tattoo Small,Back Tattoo Women,Tattoo On Back,Girl Back Tattoos",
         "Unique Women Tattoos Ideas 2020",
         "24b1343c-4d86-4705-8ec9-7f1f2df2d77e"
        ],
        [
         "diy-and-crafts",
         "A fun space activity for kids. Preshoolers and kindergartners will love making their own alien spacecraft!",
         1,
         "192k",
         "https://i.pinimg.com/originals/6f/e8/aa/6fe8aa405513c6d2f77b5f47d17cdce8.jpg",
         2923,
         "image",
         "The Crafting Chicks",
         "Local save in /data/diy-and-crafts",
         "Paper Plate Crafts For Kids,Fun Crafts For Kids,Summer Crafts,Toddler Crafts,Art For Kids,Outer Space Crafts For Kids,Kid Crafts,Space Kids,Back To School Crafts For Kids",
         "UFO Paper Plate Craft",
         "52fa3af5-24a4-4ccb-8f17-9c3eb12327ee"
        ],
        [
         "travel",
         "Volcanoes, hikes, and hot springs in Costa Rica! The ultimate 5 day travel itinerary. - #costarica #travel #blogging #blog #bucketlist",
         1,
         "22k",
         "https://i.pinimg.com/originals/60/fe/4c/60fe4c3602e8e50e2e9f787ed27d2aba.jpg",
         9936,
         "image",
         "Jess Wandering",
         "Local save in /data/travel",
         "Costa Rica Reisen,Costa Rica Travel,Vacation Places,Dream Vacations,Vacation Spots,Vacation Food,Vacation Ideas,Voyage Dubai,Beautiful Places To Travel",
         "Chasing Waterfalls in Costa Rica",
         "1f3154a6-13f0-4049-8d5c-faea15b9f07c"
        ],
        [
         "quotes",
         "motivation quotes",
         1,
         "45k",
         "https://i.pinimg.com/originals/ee/b4/bc/eeb4bccdb074edb787ea61711e0c4dfd.jpg",
         7768,
         "image",
         "Boss Babe Chronicles | Personal Development, Finances, Self Care",
         "Local save in /data/quotes",
         "Motivacional Quotes,Motivational Quotes For Life,Uplifting Quotes,True Quotes,Words Quotes,Empowering Quotes,Boss Up Quotes,Inspirational Success Quotes,Boss Babe Quotes Work Hard",
         "16 Motivational Quotes Get You Inspired Today - Boss Babe Chronicles",
         "ae1a61f6-d958-40fe-ba93-6a78b3a73178"
        ],
        [
         "beauty",
         "Here’s how to get long-lasting makeup, so you can do your face in the morning and be set for the entire day. Follow these makeup tips for foundation, lipstick and more using pro… ",
         1,
         "3k",
         "https://i.pinimg.com/originals/d9/d1/3b/d9d13b9ac47d54940f05a75345a873d4.jpg",
         1268,
         "image",
         "Tony",
         "Local save in /data/beauty",
         "Beauty Makeup,Eye Makeup,Diy Beauty,Beauty Ideas,Beauty Skin,Homemade Beauty,Wolf Makeup,Oily Skin Makeup,Face Beauty",
         "Janet on Twitter",
         "e2f2cec5-cda5-42b2-ab9d-6dddf863e94e"
        ],
        [
         "art",
         "Mountain monologue watercolor",
         1,
         "27k",
         "https://i.pinimg.com/originals/fd/54/89/fd548935dcb13545120a2115baaa41d9.jpg",
         46,
         "image",
         "It's me, JD | DIY, Crafts, Home & Organization",
         "Local save in /data/art",
         "Arte Inspo,Kunst Inspo,Watercolor Artists,Watercolor Ideas,Simple Watercolor,Tattoo Watercolor,Watercolor Techniques,Watercolor Animals,Watercolor Illustration",
         "10 Watercolor Hacks For Beginners | Tips and Tricks to Making Watercolor Painting Easier",
         "19234073-8905-4885-b0d5-98e0b84cbf27"
        ],
        [
         "travel",
         "The best trips to take when you are young!",
         1,
         "89k",
         "https://i.pinimg.com/videos/thumbnails/originals/81/97/c1/8197c1beef8bcb19bea5d8b422211f34.0000001.jpg",
         9546,
         "video",
         "The World Pursuit Travel Website",
         "Local save in /data/travel",
         "Fun Places To Go,Beautiful Places To Travel,Best Places To Travel,Travel Jobs,Holiday Places,Future Travel,Travel Around The World,Adventure Travel,Travel Photos",
         "20 Amazing Trips to Take in Your Twenties!",
         "efd5b2d6-2f69-40cd-bb59-41f18c089e52"
        ],
        [
         "finance",
         "Get your personal finance in order with these 8 fr…",
         1,
         "46k",
         "https://i.pinimg.com/originals/f1/4f/cc/f14fcc75ee73ff22c983bdce70c022e2.jpg",
         5630,
         "image",
         "R.J. Weiss at The Ways To Wealth | Personal Finance | Debt Payoff",
         "Local save in /data/finance",
         "Ways To Save Money,Money Tips,Money Saving Tips,Money Budget,Saving Ideas,Budgeting Finances,Budgeting Tips,Planning Budget,Budget Planer",
         "7 Insanely Useful Money Management Worksheets",
         "d41e703c-c97c-4c5a-9f9c-338982ca7504"
        ],
        [
         "tattoos",
         "Koi fish tattoos are a popular choice for men who want to make a statement, thanks to their rich symbolism and bold design.",
         1,
         "211k",
         "https://i.pinimg.com/originals/8a/0c/0a/8a0c0a7b6236565c519acd41ad1a52c0.jpg",
         8731,
         "image",
         "TheTrendSpotter",
         "Local save in /data/tattoos",
         "Dr Tattoo,Wörter Tattoos,Pisces Tattoos,Tatoo Art,Dream Tattoos,Dope Tattoos,Mini Tattoos,Finger Tattoos,Body Art Tattoos",
         "20 Koi Fish Tattoos For Lucky Men",
         "ea760f71-febf-4023-b592-d17396659039"
        ],
        [
         "tattoos",
         "Koi fish tattoos are a popular choice for men who want to make a statement, thanks to their rich symbolism and bold design.",
         1,
         "211k",
         "https://i.pinimg.com/originals/8a/0c/0a/8a0c0a7b6236565c519acd41ad1a52c0.jpg",
         8731,
         "image",
         "TheTrendSpotter",
         "Local save in /data/tattoos",
         "Dr Tattoo,Wörter Tattoos,Pisces Tattoos,Tatoo Art,Dream Tattoos,Dope Tattoos,Mini Tattoos,Finger Tattoos,Body Art Tattoos",
         "20 Koi Fish Tattoos For Lucky Men",
         "ea760f71-febf-4023-b592-d17396659039"
        ],
        [
         "quotes",
         "#lovequotes #matchmaker #matchmadeinheaven #loveyourself #respectyourself",
         1,
         "51k",
         "https://i.pinimg.com/originals/c6/64/ee/c664ee71524fb5a6e7b7b49233f93b43.png",
         8304,
         "image",
         "Commitment Connection",
         "Local save in /data/quotes",
         "Wise Quotes,Quotable Quotes,Words Quotes,Wise Words,Quotes To Live By,Great Quotes,Motivational Quotes,Inspirational Quotes,Funny Quotes",
         "The #1 Reason You’re Not His Priority Anymore - Matthew Coast",
         "5b6d0913-25e4-43ab-839d-85d5516f78a4"
        ],
        [
         "quotes",
         "#lovequotes #matchmaker #matchmadeinheaven #loveyourself #respectyourself",
         1,
         "51k",
         "https://i.pinimg.com/originals/c6/64/ee/c664ee71524fb5a6e7b7b49233f93b43.png",
         8304,
         "image",
         "Commitment Connection",
         "Local save in /data/quotes",
         "Wise Quotes,Quotable Quotes,Words Quotes,Wise Words,Quotes To Live By,Great Quotes,Motivational Quotes,Inspirational Quotes,Funny Quotes",
         "The #1 Reason You’re Not His Priority Anymore - Matthew Coast",
         "5b6d0913-25e4-43ab-839d-85d5516f78a4"
        ],
        [
         "mens-fashion",
         "imgentleboss: “ - More about men’s fashion at @Gentleboss - GB’s Facebook - ”",
         1,
         "940",
         "https://i.pinimg.com/originals/e7/6e/8e/e76e8ed6cc838b84a934c6948a5caff7.jpg",
         7554,
         "image",
         "iElylike ..✿◕‿◕✿ஐ✿◕‿◕✿",
         "Local save in /data/mens-fashion",
         "Mens Fashion Blog,Look Fashion,Autumn Fashion,Fashion News,Fashion Sale,80s Fashion,Paris Fashion,Runway Fashion,Fashion Trends",
         "Craig Style",
         "c6fa12f4-0d4a-4b07-a335-5bf9f37f8281"
        ],
        [
         "tattoos",
         "Tattoos are one of the most efficient ways through which one decides to express themselves…",
         1,
         "4k",
         "https://i.pinimg.com/originals/ab/8e/50/ab8e505b04d4abc8f23e273c15f8a65d.jpg",
         8887,
         "image",
         "RapidLeaks",
         "Local save in /data/tattoos",
         "Dream Tattoos,Body Art Tattoos,New Tattoos,Small Tattoos,Cross Tattoos,Random Tattoos,Fashion Tattoos,Bird Tattoos,Fitness Tattoos",
         "25 Ultra Sexy Back Tattoo Ideas For Girls",
         "5df9f6e5-07f5-4ce8-a82e-96586bbc05d8"
        ],
        [
         "vehicles",
         "No description available Story format",
         1,
         "89k",
         "https://i.pinimg.com/videos/thumbnails/originals/4a/d4/96/4ad4961606179854f1141a90f50f002c.0000001.jpg",
         10509,
         "multi-video(story page format)",
         "TheSuperBOO!",
         "Local save in /data/vehicles",
         "Electric Off Road Vehicle,Cool Illusions,Flying Vehicles,Wow Video,Art And Craft Videos,Top Luxury Cars,Chevy Muscle Cars,Street Racing Cars,Funny Videos Clean",
         "Flying Car",
         "6a5f0e7e-1389-4e54-942f-4cb69f09f140"
        ],
        [
         "beauty",
         "Instantly create the look of lash extensions with this award-winning, best-selling mascara that won't clump, flake or smudge. Available in 3 shades!",
         1,
         "43k",
         "https://i.pinimg.com/videos/thumbnails/originals/69/84/e2/6984e20f3e262098fa9c0614c3453254.0000001.jpg",
         1313,
         "video",
         "Thrive Causemetics",
         "Local save in /data/beauty",
         "N,o, ,T,a,g,s, ,A,v,a,i,l,a,b,l,e",
         "Liquid Lash Extensions Mascara",
         "44662045-e891-4821-8a19-ebe7eedd371a"
        ],
        [
         "beauty",
         "Instantly create the look of lash extensions with this award-winning, best-selling mascara that won't clump, flake or smudge. Available in 3 shades!",
         1,
         "43k",
         "https://i.pinimg.com/videos/thumbnails/originals/69/84/e2/6984e20f3e262098fa9c0614c3453254.0000001.jpg",
         1313,
         "video",
         "Thrive Causemetics",
         "Local save in /data/beauty",
         "N,o, ,T,a,g,s, ,A,v,a,i,l,a,b,l,e",
         "Liquid Lash Extensions Mascara",
         "44662045-e891-4821-8a19-ebe7eedd371a"
        ],
        [
         "vehicles",
         "1937 Jaguar SS100 - 2 1/2 Litre Roadster, one of the most sought after pre-war sports cars",
         1,
         "8k",
         "https://i.pinimg.com/originals/26/81/a7/2681a71bd0c8f7fd0ab79c455338a49a.jpg",
         10625,
         "image",
         "hobbyDB",
         "Local save in /data/vehicles",
         "Jaguar Type E,Jaguar Xk,Jaguar Cars,Jaguar Roadster,Jaguar Sport,Retro Cars,Vintage Cars,Antique Cars,British Sports Cars",
         "Jaguar Type E",
         "d31885b7-742a-4e2a-bbb7-ac5f9d334340"
        ],
        [
         "event-planning",
         "Fun Book Page Crafts - MomAdvice",
         1,
         "112k",
         "https://i.pinimg.com/originals/17/55/87/175587b334e71c12300453b8b4b4c6aa.jpg",
         4988,
         "image",
         "MomAdvice",
         "Local save in /data/event-planning",
         "Harry Potter Wedding,Harry Potter Theme,Wedding Book,Wedding Table,Wedding Ideas,Wedding Vintage,Garden Wedding,Vintage Party,Wedding Paper",
         "Fun Book Page Crafts - MomAdvice",
         "fbdfd355-a356-46c2-a251-301869ae2674"
        ],
        [
         "travel",
         "Best spots to see for travel through Ireland!",
         1,
         "130k",
         "https://i.pinimg.com/originals/c7/50/d3/c750d36524856873d64406652d69b4fb.png",
         9590,
         "image",
         "Fun Life Crisis",
         "Local save in /data/travel",
         "Vacation Ideas,Vacation Spots,Emerald Isle,London England,Travel Guides,Travel Tips,Travel Hacks,Travel Packing,Places To Travel",
         "Top 20 Things To See And Do In Ireland",
         "b849e976-52f6-45d7-8b25-51559318f167"
        ],
        [
         "mens-fashion",
         "billy-george: “Summer styles ”",
         1,
         "377",
         "https://i.pinimg.com/originals/3c/8c/53/3c8c534cd02334c50047bd3a4feccce9.jpg",
         6844,
         "image",
         "Au'vey Smith",
         "Local save in /data/mens-fashion",
         "Fashion Week Hommes,La Fashion Week,Fashion Moda,Urban Fashion,Trendy Fashion,Fashion Spring,Fashion 2017,New Mens Fashion,Trendy Clothing",
         "♔the-fashman♔",
         "69c3f268-274f-44bd-9cb4-427e64fefc44"
        ],
        [
         "beauty",
         "Untitled",
         1,
         "0",
         "https://i.pinimg.com/originals/af/c4/59/afc459bd6e1fd8f9aef212504afebf3a.jpg",
         1014,
         "image",
         "Grecia Perales",
         "Local save in /data/beauty",
         "Hair Inspo,Hair Inspiration,Motivation Inspiration,Cl Rapper,Foto Glamour,Kreative Portraits,Classy Aesthetic,Pretty Hairstyles,Hair Looks",
         "Hairstyles & Beauty",
         "9ac94307-bb27-410e-b554-0a0ab6c19847"
        ],
        [
         "vehicles",
         "Nissan GT-R. Sick.",
         1,
         "437",
         "https://i.pinimg.com/originals/0d/29/9f/0d299f3df020395aa7ce8387f40fbeed.jpg",
         10794,
         "image",
         "Ray Uyemura",
         "Local save in /data/vehicles",
         "Lowrider,Old Vintage Cars,Antique Cars,Austin Martin,Nissan Gtr Black,Jaguar,1959 Cadillac,Cadillac Ct6,Old School Cars",
         "TireBuyer",
         "c4bd2577-a7bb-4409-bb7a-17d5ed7e1cf1"
        ],
        [
         "beauty",
         "9 colors lazy lipstick",
         1,
         "8k",
         "https://i.pinimg.com/originals/25/cf/8c/25cf8cb74b43ab95591342c2bbe4ecd8.jpg",
         1094,
         "image",
         "Jiew82633",
         "Local save in /data/beauty",
         "Nail Inspo,Lazy,Lipstick,How To Apply,Makeup,Colors,Products,Make Up,Lipsticks",
         "9 colors lazy lipstick - 9 colors lazy lipstick4",
         "6deacdcd-75ed-4dd8-8951-9b77453f38e0"
        ],
        [
         "diy-and-crafts",
         "No description available Story format",
         0,
         "User Info Error",
         "Image src error.",
         3089,
         "multi-video(story page format)",
         "User Info Error",
         "Local save in /data/diy-and-crafts",
         "N,o, ,T,a,g,s, ,A,v,a,i,l,a,b,l,e",
         "No Title Data Available",
         "88f9227e-88d0-4b1c-b0be-bcfc3028b8e2"
        ],
        [
         "mens-fashion",
         "No description available Story format",
         0,
         "User Info Error",
         "Image src error.",
         7528,
         "multi-video(story page format)",
         "User Info Error",
         "Local save in /data/mens-fashion",
         "N,o, ,T,a,g,s, ,A,v,a,i,l,a,b,l,e",
         "No Title Data Available",
         "fbe53c66-3442-4773-b19e-d3ec6f54dddf"
        ],
        [
         "mens-fashion",
         "No description available Story format",
         0,
         "User Info Error",
         "Image src error.",
         7528,
         "multi-video(story page format)",
         "User Info Error",
         "Local save in /data/mens-fashion",
         "N,o, ,T,a,g,s, ,A,v,a,i,l,a,b,l,e",
         "No Title Data Available",
         "fbe53c66-3442-4773-b19e-d3ec6f54dddf"
        ]
       ],
       "datasetInfos": [],
       "dbfsResultPath": null,
       "isJsonSchema": true,
       "metadata": {},
       "overflow": false,
       "plotOptions": {
        "customPlotOptions": {},
        "displayType": "table",
        "pivotAggregation": null,
        "pivotColumns": null,
        "xColumns": null,
        "yColumns": null
       },
       "removedWidgets": [],
       "schema": [
        {
         "metadata": "{}",
         "name": "category",
         "type": "\"string\""
        },
        {
         "metadata": "{}",
         "name": "description",
         "type": "\"string\""
        },
        {
         "metadata": "{}",
         "name": "downloaded",
         "type": "\"long\""
        },
        {
         "metadata": "{}",
         "name": "follower_count",
         "type": "\"string\""
        },
        {
         "metadata": "{}",
         "name": "image_src",
         "type": "\"string\""
        },
        {
         "metadata": "{}",
         "name": "index",
         "type": "\"long\""
        },
        {
         "metadata": "{}",
         "name": "is_image_or_video",
         "type": "\"string\""
        },
        {
         "metadata": "{}",
         "name": "poster_name",
         "type": "\"string\""
        },
        {
         "metadata": "{}",
         "name": "save_location",
         "type": "\"string\""
        },
        {
         "metadata": "{}",
         "name": "tag_list",
         "type": "\"string\""
        },
        {
         "metadata": "{}",
         "name": "title",
         "type": "\"string\""
        },
        {
         "metadata": "{}",
         "name": "unique_id",
         "type": "\"string\""
        }
       ],
       "type": "table"
      }
     },
     "output_type": "display_data"
    }
   ],
   "source": [
    "display(df_pin)"
   ]
  },
  {
   "cell_type": "code",
   "execution_count": null,
   "metadata": {
    "application/vnd.databricks.v1+cell": {
     "cellMetadata": {
      "byteLimit": 2048000,
      "rowLimit": 10000
     },
     "inputWidgets": {},
     "nuid": "671f8b45-42c1-4e5e-b446-20fafaf70220",
     "showTitle": false,
     "title": ""
    }
   },
   "outputs": [
    {
     "data": {
      "text/html": [
       "<style scoped>\n",
       "  .table-result-container {\n",
       "    max-height: 300px;\n",
       "    overflow: auto;\n",
       "  }\n",
       "  table, th, td {\n",
       "    border: 1px solid black;\n",
       "    border-collapse: collapse;\n",
       "  }\n",
       "  th, td {\n",
       "    padding: 5px;\n",
       "  }\n",
       "  th {\n",
       "    text-align: left;\n",
       "  }\n",
       "</style><div class='table-result-container'><table class='table-result'><thead style='background-color: white'><tr><th>age</th><th>date_joined</th><th>first_name</th><th>ind</th><th>last_name</th></tr></thead><tbody><tr><td>27</td><td>2016-03-08 13:38:37</td><td>Christopher</td><td>2015</td><td>Bradshaw</td></tr><tr><td>39</td><td>2016-06-29 20:43:59</td><td>Christina</td><td>6398</td><td>Davenport</td></tr><tr><td>20</td><td>2015-10-23 04:13:23</td><td>Alexandria</td><td>3599</td><td>Alvarado</td></tr><tr><td>20</td><td>2015-12-01 15:08:31</td><td>Christopher</td><td>5076</td><td>Butler</td></tr><tr><td>39</td><td>2017-07-19 07:12:04</td><td>Michelle</td><td>7790</td><td>Gutierrez</td></tr><tr><td>49</td><td>2016-04-22 20:36:02</td><td>Brittany</td><td>10509</td><td>Thompson</td></tr><tr><td>21</td><td>2015-11-10 09:27:42</td><td>Andrea</td><td>8731</td><td>Alexander</td></tr><tr><td>24</td><td>2016-03-31 20:56:39</td><td>Austin</td><td>8887</td><td>Rodriguez</td></tr><tr><td>23</td><td>2015-12-01 18:15:02</td><td>Christine</td><td>7768</td><td>Cortez</td></tr><tr><td>36</td><td>2015-12-20 16:38:13</td><td>Michelle</td><td>4315</td><td>Prince</td></tr><tr><td>32</td><td>2017-10-10 20:09:33</td><td>Christian</td><td>10625</td><td>Lang</td></tr><tr><td>22</td><td>2016-02-11 20:46:04</td><td>Jennifer</td><td>9672</td><td>Hudson</td></tr><tr><td>23</td><td>2015-11-28 11:52:37</td><td>Andrew</td><td>8930</td><td>Anderson</td></tr><tr><td>31</td><td>2017-08-04 14:30:22</td><td>Alexander</td><td>6566</td><td>Perez</td></tr><tr><td>52</td><td>2016-02-07 20:00:25</td><td>Richard</td><td>3729</td><td>Edwards</td></tr><tr><td>40</td><td>2017-05-16 07:09:21</td><td>Michael</td><td>10552</td><td>Hunter</td></tr><tr><td>32</td><td>2016-04-02 03:51:23</td><td>Brittany</td><td>1313</td><td>Jones</td></tr><tr><td>34</td><td>2016-12-22 00:02:02</td><td>Thomas</td><td>10794</td><td>Turner</td></tr><tr><td>20</td><td>2016-01-07 19:49:22</td><td>David</td><td>2959</td><td>Griffith</td></tr><tr><td>26</td><td>2015-12-20 10:28:00</td><td>Brendan</td><td>9875</td><td>Joseph</td></tr><tr><td>21</td><td>2016-01-03 15:42:12</td><td>Annette</td><td>2074</td><td>Forbes</td></tr><tr><td>56</td><td>2016-10-15 17:21:39</td><td>Gregory</td><td>1014</td><td>Ramsey</td></tr><tr><td>59</td><td>2017-06-29 22:35:17</td><td>Michael</td><td>4137</td><td>Decker</td></tr><tr><td>21</td><td>2015-11-24 02:15:36</td><td>Aaron</td><td>2411</td><td>Bartlett</td></tr><tr><td>58</td><td>2016-06-03 23:35:30</td><td>Michael</td><td>4508</td><td>Carter</td></tr><tr><td>32</td><td>2016-03-10 04:11:31</td><td>Brittany</td><td>771</td><td>Butler</td></tr><tr><td>46</td><td>2015-11-27 23:11:21</td><td>Jonathan</td><td>1545</td><td>Avila</td></tr><tr><td>44</td><td>2016-10-29 02:07:21</td><td>Brandon</td><td>603</td><td>Jackson</td></tr><tr><td>22</td><td>2016-02-09 17:01:38</td><td>Carlos</td><td>5630</td><td>Estrada</td></tr><tr><td>32</td><td>2016-06-08 22:10:13</td><td>Donna</td><td>1268</td><td>Campbell</td></tr><tr><td>54</td><td>2016-05-15 04:22:01</td><td>Alexis</td><td>1555</td><td>Bennett</td></tr><tr><td>20</td><td>2015-12-17 08:43:40</td><td>Adam</td><td>3800</td><td>Armstrong</td></tr><tr><td>25</td><td>2015-12-28 04:21:39</td><td>Charles</td><td>8304</td><td>Berry</td></tr><tr><td>23</td><td>2015-11-25 13:36:22</td><td>Corey</td><td>6063</td><td>Andrews</td></tr><tr><td>48</td><td>2017-09-26 16:31:56</td><td>Robert</td><td>3454</td><td>Murphy</td></tr><tr><td>20</td><td>2017-04-11 16:35:33</td><td>Cheryl</td><td>7554</td><td>Huerta</td></tr><tr><td>30</td><td>2015-12-25 20:24:37</td><td>Emily</td><td>6145</td><td>Hawkins</td></tr><tr><td>31</td><td>2016-11-09 19:50:51</td><td>Kaylee</td><td>9979</td><td>Miller</td></tr><tr><td>24</td><td>2015-11-20 05:37:11</td><td>Angela</td><td>4913</td><td>Brooks</td></tr><tr><td>25</td><td>2015-11-19 21:24:33</td><td>Daniel</td><td>9759</td><td>Brooks</td></tr><tr><td>20</td><td>2016-12-31 00:06:36</td><td>Dawn</td><td>7294</td><td>Anderson</td></tr><tr><td>21</td><td>2015-11-24 02:15:36</td><td>Aaron</td><td>808</td><td>Bartlett</td></tr><tr><td>28</td><td>2016-11-15 10:40:03</td><td>Anthony</td><td>9936</td><td>Cantu</td></tr><tr><td>30</td><td>2016-07-03 10:59:40</td><td>Peter</td><td>6844</td><td>Roberts</td></tr><tr><td>47</td><td>2017-04-26 03:26:23</td><td>Aaron</td><td>3419</td><td>Jenkins</td></tr><tr><td>25</td><td>2017-07-20 05:51:23</td><td>Rhonda</td><td>4988</td><td>Durham</td></tr><tr><td>32</td><td>2016-10-23 14:06:51</td><td>Dylan</td><td>2863</td><td>Holmes</td></tr><tr><td>36</td><td>2015-12-08 20:02:43</td><td>Rachel</td><td>5730</td><td>Davis</td></tr><tr><td>26</td><td>2015-11-11 03:20:57</td><td>Brian</td><td>2923</td><td>Nelson</td></tr><tr><td>20</td><td>2015-10-21 08:27:36</td><td>Amanda</td><td>2418</td><td>Adams</td></tr><tr><td>22</td><td>2015-12-21 08:06:54</td><td>Andrew</td><td>3156</td><td>Baker</td></tr><tr><td>20</td><td>2015-11-28 02:20:29</td><td>Claudia</td><td>428</td><td>Adams</td></tr><tr><td>24</td><td>2016-01-11 12:03:48</td><td>Anne</td><td>7343</td><td>Clayton</td></tr><tr><td>22</td><td>2015-12-31 14:57:02</td><td>Carol</td><td>10138</td><td>Silva</td></tr><tr><td>21</td><td>2015-11-12 06:21:36</td><td>Denise</td><td>7922</td><td>Adams</td></tr><tr><td>22</td><td>2015-10-24 18:56:30</td><td>Amanda</td><td>9590</td><td>Allen</td></tr><tr><td>44</td><td>2017-06-21 19:53:27</td><td>Kayla</td><td>2698</td><td>Burton</td></tr><tr><td>28</td><td>2016-06-16 02:06:38</td><td>Aimee</td><td>831</td><td>Collins</td></tr><tr><td>21</td><td>2015-11-12 06:21:36</td><td>Denise</td><td>8606</td><td>Adams</td></tr><tr><td>20</td><td>2015-10-23 22:47:39</td><td>Larry</td><td>4076</td><td>Pineda</td></tr><tr><td>20</td><td>2015-10-31 18:51:07</td><td>Aaron</td><td>1422</td><td>Abbott</td></tr><tr><td>20</td><td>2015-10-24 11:23:51</td><td>Abigail</td><td>7528</td><td>Ali</td></tr><tr><td>25</td><td>2016-01-13 17:36:30</td><td>Amanda</td><td>5069</td><td>Ball</td></tr><tr><td>20</td><td>2015-10-24 11:23:51</td><td>Abigail</td><td>3089</td><td>Ali</td></tr><tr><td>24</td><td>2016-03-09 10:48:14</td><td>Tammy</td><td>8653</td><td>Davis</td></tr><tr><td>20</td><td>2016-01-01 13:50:40</td><td>Alvin</td><td>7166</td><td>Adams</td></tr><tr><td>20</td><td>2016-02-27 21:13:44</td><td>Alex</td><td>9546</td><td>Barnes</td></tr><tr><td>20</td><td>2016-07-23 20:51:06</td><td>Lisa</td><td>5468</td><td>Gamble</td></tr><tr><td>20</td><td>2015-10-23 12:40:19</td><td>Brett</td><td>205</td><td>Bryant</td></tr><tr><td>20</td><td>2016-01-26 01:49:23</td><td>Alicia</td><td>719</td><td>Avila</td></tr><tr><td>20</td><td>2016-07-02 02:32:30</td><td>Ann</td><td>1094</td><td>Elliott</td></tr><tr><td>27</td><td>2015-12-16 15:20:05</td><td>Anne</td><td>5494</td><td>Allen</td></tr><tr><td>23</td><td>2016-06-23 14:38:00</td><td>Julie</td><td>10663</td><td>Cox</td></tr><tr><td>20</td><td>2015-10-28 05:00:33</td><td>Barry</td><td>1704</td><td>Lynn</td></tr><tr><td>22</td><td>2016-03-01 07:11:48</td><td>David</td><td>2482</td><td>Moss</td></tr><tr><td>21</td><td>2016-01-07 08:11:35</td><td>Alison</td><td>159</td><td>Bell</td></tr><tr><td>24</td><td>2016-01-11 23:08:27</td><td>Alex</td><td>2293</td><td>Bean</td></tr><tr><td>30</td><td>2016-01-06 09:58:56</td><td>Erik</td><td>46</td><td>Kelley</td></tr><tr><td>48</td><td>2017-06-01 23:13:27</td><td>Joe</td><td>8578</td><td>Pham</td></tr><tr><td>25</td><td>2015-11-26 17:42:37</td><td>Jon</td><td>427</td><td>Burke</td></tr></tbody></table></div>"
      ]
     },
     "metadata": {
      "application/vnd.databricks.v1+output": {
       "addedWidgets": {},
       "aggData": [],
       "aggError": "",
       "aggOverflow": false,
       "aggSchema": [],
       "aggSeriesLimitReached": false,
       "aggType": "",
       "arguments": {},
       "columnCustomDisplayInfos": {},
       "data": [
        [
         27,
         "2016-03-08 13:38:37",
         "Christopher",
         2015,
         "Bradshaw"
        ],
        [
         39,
         "2016-06-29 20:43:59",
         "Christina",
         6398,
         "Davenport"
        ],
        [
         20,
         "2015-10-23 04:13:23",
         "Alexandria",
         3599,
         "Alvarado"
        ],
        [
         20,
         "2015-12-01 15:08:31",
         "Christopher",
         5076,
         "Butler"
        ],
        [
         39,
         "2017-07-19 07:12:04",
         "Michelle",
         7790,
         "Gutierrez"
        ],
        [
         49,
         "2016-04-22 20:36:02",
         "Brittany",
         10509,
         "Thompson"
        ],
        [
         21,
         "2015-11-10 09:27:42",
         "Andrea",
         8731,
         "Alexander"
        ],
        [
         24,
         "2016-03-31 20:56:39",
         "Austin",
         8887,
         "Rodriguez"
        ],
        [
         23,
         "2015-12-01 18:15:02",
         "Christine",
         7768,
         "Cortez"
        ],
        [
         36,
         "2015-12-20 16:38:13",
         "Michelle",
         4315,
         "Prince"
        ],
        [
         32,
         "2017-10-10 20:09:33",
         "Christian",
         10625,
         "Lang"
        ],
        [
         22,
         "2016-02-11 20:46:04",
         "Jennifer",
         9672,
         "Hudson"
        ],
        [
         23,
         "2015-11-28 11:52:37",
         "Andrew",
         8930,
         "Anderson"
        ],
        [
         31,
         "2017-08-04 14:30:22",
         "Alexander",
         6566,
         "Perez"
        ],
        [
         52,
         "2016-02-07 20:00:25",
         "Richard",
         3729,
         "Edwards"
        ],
        [
         40,
         "2017-05-16 07:09:21",
         "Michael",
         10552,
         "Hunter"
        ],
        [
         32,
         "2016-04-02 03:51:23",
         "Brittany",
         1313,
         "Jones"
        ],
        [
         34,
         "2016-12-22 00:02:02",
         "Thomas",
         10794,
         "Turner"
        ],
        [
         20,
         "2016-01-07 19:49:22",
         "David",
         2959,
         "Griffith"
        ],
        [
         26,
         "2015-12-20 10:28:00",
         "Brendan",
         9875,
         "Joseph"
        ],
        [
         21,
         "2016-01-03 15:42:12",
         "Annette",
         2074,
         "Forbes"
        ],
        [
         56,
         "2016-10-15 17:21:39",
         "Gregory",
         1014,
         "Ramsey"
        ],
        [
         59,
         "2017-06-29 22:35:17",
         "Michael",
         4137,
         "Decker"
        ],
        [
         21,
         "2015-11-24 02:15:36",
         "Aaron",
         2411,
         "Bartlett"
        ],
        [
         58,
         "2016-06-03 23:35:30",
         "Michael",
         4508,
         "Carter"
        ],
        [
         32,
         "2016-03-10 04:11:31",
         "Brittany",
         771,
         "Butler"
        ],
        [
         46,
         "2015-11-27 23:11:21",
         "Jonathan",
         1545,
         "Avila"
        ],
        [
         44,
         "2016-10-29 02:07:21",
         "Brandon",
         603,
         "Jackson"
        ],
        [
         22,
         "2016-02-09 17:01:38",
         "Carlos",
         5630,
         "Estrada"
        ],
        [
         32,
         "2016-06-08 22:10:13",
         "Donna",
         1268,
         "Campbell"
        ],
        [
         54,
         "2016-05-15 04:22:01",
         "Alexis",
         1555,
         "Bennett"
        ],
        [
         20,
         "2015-12-17 08:43:40",
         "Adam",
         3800,
         "Armstrong"
        ],
        [
         25,
         "2015-12-28 04:21:39",
         "Charles",
         8304,
         "Berry"
        ],
        [
         23,
         "2015-11-25 13:36:22",
         "Corey",
         6063,
         "Andrews"
        ],
        [
         48,
         "2017-09-26 16:31:56",
         "Robert",
         3454,
         "Murphy"
        ],
        [
         20,
         "2017-04-11 16:35:33",
         "Cheryl",
         7554,
         "Huerta"
        ],
        [
         30,
         "2015-12-25 20:24:37",
         "Emily",
         6145,
         "Hawkins"
        ],
        [
         31,
         "2016-11-09 19:50:51",
         "Kaylee",
         9979,
         "Miller"
        ],
        [
         24,
         "2015-11-20 05:37:11",
         "Angela",
         4913,
         "Brooks"
        ],
        [
         25,
         "2015-11-19 21:24:33",
         "Daniel",
         9759,
         "Brooks"
        ],
        [
         20,
         "2016-12-31 00:06:36",
         "Dawn",
         7294,
         "Anderson"
        ],
        [
         21,
         "2015-11-24 02:15:36",
         "Aaron",
         808,
         "Bartlett"
        ],
        [
         28,
         "2016-11-15 10:40:03",
         "Anthony",
         9936,
         "Cantu"
        ],
        [
         30,
         "2016-07-03 10:59:40",
         "Peter",
         6844,
         "Roberts"
        ],
        [
         47,
         "2017-04-26 03:26:23",
         "Aaron",
         3419,
         "Jenkins"
        ],
        [
         25,
         "2017-07-20 05:51:23",
         "Rhonda",
         4988,
         "Durham"
        ],
        [
         32,
         "2016-10-23 14:06:51",
         "Dylan",
         2863,
         "Holmes"
        ],
        [
         36,
         "2015-12-08 20:02:43",
         "Rachel",
         5730,
         "Davis"
        ],
        [
         26,
         "2015-11-11 03:20:57",
         "Brian",
         2923,
         "Nelson"
        ],
        [
         20,
         "2015-10-21 08:27:36",
         "Amanda",
         2418,
         "Adams"
        ],
        [
         22,
         "2015-12-21 08:06:54",
         "Andrew",
         3156,
         "Baker"
        ],
        [
         20,
         "2015-11-28 02:20:29",
         "Claudia",
         428,
         "Adams"
        ],
        [
         24,
         "2016-01-11 12:03:48",
         "Anne",
         7343,
         "Clayton"
        ],
        [
         22,
         "2015-12-31 14:57:02",
         "Carol",
         10138,
         "Silva"
        ],
        [
         21,
         "2015-11-12 06:21:36",
         "Denise",
         7922,
         "Adams"
        ],
        [
         22,
         "2015-10-24 18:56:30",
         "Amanda",
         9590,
         "Allen"
        ],
        [
         44,
         "2017-06-21 19:53:27",
         "Kayla",
         2698,
         "Burton"
        ],
        [
         28,
         "2016-06-16 02:06:38",
         "Aimee",
         831,
         "Collins"
        ],
        [
         21,
         "2015-11-12 06:21:36",
         "Denise",
         8606,
         "Adams"
        ],
        [
         20,
         "2015-10-23 22:47:39",
         "Larry",
         4076,
         "Pineda"
        ],
        [
         20,
         "2015-10-31 18:51:07",
         "Aaron",
         1422,
         "Abbott"
        ],
        [
         20,
         "2015-10-24 11:23:51",
         "Abigail",
         7528,
         "Ali"
        ],
        [
         25,
         "2016-01-13 17:36:30",
         "Amanda",
         5069,
         "Ball"
        ],
        [
         20,
         "2015-10-24 11:23:51",
         "Abigail",
         3089,
         "Ali"
        ],
        [
         24,
         "2016-03-09 10:48:14",
         "Tammy",
         8653,
         "Davis"
        ],
        [
         20,
         "2016-01-01 13:50:40",
         "Alvin",
         7166,
         "Adams"
        ],
        [
         20,
         "2016-02-27 21:13:44",
         "Alex",
         9546,
         "Barnes"
        ],
        [
         20,
         "2016-07-23 20:51:06",
         "Lisa",
         5468,
         "Gamble"
        ],
        [
         20,
         "2015-10-23 12:40:19",
         "Brett",
         205,
         "Bryant"
        ],
        [
         20,
         "2016-01-26 01:49:23",
         "Alicia",
         719,
         "Avila"
        ],
        [
         20,
         "2016-07-02 02:32:30",
         "Ann",
         1094,
         "Elliott"
        ],
        [
         27,
         "2015-12-16 15:20:05",
         "Anne",
         5494,
         "Allen"
        ],
        [
         23,
         "2016-06-23 14:38:00",
         "Julie",
         10663,
         "Cox"
        ],
        [
         20,
         "2015-10-28 05:00:33",
         "Barry",
         1704,
         "Lynn"
        ],
        [
         22,
         "2016-03-01 07:11:48",
         "David",
         2482,
         "Moss"
        ],
        [
         21,
         "2016-01-07 08:11:35",
         "Alison",
         159,
         "Bell"
        ],
        [
         24,
         "2016-01-11 23:08:27",
         "Alex",
         2293,
         "Bean"
        ],
        [
         30,
         "2016-01-06 09:58:56",
         "Erik",
         46,
         "Kelley"
        ],
        [
         48,
         "2017-06-01 23:13:27",
         "Joe",
         8578,
         "Pham"
        ],
        [
         25,
         "2015-11-26 17:42:37",
         "Jon",
         427,
         "Burke"
        ]
       ],
       "datasetInfos": [],
       "dbfsResultPath": null,
       "isJsonSchema": true,
       "metadata": {},
       "overflow": false,
       "plotOptions": {
        "customPlotOptions": {},
        "displayType": "table",
        "pivotAggregation": null,
        "pivotColumns": null,
        "xColumns": null,
        "yColumns": null
       },
       "removedWidgets": [],
       "schema": [
        {
         "metadata": "{}",
         "name": "age",
         "type": "\"long\""
        },
        {
         "metadata": "{}",
         "name": "date_joined",
         "type": "\"string\""
        },
        {
         "metadata": "{}",
         "name": "first_name",
         "type": "\"string\""
        },
        {
         "metadata": "{}",
         "name": "ind",
         "type": "\"long\""
        },
        {
         "metadata": "{}",
         "name": "last_name",
         "type": "\"string\""
        }
       ],
       "type": "table"
      }
     },
     "output_type": "display_data"
    }
   ],
   "source": [
    "display(df_user)"
   ]
  },
  {
   "cell_type": "markdown",
   "metadata": {
    "application/vnd.databricks.v1+cell": {
     "cellMetadata": {},
     "inputWidgets": {},
     "nuid": "7be1f951-b441-4aeb-9968-99edcb60b177",
     "showTitle": false,
     "title": ""
    }
   },
   "source": [
    "\n",
    "##Updated Data Cleaning Section "
   ]
  },
  {
   "cell_type": "code",
   "execution_count": null,
   "metadata": {
    "application/vnd.databricks.v1+cell": {
     "cellMetadata": {
      "byteLimit": 2048000,
      "rowLimit": 10000
     },
     "inputWidgets": {},
     "nuid": "952aa69f-d473-4e27-845c-821ab3fba84f",
     "showTitle": false,
     "title": ""
    }
   },
   "outputs": [
    {
     "data": {
      "text/html": [
       "<style scoped>\n",
       "  .ansiout {\n",
       "    display: block;\n",
       "    unicode-bidi: embed;\n",
       "    white-space: pre-wrap;\n",
       "    word-wrap: break-word;\n",
       "    word-break: break-all;\n",
       "    font-family: \"Menlo\", \"Monaco\", \"Consolas\", \"Ubuntu Mono\", \"Source Code Pro\", monospace;\n",
       "    font-size: 13px;\n",
       "    color: #555;\n",
       "    margin-left: 4px;\n",
       "    line-height: 19px;\n",
       "  }\n",
       "</style>\n",
       "<div class=\"ansiout\">+-------+--------------------+--------------------+--------------------+--------------+--------------------+--------------------+-----------------+--------------------+--------------+--------------+\n",
       "    ind|           unique_id|               title|         description|follower_count|         poster_name|            tag_list|is_image_or_video|           image_src| save_location|      category|\n",
       "+-------+--------------------+--------------------+--------------------+--------------+--------------------+--------------------+-----------------+--------------------+--------------+--------------+\n",
       " 2482.0|08604f20-fa17-4b9...|FORNT PORCH CHRIS...|Christmas decorat...|          null|Life on Summerhil...|Diy Christmas Dec...|            video|https://i.pinimg....|     christmas|     christmas|\n",
       "10138.0|927c4658-cc3f-4b9...|14 Amazing Things...|This Costa Rica i...|          null|Wanderlust Chloe ...|Costa Rica Travel...|            image|https://i.pinimg....|        travel|        travel|\n",
       " 3156.0|fa6e31a4-18c2-4ec...|Handprint Reindee...|This post may con...|          null|Michelle {CraftyM...|Christmas Gifts F...|            image|https://i.pinimg....|diy-and-crafts|diy-and-crafts|\n",
       " 3419.0|d0b80187-0171-49b...|Easy Christmas Tr...|Easy Christmas tr...|          null|Kids Crafts &amp; Fre...|Christmas Crafts ...|            image|https://i.pinimg....|diy-and-crafts|diy-and-crafts|\n",
       " 5494.0|8fb2af68-543b-463...|Dave Ramsey&#39;s 7 B...|If you love budge...|          null|Living Low Key | ...|Financial Peace,F...|            image|https://i.pinimg....|       finance|       finance|\n",
       " 2418.0|da8745a6-5160-46c...|100 DIY Christmas...|Here are the best...|          null|            HikenDip|Farmhouse Christm...|            image|https://i.pinimg....|     christmas|     christmas|\n",
       " 7922.0|a584581c-1b38-473...|45 Top Life Quote...|summcoco gives yo...|          null|Sumcoco | Decor I...|Life Quotes Love,...|            image|https://i.pinimg....|        quotes|        quotes|\n",
       "  771.0|a5021766-a8aa-4dc...|African Sunset Sh...|Use your mini wor...|          null|Taming Little Mon...|African Art Proje...|            image|https://i.pinimg....|           art|           art|\n",
       " 4508.0|9064f4a2-2753-476...|Custom Event and ...|Personalize your ...|           111|Life of Neon | Cu...|Our Wedding,Weddi...|            image|https://i.pinimg....|event-planning|event-planning|\n",
       " 4076.0|3a52d364-7c04-47c...|Phonics Activitie...|Hi everyone! As a...|          null|   The Literacy Nest|Literacy Games,Ki...|            image|https://i.pinimg....|     education|     education|\n",
       " 2293.0|1fd7d4cc-54c1-454...|Over 40 of the BE...|Over 40 of the BE...|          null|Kitchen Fun With ...|Diy Christmas Lig...|            image|https://i.pinimg....|     christmas|     christmas|\n",
       "  159.0|841a161a-47b8-416...|Valentine&#39;s Day B...|This bee directed...|          null|Teachers Pay Teac...|Classroom Art Pro...|            image|https://i.pinimg....|           art|           art|\n",
       " 9979.0|2b2abc85-fc51-481...|Paris in the Summ...|Are you traveling...|          null|     Petite in Paris|Torre Eiffel Pari...|            image|https://i.pinimg....|        travel|        travel|\n",
       " 9759.0|d105eb6e-0f9f-46e...|8 Best Greek Isla...|Although you&#39;d th...|          null|TheFab20s | Trave...|Greek Islands To ...|            image|https://i.pinimg....|        travel|        travel|\n",
       " 2698.0|73f16302-4871-486...|DIY Dollar Tree V...|DIY Dollar Store ...|          null|  South Lumina Style|Valentine Day Wre...|            image|https://i.pinimg....|diy-and-crafts|diy-and-crafts|\n",
       " 6145.0|82e13a07-db99-43a...|HOLIDAY MANTLE DE...|Holiday mantle de...|          null|     Stylin by Aylin|Winter Home Decor...|            image|https://i.pinimg....|    home-decor|    home-decor|\n",
       "  427.0|4a455340-09a2-437...|DIY Acrylic Paint...|Easy to follow st...|          null|     Abbotts At Home|Acrylic Pouring A...|            video|https://i.pinimg....|           art|           art|\n",
       " 1704.0|5fbf9863-fb79-477...|Christmas Trees F...|Christmas Trees F...|          null|       Instructables|Pallet Wood Chris...|            image|https://i.pinimg....|     christmas|     christmas|\n",
       " 4315.0|21b59ba9-829d-4c3...|Podcasts for Teac...|Podcasts for Teac...|          null|        Math Giraffe|Middle School Cla...|            image|https://i.pinimg....|     education|     education|\n",
       " 4315.0|21b59ba9-829d-4c3...|Podcasts for Teac...|Podcasts for Teac...|          null|        Math Giraffe|Middle School Cla...|            image|https://i.pinimg....|     education|     education|\n",
       "+-------+--------------------+--------------------+--------------------+--------------+--------------------+--------------------+-----------------+--------------------+--------------+--------------+\n",
       "only showing top 20 rows\n",
       "\n",
       "</div>"
      ]
     },
     "metadata": {
      "application/vnd.databricks.v1+output": {
       "addedWidgets": {},
       "arguments": {},
       "data": "<div class=\"ansiout\">+-------+--------------------+--------------------+--------------------+--------------+--------------------+--------------------+-----------------+--------------------+--------------+--------------+\n|    ind|           unique_id|               title|         description|follower_count|         poster_name|            tag_list|is_image_or_video|           image_src| save_location|      category|\n+-------+--------------------+--------------------+--------------------+--------------+--------------------+--------------------+-----------------+--------------------+--------------+--------------+\n| 2482.0|08604f20-fa17-4b9...|FORNT PORCH CHRIS...|Christmas decorat...|          null|Life on Summerhil...|Diy Christmas Dec...|            video|https://i.pinimg....|     christmas|     christmas|\n|10138.0|927c4658-cc3f-4b9...|14 Amazing Things...|This Costa Rica i...|          null|Wanderlust Chloe ...|Costa Rica Travel...|            image|https://i.pinimg....|        travel|        travel|\n| 3156.0|fa6e31a4-18c2-4ec...|Handprint Reindee...|This post may con...|          null|Michelle {CraftyM...|Christmas Gifts F...|            image|https://i.pinimg....|diy-and-crafts|diy-and-crafts|\n| 3419.0|d0b80187-0171-49b...|Easy Christmas Tr...|Easy Christmas tr...|          null|Kids Crafts &amp; Fre...|Christmas Crafts ...|            image|https://i.pinimg....|diy-and-crafts|diy-and-crafts|\n| 5494.0|8fb2af68-543b-463...|Dave Ramsey&#39;s 7 B...|If you love budge...|          null|Living Low Key | ...|Financial Peace,F...|            image|https://i.pinimg....|       finance|       finance|\n| 2418.0|da8745a6-5160-46c...|100 DIY Christmas...|Here are the best...|          null|            HikenDip|Farmhouse Christm...|            image|https://i.pinimg....|     christmas|     christmas|\n| 7922.0|a584581c-1b38-473...|45 Top Life Quote...|summcoco gives yo...|          null|Sumcoco | Decor I...|Life Quotes Love,...|            image|https://i.pinimg....|        quotes|        quotes|\n|  771.0|a5021766-a8aa-4dc...|African Sunset Sh...|Use your mini wor...|          null|Taming Little Mon...|African Art Proje...|            image|https://i.pinimg....|           art|           art|\n| 4508.0|9064f4a2-2753-476...|Custom Event and ...|Personalize your ...|           111|Life of Neon | Cu...|Our Wedding,Weddi...|            image|https://i.pinimg....|event-planning|event-planning|\n| 4076.0|3a52d364-7c04-47c...|Phonics Activitie...|Hi everyone! As a...|          null|   The Literacy Nest|Literacy Games,Ki...|            image|https://i.pinimg....|     education|     education|\n| 2293.0|1fd7d4cc-54c1-454...|Over 40 of the BE...|Over 40 of the BE...|          null|Kitchen Fun With ...|Diy Christmas Lig...|            image|https://i.pinimg....|     christmas|     christmas|\n|  159.0|841a161a-47b8-416...|Valentine&#39;s Day B...|This bee directed...|          null|Teachers Pay Teac...|Classroom Art Pro...|            image|https://i.pinimg....|           art|           art|\n| 9979.0|2b2abc85-fc51-481...|Paris in the Summ...|Are you traveling...|          null|     Petite in Paris|Torre Eiffel Pari...|            image|https://i.pinimg....|        travel|        travel|\n| 9759.0|d105eb6e-0f9f-46e...|8 Best Greek Isla...|Although you&#39;d th...|          null|TheFab20s | Trave...|Greek Islands To ...|            image|https://i.pinimg....|        travel|        travel|\n| 2698.0|73f16302-4871-486...|DIY Dollar Tree V...|DIY Dollar Store ...|          null|  South Lumina Style|Valentine Day Wre...|            image|https://i.pinimg....|diy-and-crafts|diy-and-crafts|\n| 6145.0|82e13a07-db99-43a...|HOLIDAY MANTLE DE...|Holiday mantle de...|          null|     Stylin by Aylin|Winter Home Decor...|            image|https://i.pinimg....|    home-decor|    home-decor|\n|  427.0|4a455340-09a2-437...|DIY Acrylic Paint...|Easy to follow st...|          null|     Abbotts At Home|Acrylic Pouring A...|            video|https://i.pinimg....|           art|           art|\n| 1704.0|5fbf9863-fb79-477...|Christmas Trees F...|Christmas Trees F...|          null|       Instructables|Pallet Wood Chris...|            image|https://i.pinimg....|     christmas|     christmas|\n| 4315.0|21b59ba9-829d-4c3...|Podcasts for Teac...|Podcasts for Teac...|          null|        Math Giraffe|Middle School Cla...|            image|https://i.pinimg....|     education|     education|\n| 4315.0|21b59ba9-829d-4c3...|Podcasts for Teac...|Podcasts for Teac...|          null|        Math Giraffe|Middle School Cla...|            image|https://i.pinimg....|     education|     education|\n+-------+--------------------+--------------------+--------------------+--------------+--------------------+--------------------+-----------------+--------------------+--------------+--------------+\nonly showing top 20 rows\n\n</div>",
       "datasetInfos": [],
       "metadata": {},
       "removedWidgets": [],
       "type": "html"
      }
     },
     "output_type": "display_data"
    }
   ],
   "source": [
    "# Datacleaning the df_pin dataframe\n",
    "\n",
    "from pyspark.sql import SparkSession\n",
    "from pyspark.sql.functions import col, expr, array, to_timestamp, concat_ws\n",
    "from pyspark.sql.types import IntegerType\n",
    "\n",
    "# Create a Spark session\n",
    "spark = SparkSession.builder.appName(\"YourAppName\").getOrCreate()\n",
    "\n",
    "# Replace empty entries and entries with no relevant data in each column with Nones\n",
    "df_pin_cleaned = df_pin.na.replace('', None)\n",
    "\n",
    "# Perform the necessary transformations on the follower_count column\n",
    "df_pin_cleaned = df_pin_cleaned.withColumn(\"follower_count\", df_pin_cleaned[\"follower_count\"].cast(IntegerType()))\n",
    "\n",
    "# Ensure that each column containing numeric data has a numeric data type\n",
    "numeric_columns = [\"downloaded\", \"index\"]\n",
    "for col_name in numeric_columns:\n",
    "    df_pin_cleaned = df_pin_cleaned.withColumn(col_name, df_pin_cleaned[col_name].cast(\"double\"))\n",
    "\n",
    "# Clean the data in the save_location column\n",
    "df_pin_cleaned = df_pin_cleaned.withColumn(\"save_location\", expr(\"substring_index(save_location, '/', -1)\"))\n",
    "\n",
    "# Rename the index column to ind\n",
    "df_pin_cleaned = df_pin_cleaned.withColumnRenamed(\"index\", \"ind\")\n",
    "\n",
    "# Reorder the DataFrame columns\n",
    "column_order_pin = [\"ind\", \"unique_id\", \"title\", \"description\", \"follower_count\", \"poster_name\", \"tag_list\",\n",
    "                    \"is_image_or_video\", \"image_src\", \"save_location\", \"category\"]\n",
    "\n",
    "df_pin_cleaned = df_pin_cleaned.select(column_order_pin)\n",
    "\n",
    "# Get the current timestamp\n",
    "timestamp_str_pin = spark.sql(\"SELECT current_timestamp() AS timestamp\").collect()[0].timestamp\n",
    "\n",
    "# Create a new output path with a timestamp\n",
    "output_path_pin = f\"/mnt/diane_mount/cleaned_data/df_pin_cleaned_{timestamp_str_pin}\"\n",
    "\n",
    "# Save the cleaned DataFrame to the new output path\n",
    "df_pin_cleaned.write.mode(\"overwrite\").parquet(output_path_pin)\n",
    "\n",
    "# Show the cleaned DataFrame\n",
    "df_pin_cleaned.show()\n"
   ]
  },
  {
   "cell_type": "code",
   "execution_count": null,
   "metadata": {
    "application/vnd.databricks.v1+cell": {
     "cellMetadata": {
      "byteLimit": 2048000,
      "rowLimit": 10000
     },
     "inputWidgets": {},
     "nuid": "7308fefd-d999-41a6-b87f-bcb126dc9dab",
     "showTitle": false,
     "title": ""
    }
   },
   "outputs": [
    {
     "data": {
      "text/html": [
       "<style scoped>\n",
       "  .ansiout {\n",
       "    display: block;\n",
       "    unicode-bidi: embed;\n",
       "    white-space: pre-wrap;\n",
       "    word-wrap: break-word;\n",
       "    word-break: break-all;\n",
       "    font-family: \"Menlo\", \"Monaco\", \"Consolas\", \"Ubuntu Mono\", \"Source Code Pro\", monospace;\n",
       "    font-size: 13px;\n",
       "    color: #555;\n",
       "    margin-left: 4px;\n",
       "    line-height: 19px;\n",
       "  }\n",
       "</style>\n",
       "<div class=\"ansiout\">+-----+--------------------+--------------------+-------------------+\n",
       "  ind|             country|         coordinates|          timestamp|\n",
       "+-----+--------------------+--------------------+-------------------+\n",
       " 2418|Antarctica (the t...|[-88.4642, -171.061]|2022-05-27 11:30:59|\n",
       "10794|Cocos (Keeling) I...|[-89.5236, -154.567]|2022-01-01 02:26:50|\n",
       " 2074|Central African R...|  [-52.3213, -50.11]|2019-11-03 05:41:59|\n",
       " 2293|British Virgin Is...|[-87.7946, -159.647]|2022-03-21 10:46:53|\n",
       "10663|Saint Kitts and N...| [-27.3474, -162.83]|2019-07-25 18:53:51|\n",
       " 7922| Antigua and Barbuda|[-88.0974, -172.052]|2021-01-27 09:14:19|\n",
       " 8606| Antigua and Barbuda|[-88.0974, -172.052]|2021-03-28 14:54:07|\n",
       "  603|Netherlands Antilles| [14.0083, -141.603]|2019-06-25 05:13:01|\n",
       " 9979|  Dominican Republic| [14.9967, -120.682]|2018-07-18 19:01:46|\n",
       " 1704|    Christmas Island|[-56.8702, -93.6232]|2018-11-29 04:46:39|\n",
       " 7790|    Papua New Guinea|  [-43.692, 64.9839]|2018-07-31 08:19:15|\n",
       " 9759|      American Samoa|[-77.9744, -106.258]|2017-12-30 13:05:49|\n",
       " 1422|      American Samoa|[-88.5252, -172.436]|2018-04-30 08:27:21|\n",
       " 2923|       Cote d&#39;Ivoire|[-84.6302, -164.507]|2019-09-08 22:53:09|\n",
       " 8304|       French Guiana| [-28.8852, -164.87]|2019-09-13 04:50:29|\n",
       " 4315|       Cote d&#39;Ivoire| [-45.8508, 66.1003]|2019-12-15 03:51:28|\n",
       " 8578|       Guinea-Bissau| [34.6427, -161.397]|2018-01-26 19:27:11|\n",
       " 6844|       New Caledonia| [-22.6915, 5.69245]|2021-06-06 21:53:11|\n",
       " 3599|         Afghanistan|[-88.5478, -174.971]|2019-03-03 06:13:41|\n",
       " 5069|          Azerbaijan|[-63.0063, -157.474]|2021-03-20 09:32:44|\n",
       "+-----+--------------------+--------------------+-------------------+\n",
       "only showing top 20 rows\n",
       "\n",
       "</div>"
      ]
     },
     "metadata": {
      "application/vnd.databricks.v1+output": {
       "addedWidgets": {},
       "arguments": {},
       "data": "<div class=\"ansiout\">+-----+--------------------+--------------------+-------------------+\n|  ind|             country|         coordinates|          timestamp|\n+-----+--------------------+--------------------+-------------------+\n| 2418|Antarctica (the t...|[-88.4642, -171.061]|2022-05-27 11:30:59|\n|10794|Cocos (Keeling) I...|[-89.5236, -154.567]|2022-01-01 02:26:50|\n| 2074|Central African R...|  [-52.3213, -50.11]|2019-11-03 05:41:59|\n| 2293|British Virgin Is...|[-87.7946, -159.647]|2022-03-21 10:46:53|\n|10663|Saint Kitts and N...| [-27.3474, -162.83]|2019-07-25 18:53:51|\n| 7922| Antigua and Barbuda|[-88.0974, -172.052]|2021-01-27 09:14:19|\n| 8606| Antigua and Barbuda|[-88.0974, -172.052]|2021-03-28 14:54:07|\n|  603|Netherlands Antilles| [14.0083, -141.603]|2019-06-25 05:13:01|\n| 9979|  Dominican Republic| [14.9967, -120.682]|2018-07-18 19:01:46|\n| 1704|    Christmas Island|[-56.8702, -93.6232]|2018-11-29 04:46:39|\n| 7790|    Papua New Guinea|  [-43.692, 64.9839]|2018-07-31 08:19:15|\n| 9759|      American Samoa|[-77.9744, -106.258]|2017-12-30 13:05:49|\n| 1422|      American Samoa|[-88.5252, -172.436]|2018-04-30 08:27:21|\n| 2923|       Cote d&#39;Ivoire|[-84.6302, -164.507]|2019-09-08 22:53:09|\n| 8304|       French Guiana| [-28.8852, -164.87]|2019-09-13 04:50:29|\n| 4315|       Cote d&#39;Ivoire| [-45.8508, 66.1003]|2019-12-15 03:51:28|\n| 8578|       Guinea-Bissau| [34.6427, -161.397]|2018-01-26 19:27:11|\n| 6844|       New Caledonia| [-22.6915, 5.69245]|2021-06-06 21:53:11|\n| 3599|         Afghanistan|[-88.5478, -174.971]|2019-03-03 06:13:41|\n| 5069|          Azerbaijan|[-63.0063, -157.474]|2021-03-20 09:32:44|\n+-----+--------------------+--------------------+-------------------+\nonly showing top 20 rows\n\n</div>",
       "datasetInfos": [],
       "metadata": {},
       "removedWidgets": [],
       "type": "html"
      }
     },
     "output_type": "display_data"
    }
   ],
   "source": [
    "#Cleaning the df_geo dataframe\n",
    "\n",
    "from pyspark.sql.functions import col, array, to_timestamp, expr\n",
    "\n",
    "# Create a new column 'coordinates' that contains an array based on the latitude and longitude columns\n",
    "df_geo_cleaned = df_geo.withColumn(\"coordinates\", array(col(\"latitude\"), col(\"longitude\")))\n",
    "\n",
    "# Drop the latitude and longitude columns from the DataFrame\n",
    "df_geo_cleaned = df_geo_cleaned.drop(\"latitude\", \"longitude\")\n",
    "\n",
    "# Convert the timestamp column from a string to a timestamp data type\n",
    "df_geo_cleaned = df_geo_cleaned.withColumn(\"timestamp\", to_timestamp(col(\"timestamp\")))\n",
    "\n",
    "# Reorder the DataFrame columns\n",
    "column_order_geo = [\"ind\", \"country\", \"coordinates\", \"timestamp\"]\n",
    "df_geo_cleaned = df_geo_cleaned.select(column_order_geo)\n",
    "\n",
    "# Get the current timestamp\n",
    "timestamp_str_geo = spark.sql(\"SELECT current_timestamp() AS timestamp\").collect()[0].timestamp\n",
    "\n",
    "# Create a new output path with a timestamp\n",
    "output_path_geo = f\"/mnt/diane_mount/cleaned_data/df_geo_cleaned_{timestamp_str_geo}\"\n",
    "\n",
    "# Save the cleaned DataFrame to the new output path\n",
    "df_geo_cleaned.write.mode(\"overwrite\").parquet(output_path_geo)\n",
    "\n",
    "# Show the cleaned DataFrame\n",
    "df_geo_cleaned.show()\n"
   ]
  },
  {
   "cell_type": "code",
   "execution_count": null,
   "metadata": {
    "application/vnd.databricks.v1+cell": {
     "cellMetadata": {
      "byteLimit": 2048000,
      "rowLimit": 10000
     },
     "inputWidgets": {},
     "nuid": "ad018867-784c-43a7-b291-6d706bc93286",
     "showTitle": false,
     "title": ""
    }
   },
   "outputs": [
    {
     "data": {
      "text/html": [
       "<style scoped>\n",
       "  .ansiout {\n",
       "    display: block;\n",
       "    unicode-bidi: embed;\n",
       "    white-space: pre-wrap;\n",
       "    word-wrap: break-word;\n",
       "    word-break: break-all;\n",
       "    font-family: \"Menlo\", \"Monaco\", \"Consolas\", \"Ubuntu Mono\", \"Source Code Pro\", monospace;\n",
       "    font-size: 13px;\n",
       "    color: #555;\n",
       "    margin-left: 4px;\n",
       "    line-height: 19px;\n",
       "  }\n",
       "</style>\n",
       "<div class=\"ansiout\">+-----+--------------------+---+-------------------+\n",
       "  ind|           user_name|age|        date_joined|\n",
       "+-----+--------------------+---+-------------------+\n",
       " 2015|Christopher Bradshaw| 27|2016-03-08 13:38:37|\n",
       " 6398| Christina Davenport| 39|2016-06-29 20:43:59|\n",
       " 3599| Alexandria Alvarado| 20|2015-10-23 04:13:23|\n",
       " 5076|  Christopher Butler| 20|2015-12-01 15:08:31|\n",
       " 7790|  Michelle Gutierrez| 39|2017-07-19 07:12:04|\n",
       "10509|   Brittany Thompson| 49|2016-04-22 20:36:02|\n",
       " 8731|    Andrea Alexander| 21|2015-11-10 09:27:42|\n",
       " 8887|    Austin Rodriguez| 24|2016-03-31 20:56:39|\n",
       " 7768|    Christine Cortez| 23|2015-12-01 18:15:02|\n",
       " 4315|     Michelle Prince| 36|2015-12-20 16:38:13|\n",
       "10625|      Christian Lang| 32|2017-10-10 20:09:33|\n",
       " 9672|     Jennifer Hudson| 22|2016-02-11 20:46:04|\n",
       " 8930|     Andrew Anderson| 23|2015-11-28 11:52:37|\n",
       " 6566|     Alexander Perez| 31|2017-08-04 14:30:22|\n",
       " 3729|     Richard Edwards| 52|2016-02-07 20:00:25|\n",
       "10552|      Michael Hunter| 40|2017-05-16 07:09:21|\n",
       " 1313|      Brittany Jones| 32|2016-04-02 03:51:23|\n",
       "10794|       Thomas Turner| 34|2016-12-22 00:02:02|\n",
       " 2959|      David Griffith| 20|2016-01-07 19:49:22|\n",
       " 9875|      Brendan Joseph| 26|2015-12-20 10:28:00|\n",
       "+-----+--------------------+---+-------------------+\n",
       "only showing top 20 rows\n",
       "\n",
       "</div>"
      ]
     },
     "metadata": {
      "application/vnd.databricks.v1+output": {
       "addedWidgets": {},
       "arguments": {},
       "data": "<div class=\"ansiout\">+-----+--------------------+---+-------------------+\n|  ind|           user_name|age|        date_joined|\n+-----+--------------------+---+-------------------+\n| 2015|Christopher Bradshaw| 27|2016-03-08 13:38:37|\n| 6398| Christina Davenport| 39|2016-06-29 20:43:59|\n| 3599| Alexandria Alvarado| 20|2015-10-23 04:13:23|\n| 5076|  Christopher Butler| 20|2015-12-01 15:08:31|\n| 7790|  Michelle Gutierrez| 39|2017-07-19 07:12:04|\n|10509|   Brittany Thompson| 49|2016-04-22 20:36:02|\n| 8731|    Andrea Alexander| 21|2015-11-10 09:27:42|\n| 8887|    Austin Rodriguez| 24|2016-03-31 20:56:39|\n| 7768|    Christine Cortez| 23|2015-12-01 18:15:02|\n| 4315|     Michelle Prince| 36|2015-12-20 16:38:13|\n|10625|      Christian Lang| 32|2017-10-10 20:09:33|\n| 9672|     Jennifer Hudson| 22|2016-02-11 20:46:04|\n| 8930|     Andrew Anderson| 23|2015-11-28 11:52:37|\n| 6566|     Alexander Perez| 31|2017-08-04 14:30:22|\n| 3729|     Richard Edwards| 52|2016-02-07 20:00:25|\n|10552|      Michael Hunter| 40|2017-05-16 07:09:21|\n| 1313|      Brittany Jones| 32|2016-04-02 03:51:23|\n|10794|       Thomas Turner| 34|2016-12-22 00:02:02|\n| 2959|      David Griffith| 20|2016-01-07 19:49:22|\n| 9875|      Brendan Joseph| 26|2015-12-20 10:28:00|\n+-----+--------------------+---+-------------------+\nonly showing top 20 rows\n\n</div>",
       "datasetInfos": [],
       "metadata": {},
       "removedWidgets": [],
       "type": "html"
      }
     },
     "output_type": "display_data"
    }
   ],
   "source": [
    "#Cleaning the df_user dataframe\n",
    "\n",
    "from pyspark.sql.functions import col, concat_ws, to_timestamp\n",
    "\n",
    "# Create a new column 'user_name' that concatenates the information found in the first_name and last_name columns\n",
    "df_user_cleaned = df_user.withColumn(\"user_name\", concat_ws(\" \", col(\"first_name\"), col(\"last_name\")))\n",
    "\n",
    "# Drop the first_name and last_name columns from the DataFrame\n",
    "df_user_cleaned = df_user_cleaned.drop(\"first_name\", \"last_name\")\n",
    "\n",
    "# Convert the date_joined column from a string to a timestamp data type\n",
    "df_user_cleaned = df_user_cleaned.withColumn(\"date_joined\", to_timestamp(col(\"date_joined\")))\n",
    "\n",
    "# Reorder the DataFrame columns\n",
    "column_order_user = [\"ind\", \"user_name\", \"age\", \"date_joined\"]\n",
    "df_user_cleaned = df_user_cleaned.select(column_order_user)\n",
    "\n",
    "# Get the current timestamp\n",
    "timestamp_str_user = spark.sql(\"SELECT current_timestamp() AS timestamp\").collect()[0].timestamp\n",
    "\n",
    "# Create a new output path with a timestamp\n",
    "output_path_user = f\"/mnt/diane_mount/cleaned_data/df_user_cleaned_{timestamp_str_user}\"\n",
    "\n",
    "# Save the cleaned DataFrame to the new output path\n",
    "df_user_cleaned.write.mode(\"overwrite\").parquet(output_path_user)\n",
    "\n",
    "# Show the cleaned DataFrame\n",
    "df_user_cleaned.show()\n"
   ]
  },
  {
   "cell_type": "markdown",
   "metadata": {
    "application/vnd.databricks.v1+cell": {
     "cellMetadata": {},
     "inputWidgets": {},
     "nuid": "5169e29d-2452-4975-901b-66635450a749",
     "showTitle": false,
     "title": ""
    }
   },
   "source": [
    "##Data Transform & Query the DataFrames"
   ]
  },
  {
   "cell_type": "code",
   "execution_count": null,
   "metadata": {
    "application/vnd.databricks.v1+cell": {
     "cellMetadata": {
      "byteLimit": 2048000,
      "rowLimit": 10000
     },
     "inputWidgets": {},
     "nuid": "430f3dd0-7af4-42a6-a9cf-05ec46a15b85",
     "showTitle": false,
     "title": ""
    }
   },
   "outputs": [
    {
     "data": {
      "text/html": [
       "<style scoped>\n",
       "  .ansiout {\n",
       "    display: block;\n",
       "    unicode-bidi: embed;\n",
       "    white-space: pre-wrap;\n",
       "    word-wrap: break-word;\n",
       "    word-break: break-all;\n",
       "    font-family: \"Menlo\", \"Monaco\", \"Consolas\", \"Ubuntu Mono\", \"Source Code Pro\", monospace;\n",
       "    font-size: 13px;\n",
       "    color: #555;\n",
       "    margin-left: 4px;\n",
       "    line-height: 19px;\n",
       "  }\n",
       "</style>\n",
       "<div class=\"ansiout\">+--------------------+--------------+\n",
       "             country|      category|\n",
       "+--------------------+--------------+\n",
       "         Afghanistan|     education|\n",
       "         Afghanistan|           art|\n",
       "             Albania|  mens-fashion|\n",
       "             Algeria|        quotes|\n",
       "             Algeria|        beauty|\n",
       "             Algeria|        travel|\n",
       "      American Samoa|        travel|\n",
       "      American Samoa|        beauty|\n",
       "             Andorra|           art|\n",
       "              Angola|diy-and-crafts|\n",
       "            Anguilla|    home-decor|\n",
       "            Anguilla|        beauty|\n",
       "Antarctica (the t...|     christmas|\n",
       " Antigua and Barbuda|       tattoos|\n",
       " Antigua and Barbuda|        quotes|\n",
       "           Argentina|        beauty|\n",
       "           Argentina|       tattoos|\n",
       "             Armenia|diy-and-crafts|\n",
       "               Aruba|       tattoos|\n",
       "           Australia|  mens-fashion|\n",
       "+--------------------+--------------+\n",
       "only showing top 20 rows\n",
       "\n",
       "</div>"
      ]
     },
     "metadata": {
      "application/vnd.databricks.v1+output": {
       "addedWidgets": {},
       "arguments": {},
       "data": "<div class=\"ansiout\">+--------------------+--------------+\n|             country|      category|\n+--------------------+--------------+\n|         Afghanistan|     education|\n|         Afghanistan|           art|\n|             Albania|  mens-fashion|\n|             Algeria|        quotes|\n|             Algeria|        beauty|\n|             Algeria|        travel|\n|      American Samoa|        travel|\n|      American Samoa|        beauty|\n|             Andorra|           art|\n|              Angola|diy-and-crafts|\n|            Anguilla|    home-decor|\n|            Anguilla|        beauty|\n|Antarctica (the t...|     christmas|\n| Antigua and Barbuda|       tattoos|\n| Antigua and Barbuda|        quotes|\n|           Argentina|        beauty|\n|           Argentina|       tattoos|\n|             Armenia|diy-and-crafts|\n|               Aruba|       tattoos|\n|           Australia|  mens-fashion|\n+--------------------+--------------+\nonly showing top 20 rows\n\n</div>",
       "datasetInfos": [],
       "metadata": {},
       "removedWidgets": [],
       "type": "html"
      }
     },
     "output_type": "display_data"
    }
   ],
   "source": [
    "#Find the most Popular Catergory in Each Country\n",
    "\n",
    "from pyspark.sql import functions as F\n",
    "from pyspark.sql.window import Window\n",
    "from datetime import datetime\n",
    "\n",
    "# Get current timestamp\n",
    "current_timestamp = datetime.now().strftime(\"%Y%m%d%H%M%S\")\n",
    "\n",
    "# Join df_pin_cleaned and df_geo_cleaned on 'ind'\n",
    "joined_df_pin_geo = df_pin_cleaned.join(df_geo_cleaned, 'ind')\n",
    "\n",
    "# Join the combined dataframe with df_user_cleaned on 'ind'\n",
    "joined_df = joined_df_pin_geo.join(df_user_cleaned, 'ind')\n",
    "\n",
    "# Group by 'country' and 'category' and count occurrences\n",
    "category_counts = joined_df.groupBy('country', 'category').count()\n",
    "\n",
    "# Rank categories within each country based on count\n",
    "window_spec = Window.partitionBy('country').orderBy(F.desc('count'))\n",
    "ranked_df = category_counts.withColumn('category_rank', F.rank().over(window_spec))\n",
    "\n",
    "# Filter for the top-ranked category in each country\n",
    "most_popular_category = ranked_df.filter('category_rank == 1').drop('category_rank', 'count')\n",
    "\n",
    "# Save the DataFrame to the specified mount point with a timestamp\n",
    "output_path_popular_category = f\"/mnt/diane_mount/transformed_data/most_popular_category_{current_timestamp}\"\n",
    "most_popular_category.write.mode(\"overwrite\").parquet(output_path_popular_category)\n",
    "\n",
    "# Show the DataFrame\n",
    "most_popular_category.show()\n"
   ]
  },
  {
   "cell_type": "code",
   "execution_count": null,
   "metadata": {
    "application/vnd.databricks.v1+cell": {
     "cellMetadata": {
      "byteLimit": 2048000,
      "rowLimit": 10000
     },
     "inputWidgets": {},
     "nuid": "b68352af-84d9-4c57-ba05-97c619f02e57",
     "showTitle": false,
     "title": ""
    }
   },
   "outputs": [
    {
     "data": {
      "text/html": [
       "<style scoped>\n",
       "  .ansiout {\n",
       "    display: block;\n",
       "    unicode-bidi: embed;\n",
       "    white-space: pre-wrap;\n",
       "    word-wrap: break-word;\n",
       "    word-break: break-all;\n",
       "    font-family: \"Menlo\", \"Monaco\", \"Consolas\", \"Ubuntu Mono\", \"Source Code Pro\", monospace;\n",
       "    font-size: 13px;\n",
       "    color: #555;\n",
       "    margin-left: 4px;\n",
       "    line-height: 19px;\n",
       "  }\n",
       "</style>\n",
       "<div class=\"ansiout\">+---------+--------------+\n",
       "post_year|      category|\n",
       "+---------+--------------+\n",
       "     2018|        beauty|\n",
       "     2019|     education|\n",
       "     2020|           art|\n",
       "     2021|diy-and-crafts|\n",
       "     2021|       finance|\n",
       "     2021|       tattoos|\n",
       "     2022|     christmas|\n",
       "     2022|        beauty|\n",
       "+---------+--------------+\n",
       "\n",
       "</div>"
      ]
     },
     "metadata": {
      "application/vnd.databricks.v1+output": {
       "addedWidgets": {},
       "arguments": {},
       "data": "<div class=\"ansiout\">+---------+--------------+\n|post_year|      category|\n+---------+--------------+\n|     2018|        beauty|\n|     2019|     education|\n|     2020|           art|\n|     2021|diy-and-crafts|\n|     2021|       finance|\n|     2021|       tattoos|\n|     2022|     christmas|\n|     2022|        beauty|\n+---------+--------------+\n\n</div>",
       "datasetInfos": [],
       "metadata": {},
       "removedWidgets": [],
       "type": "html"
      }
     },
     "output_type": "display_data"
    }
   ],
   "source": [
    "#Find Which was The Most Popular Category Each Year between 2018 and 2022\n",
    "\n",
    "from pyspark.sql import functions as F\n",
    "from pyspark.sql.window import Window\n",
    "from datetime import datetime\n",
    "\n",
    "# Join df_pin_cleaned and df_geo_cleaned on 'ind'\n",
    "joined_df = df_pin_cleaned.join(df_geo_cleaned, 'ind')\n",
    "\n",
    "# Extract the year from the timestamp column\n",
    "df_pin_year = joined_df.withColumn(\"post_year\", F.year(\"timestamp\"))\n",
    "\n",
    "# Filter for posts between 2018 and 2022\n",
    "df_pin_filtered = df_pin_year.filter((F.col(\"post_year\") >= 2018) & (F.col(\"post_year\") <= 2022))\n",
    "\n",
    "# Group by 'post_year', 'category' and count occurrences\n",
    "category_counts_by_year = df_pin_filtered.groupBy(\"post_year\", \"category\").count()\n",
    "\n",
    "# Rank categories within each year based on count\n",
    "window_spec = Window.partitionBy('post_year').orderBy(F.desc('count'))\n",
    "ranked_df = category_counts_by_year.withColumn('category_rank', F.rank().over(window_spec))\n",
    "\n",
    "# Filter for the top-ranked category in each year\n",
    "most_popular_category_by_year = ranked_df.filter('category_rank == 1').drop('category_rank', 'count')\n",
    "\n",
    "# Get current timestamp\n",
    "current_timestamp = datetime.now().strftime(\"%Y%m%d%H%M%S\")\n",
    "\n",
    "# Save the DataFrame to the specified mount point with timestamp\n",
    "output_path_category_counts_by_year = f\"/mnt/diane_mount/transformed_data/category_counts_by_year_{current_timestamp}\"\n",
    "most_popular_category_by_year.write.mode(\"overwrite\").parquet(output_path_category_counts_by_year)\n",
    "\n",
    "# Show the DataFrame\n",
    "most_popular_category_by_year.show()\n",
    "\n",
    "\n"
   ]
  },
  {
   "cell_type": "code",
   "execution_count": null,
   "metadata": {
    "application/vnd.databricks.v1+cell": {
     "cellMetadata": {
      "byteLimit": 2048000,
      "rowLimit": 10000
     },
     "inputWidgets": {},
     "nuid": "5c2ff442-0794-4ece-a51f-6ea1ca95a789",
     "showTitle": false,
     "title": ""
    }
   },
   "outputs": [
    {
     "data": {
      "text/html": [
       "<style scoped>\n",
       "  .ansiout {\n",
       "    display: block;\n",
       "    unicode-bidi: embed;\n",
       "    white-space: pre-wrap;\n",
       "    word-wrap: break-word;\n",
       "    word-break: break-all;\n",
       "    font-family: \"Menlo\", \"Monaco\", \"Consolas\", \"Ubuntu Mono\", \"Source Code Pro\", monospace;\n",
       "    font-size: 13px;\n",
       "    color: #555;\n",
       "    margin-left: 4px;\n",
       "    line-height: 19px;\n",
       "  }\n",
       "</style>\n",
       "<div class=\"ansiout\">+------+--------------------+--------------------+--------------------+--------------+--------------------+--------------------+--------------------+--------------------+--------------+--------------+--------------------+\n",
       "   ind|           unique_id|               title|         description|follower_count|         poster_name|            tag_list|   is_image_or_video|           image_src| save_location|      category|             country|\n",
       "+------+--------------------+--------------------+--------------------+--------------+--------------------+--------------------+--------------------+--------------------+--------------+--------------+--------------------+\n",
       "3599.0|ff0dd945-dafa-411...|Educational Leade...|This book present...|          null|             Walmart|Research Studies,...|               image|https://i.pinimg....|     education|     education|         Afghanistan|\n",
       "  46.0|19234073-8905-488...|10 Watercolor Hac...|Mountain monologu...|          null|It&#39;s me, JD | DIY...|Arte Inspo,Kunst ...|               image|https://i.pinimg....|           art|           art|         Afghanistan|\n",
       "2411.0|4e11801e-7a64-4f1...|The Sweetest Ging...|Transform mini te...|          null|  Projects with Kids|Noel Christmas,Di...|               image|https://i.pinimg....|     christmas|     christmas|             Albania|\n",
       "6398.0|ea44d318-2ced-4cf...|My master bathroo...|No description av...|          null|          MojisStyle|Decor Home Living...|multi-video(story...|https://i.pinimg....|    home-decor|    home-decor|             Albania|\n",
       " 808.0|23f67e42-db9f-4aa...|Chalk Pastel Hot ...|Kids will use cha...|          null|  Projects with Kids|Hot Chocolate Art...|               image|https://i.pinimg....|           art|           art|             Albania|\n",
       "7528.0|fbe53c66-3442-477...|No Title Data Ava...|No description av...|          null|     User Info Error|N,o, ,T,a,g,s, ,A...|multi-video(story...|    Image src error.|  mens-fashion|  mens-fashion|             Albania|\n",
       "7528.0|fbe53c66-3442-477...|No Title Data Ava...|No description av...|          null|     User Info Error|N,o, ,T,a,g,s, ,A...|multi-video(story...|    Image src error.|  mens-fashion|  mens-fashion|             Albania|\n",
       "3089.0|88f9227e-88d0-4b1...|No Title Data Ava...|No description av...|          null|     User Info Error|N,o, ,T,a,g,s, ,A...|multi-video(story...|    Image src error.|diy-and-crafts|diy-and-crafts|             Albania|\n",
       "1555.0|1f20551b-a21c-4ff...|Skin Purging: Die...|Skin Purging sorg...|          null|        ELLE Germany|Natural Hair Mask...|               image|https://i.pinimg....|        beauty|        beauty|             Algeria|\n",
       "7768.0|ae1a61f6-d958-40f...|16 Motivational Q...|   motivation quotes|          null|Boss Babe Chronic...|Motivacional Quot...|               image|https://i.pinimg....|        quotes|        quotes|             Algeria|\n",
       "9590.0|b849e976-52f6-45d...|Top 20 Things To ...|Best spots to see...|          null|     Fun Life Crisis|Vacation Ideas,Va...|               image|https://i.pinimg....|        travel|        travel|             Algeria|\n",
       "9759.0|d105eb6e-0f9f-46e...|8 Best Greek Isla...|Although you&#39;d th...|          null|TheFab20s | Trave...|Greek Islands To ...|               image|https://i.pinimg....|        travel|        travel|      American Samoa|\n",
       "1422.0|7bbe860c-a739-4ba...|41 Life-Saving Be...|Might try this......|          null|            BuzzFeed|Baking Soda Lemon...|               image|https://i.pinimg....|        beauty|        beauty|      American Samoa|\n",
       " 159.0|841a161a-47b8-416...|Valentine&#39;s Day B...|This bee directed...|          null|Teachers Pay Teac...|Classroom Art Pro...|               image|https://i.pinimg....|           art|           art|             Andorra|\n",
       "2959.0|439cac4b-18e8-4aa...|The Cutest Toilet...|One thing I love ...|          null|     CraftGossip.com|Toilet Paper Roll...|               image|https://i.pinimg....|diy-and-crafts|diy-and-crafts|              Angola|\n",
       "6063.0|60693727-4927-4bd...|41 Gorgeous Fall ...|Beautiful and eas...|          null|Kristen | Lifesty...|Fall Home Decor,A...|               image|https://i.pinimg....|    home-decor|    home-decor|            Anguilla|\n",
       "1545.0|0c629541-cc5b-4b6...|Oil Cleansing Met...|The oil cleansing...|          null|     Thank Your Body|Beauty Care,Diy B...|               image|https://i.pinimg....|        beauty|        beauty|            Anguilla|\n",
       "2418.0|da8745a6-5160-46c...|100 DIY Christmas...|Here are the best...|          null|            HikenDip|Farmhouse Christm...|               image|https://i.pinimg....|     christmas|     christmas|Antarctica (the t...|\n",
       "8606.0|71757040-bfc8-463...|30+ Eagle Tattoos...|summcoco gives yo...|          null|Sumcoco | Decor I...|White Bird Tattoo...|               image|https://i.pinimg....|       tattoos|       tattoos| Antigua and Barbuda|\n",
       "7922.0|a584581c-1b38-473...|45 Top Life Quote...|summcoco gives yo...|          null|Sumcoco | Decor I...|Life Quotes Love,...|               image|https://i.pinimg....|        quotes|        quotes| Antigua and Barbuda|\n",
       "+------+--------------------+--------------------+--------------------+--------------+--------------------+--------------------+--------------------+--------------------+--------------+--------------+--------------------+\n",
       "only showing top 20 rows\n",
       "\n",
       "+-------+--------------+\n",
       "country|follower_count|\n",
       "+-------+--------------+\n",
       "  Sudan|           940|\n",
       "+-------+--------------+\n",
       "\n",
       "</div>"
      ]
     },
     "metadata": {
      "application/vnd.databricks.v1+output": {
       "addedWidgets": {},
       "arguments": {},
       "data": "<div class=\"ansiout\">+------+--------------------+--------------------+--------------------+--------------+--------------------+--------------------+--------------------+--------------------+--------------+--------------+--------------------+\n|   ind|           unique_id|               title|         description|follower_count|         poster_name|            tag_list|   is_image_or_video|           image_src| save_location|      category|             country|\n+------+--------------------+--------------------+--------------------+--------------+--------------------+--------------------+--------------------+--------------------+--------------+--------------+--------------------+\n|3599.0|ff0dd945-dafa-411...|Educational Leade...|This book present...|          null|             Walmart|Research Studies,...|               image|https://i.pinimg....|     education|     education|         Afghanistan|\n|  46.0|19234073-8905-488...|10 Watercolor Hac...|Mountain monologu...|          null|It&#39;s me, JD | DIY...|Arte Inspo,Kunst ...|               image|https://i.pinimg....|           art|           art|         Afghanistan|\n|2411.0|4e11801e-7a64-4f1...|The Sweetest Ging...|Transform mini te...|          null|  Projects with Kids|Noel Christmas,Di...|               image|https://i.pinimg....|     christmas|     christmas|             Albania|\n|6398.0|ea44d318-2ced-4cf...|My master bathroo...|No description av...|          null|          MojisStyle|Decor Home Living...|multi-video(story...|https://i.pinimg....|    home-decor|    home-decor|             Albania|\n| 808.0|23f67e42-db9f-4aa...|Chalk Pastel Hot ...|Kids will use cha...|          null|  Projects with Kids|Hot Chocolate Art...|               image|https://i.pinimg....|           art|           art|             Albania|\n|7528.0|fbe53c66-3442-477...|No Title Data Ava...|No description av...|          null|     User Info Error|N,o, ,T,a,g,s, ,A...|multi-video(story...|    Image src error.|  mens-fashion|  mens-fashion|             Albania|\n|7528.0|fbe53c66-3442-477...|No Title Data Ava...|No description av...|          null|     User Info Error|N,o, ,T,a,g,s, ,A...|multi-video(story...|    Image src error.|  mens-fashion|  mens-fashion|             Albania|\n|3089.0|88f9227e-88d0-4b1...|No Title Data Ava...|No description av...|          null|     User Info Error|N,o, ,T,a,g,s, ,A...|multi-video(story...|    Image src error.|diy-and-crafts|diy-and-crafts|             Albania|\n|1555.0|1f20551b-a21c-4ff...|Skin Purging: Die...|Skin Purging sorg...|          null|        ELLE Germany|Natural Hair Mask...|               image|https://i.pinimg....|        beauty|        beauty|             Algeria|\n|7768.0|ae1a61f6-d958-40f...|16 Motivational Q...|   motivation quotes|          null|Boss Babe Chronic...|Motivacional Quot...|               image|https://i.pinimg....|        quotes|        quotes|             Algeria|\n|9590.0|b849e976-52f6-45d...|Top 20 Things To ...|Best spots to see...|          null|     Fun Life Crisis|Vacation Ideas,Va...|               image|https://i.pinimg....|        travel|        travel|             Algeria|\n|9759.0|d105eb6e-0f9f-46e...|8 Best Greek Isla...|Although you&#39;d th...|          null|TheFab20s | Trave...|Greek Islands To ...|               image|https://i.pinimg....|        travel|        travel|      American Samoa|\n|1422.0|7bbe860c-a739-4ba...|41 Life-Saving Be...|Might try this......|          null|            BuzzFeed|Baking Soda Lemon...|               image|https://i.pinimg....|        beauty|        beauty|      American Samoa|\n| 159.0|841a161a-47b8-416...|Valentine&#39;s Day B...|This bee directed...|          null|Teachers Pay Teac...|Classroom Art Pro...|               image|https://i.pinimg....|           art|           art|             Andorra|\n|2959.0|439cac4b-18e8-4aa...|The Cutest Toilet...|One thing I love ...|          null|     CraftGossip.com|Toilet Paper Roll...|               image|https://i.pinimg....|diy-and-crafts|diy-and-crafts|              Angola|\n|6063.0|60693727-4927-4bd...|41 Gorgeous Fall ...|Beautiful and eas...|          null|Kristen | Lifesty...|Fall Home Decor,A...|               image|https://i.pinimg....|    home-decor|    home-decor|            Anguilla|\n|1545.0|0c629541-cc5b-4b6...|Oil Cleansing Met...|The oil cleansing...|          null|     Thank Your Body|Beauty Care,Diy B...|               image|https://i.pinimg....|        beauty|        beauty|            Anguilla|\n|2418.0|da8745a6-5160-46c...|100 DIY Christmas...|Here are the best...|          null|            HikenDip|Farmhouse Christm...|               image|https://i.pinimg....|     christmas|     christmas|Antarctica (the t...|\n|8606.0|71757040-bfc8-463...|30+ Eagle Tattoos...|summcoco gives yo...|          null|Sumcoco | Decor I...|White Bird Tattoo...|               image|https://i.pinimg....|       tattoos|       tattoos| Antigua and Barbuda|\n|7922.0|a584581c-1b38-473...|45 Top Life Quote...|summcoco gives yo...|          null|Sumcoco | Decor I...|Life Quotes Love,...|               image|https://i.pinimg....|        quotes|        quotes| Antigua and Barbuda|\n+------+--------------------+--------------------+--------------------+--------------+--------------------+--------------------+--------------------+--------------------+--------------+--------------+--------------------+\nonly showing top 20 rows\n\n+-------+--------------+\n|country|follower_count|\n+-------+--------------+\n|  Sudan|           940|\n+-------+--------------+\n\n</div>",
       "datasetInfos": [],
       "metadata": {},
       "removedWidgets": [],
       "type": "html"
      }
     },
     "output_type": "display_data"
    }
   ],
   "source": [
    "#find the user with the most followers in each country\n",
    "\n",
    "from pyspark.sql.window import Window\n",
    "from pyspark.sql import functions as F\n",
    "\n",
    "# Assuming 'ind' is a common column between df_pin_cleaned and df_geo_cleaned\n",
    "joined_df = df_pin_cleaned.join(df_geo_cleaned.select(\"ind\", \"country\"), \"ind\")\n",
    "\n",
    "# Now you can use the 'country' column from df_geo_cleaned in df_pin_cleaned\n",
    "df_pin_cleaned_with_country = joined_df.select(\"ind\", \"unique_id\", \"title\", \"description\", \"follower_count\",\n",
    "                                              \"poster_name\", \"tag_list\", \"is_image_or_video\", \"image_src\",\n",
    "                                              \"save_location\", \"category\", \"country\")\n",
    "\n",
    "# Rank users within each country based on follower count\n",
    "window_spec = Window.partitionBy('country').orderBy(F.desc('follower_count'))\n",
    "ranked_df = df_pin_cleaned_with_country.withColumn('user_rank', F.rank().over(window_spec))\n",
    "\n",
    "# Get the user with the most followers in each country\n",
    "top_user_per_country = ranked_df.filter('user_rank == 1').drop('user_rank')\n",
    "\n",
    "# Save the DataFrame to the specified mount point with timestamp\n",
    "output_path_top_user_per_country = f\"/mnt/diane_mount/transformed_data/top_user_per_country_{current_timestamp}\"\n",
    "top_user_per_country.write.mode(\"overwrite\").parquet(output_path_top_user_per_country)\n",
    "\n",
    "# Show the DataFrame\n",
    "top_user_per_country.show()\n",
    "\n",
    "# Now, find the country with the user with the most followers\n",
    "most_followed_country = top_user_per_country.select(\"country\", \"follower_count\").orderBy(F.desc(\"follower_count\")).limit(1)\n",
    "\n",
    "# Save the DataFrame to the specified mount point with timestamp\n",
    "output_path_most_followed_country = f\"/mnt/diane_mount/transformed_data/most_followed_country_{current_timestamp}\"\n",
    "most_followed_country.write.mode(\"overwrite\").parquet(output_path_most_followed_country)\n",
    "\n",
    "# Show the DataFrame\n",
    "most_followed_country.show()\n"
   ]
  },
  {
   "cell_type": "code",
   "execution_count": null,
   "metadata": {
    "application/vnd.databricks.v1+cell": {
     "cellMetadata": {
      "byteLimit": 2048000,
      "rowLimit": 10000
     },
     "inputWidgets": {},
     "nuid": "8a96f3a1-55f1-4460-b2e9-524da5bab7b2",
     "showTitle": false,
     "title": ""
    }
   },
   "outputs": [
    {
     "data": {
      "text/html": [
       "<style scoped>\n",
       "  .ansiout {\n",
       "    display: block;\n",
       "    unicode-bidi: embed;\n",
       "    white-space: pre-wrap;\n",
       "    word-wrap: break-word;\n",
       "    word-break: break-all;\n",
       "    font-family: \"Menlo\", \"Monaco\", \"Consolas\", \"Ubuntu Mono\", \"Source Code Pro\", monospace;\n",
       "    font-size: 13px;\n",
       "    color: #555;\n",
       "    margin-left: 4px;\n",
       "    line-height: 19px;\n",
       "  }\n",
       "</style>\n",
       "<div class=\"ansiout\">+---------+--------------+\n",
       "age_group|      category|\n",
       "+---------+--------------+\n",
       "      +50|     education|\n",
       "      +50|        beauty|\n",
       "    18-24|       tattoos|\n",
       "    18-24|  mens-fashion|\n",
       "    18-24|     christmas|\n",
       "    25-35|           art|\n",
       "    25-35|        travel|\n",
       "    36-50|diy-and-crafts|\n",
       "+---------+--------------+\n",
       "\n",
       "</div>"
      ]
     },
     "metadata": {
      "application/vnd.databricks.v1+output": {
       "addedWidgets": {},
       "arguments": {},
       "data": "<div class=\"ansiout\">+---------+--------------+\n|age_group|      category|\n+---------+--------------+\n|      +50|     education|\n|      +50|        beauty|\n|    18-24|       tattoos|\n|    18-24|  mens-fashion|\n|    18-24|     christmas|\n|    25-35|           art|\n|    25-35|        travel|\n|    36-50|diy-and-crafts|\n+---------+--------------+\n\n</div>",
       "datasetInfos": [],
       "metadata": {},
       "removedWidgets": [],
       "type": "html"
      }
     },
     "output_type": "display_data"
    }
   ],
   "source": [
    "#Task 7 Find the Most Popular Category for Different Age Groups\n",
    "\n",
    "from pyspark.sql import functions as F\n",
    "\n",
    "# Extract age group from the age column\n",
    "df_user_age_group = df_user_cleaned.withColumn(\"age_group\", F.when((col(\"age\") >= 18) & (col(\"age\") <= 24), \"18-24\")\n",
    "                                               .when((col(\"age\") >= 25) & (col(\"age\") <= 35), \"25-35\")\n",
    "                                               .when((col(\"age\") >= 36) & (col(\"age\") <= 50), \"36-50\")\n",
    "                                               .when(col(\"age\") > 50, \"+50\")\n",
    "                                               .otherwise(\"Unknown\"))\n",
    "\n",
    "# Join df_pin_cleaned and df_user_age_group on 'ind'\n",
    "joined_df_age_group = df_pin_cleaned.join(df_user_age_group, 'ind')\n",
    "\n",
    "# Group by 'age_group' and 'category' and count occurrences\n",
    "category_counts_by_age_group = joined_df_age_group.groupBy('age_group', 'category').count()\n",
    "\n",
    "# Rank categories within each age group based on count\n",
    "window_spec_age_group = Window.partitionBy('age_group').orderBy(F.desc('count'))\n",
    "ranked_df_age_group = category_counts_by_age_group.withColumn('category_rank', F.rank().over(window_spec_age_group))\n",
    "\n",
    "# Filter for the top-ranked category in each age group\n",
    "most_popular_category_by_age_group = ranked_df_age_group.filter('category_rank == 1').drop('category_rank', 'count')\n",
    "\n",
    "# Get current timestamp\n",
    "current_timestamp = datetime.now().strftime(\"%Y%m%d%H%M%S\")\n",
    "\n",
    "# Save the DataFrame to the specified mount point\n",
    "output_path_category_counts_by_age_group = f\"/mnt/diane_mount/transformed_data/category_counts_by_age_group_{current_timestamp}\"\n",
    "most_popular_category_by_age_group.write.mode(\"overwrite\").parquet(output_path_category_counts_by_age_group)\n",
    "\n",
    "# Show the DataFrame\n",
    "most_popular_category_by_age_group.show()\n"
   ]
  },
  {
   "cell_type": "code",
   "execution_count": null,
   "metadata": {
    "application/vnd.databricks.v1+cell": {
     "cellMetadata": {
      "byteLimit": 2048000,
      "rowLimit": 10000
     },
     "inputWidgets": {},
     "nuid": "4088506a-d8c4-4d3d-9773-8cae44ba0b85",
     "showTitle": false,
     "title": ""
    }
   },
   "outputs": [
    {
     "data": {
      "text/html": [
       "<style scoped>\n",
       "  .ansiout {\n",
       "    display: block;\n",
       "    unicode-bidi: embed;\n",
       "    white-space: pre-wrap;\n",
       "    word-wrap: break-word;\n",
       "    word-break: break-all;\n",
       "    font-family: \"Menlo\", \"Monaco\", \"Consolas\", \"Ubuntu Mono\", \"Source Code Pro\", monospace;\n",
       "    font-size: 13px;\n",
       "    color: #555;\n",
       "    margin-left: 4px;\n",
       "    line-height: 19px;\n",
       "  }\n",
       "</style>\n",
       "<div class=\"ansiout\">+---------+---------------------+\n",
       "age_group|median_follower_count|\n",
       "+---------+---------------------+\n",
       "    36-50|                  0.0|\n",
       "      +50|                 55.5|\n",
       "    18-24|                313.0|\n",
       "    25-35|                407.0|\n",
       "+---------+---------------------+\n",
       "\n",
       "</div>"
      ]
     },
     "metadata": {
      "application/vnd.databricks.v1+output": {
       "addedWidgets": {},
       "arguments": {},
       "data": "<div class=\"ansiout\">+---------+---------------------+\n|age_group|median_follower_count|\n+---------+---------------------+\n|    36-50|                  0.0|\n|      +50|                 55.5|\n|    18-24|                313.0|\n|    25-35|                407.0|\n+---------+---------------------+\n\n</div>",
       "datasetInfos": [],
       "metadata": {},
       "removedWidgets": [],
       "type": "html"
      }
     },
     "output_type": "display_data"
    }
   ],
   "source": [
    "#Find the Median Follower Count for Different Age Groups\n",
    "\n",
    "from pyspark.sql import functions as F\n",
    "from pyspark.sql.window import Window\n",
    "\n",
    "# Extract age group from the age column in df_user\n",
    "df_user_age_group = df_user_cleaned.withColumn(\"age_group\", F.when((col(\"age\") >= 18) & (col(\"age\") <= 24), \"18-24\")\n",
    "                                               .when((col(\"age\") >= 25) & (col(\"age\") <= 35), \"25-35\")\n",
    "                                               .when((col(\"age\") >= 36) & (col(\"age\") <= 50), \"36-50\")\n",
    "                                               .when(col(\"age\") > 50, \"+50\")\n",
    "                                               .otherwise(\"Unknown\"))\n",
    "\n",
    "# Join df_pin_cleaned and df_user_age_group on 'ind'\n",
    "joined_df_age_group_follower_count = df_pin_cleaned.join(df_user_age_group, 'ind')\n",
    "\n",
    "# Group by 'age_group' and calculate median follower count\n",
    "median_follower_count_by_age_group = joined_df_age_group_follower_count.groupBy('age_group') \\\n",
    "    .agg(F.expr('percentile(follower_count, 0.5)').alias('median_follower_count'))\n",
    "\n",
    "# Get current timestamp\n",
    "current_timestamp = datetime.now().strftime(\"%Y%m%d%H%M%S\")\n",
    "\n",
    "# Save the DataFrame to the specified mount point\n",
    "output_path_median_follower_count_by_age_group = f\"/mnt/diane_mount/transformed_data/median_follower_count_by_age_group_{current_timestamp}\"\n",
    "median_follower_count_by_age_group.write.mode(\"overwrite\").parquet(output_path_median_follower_count_by_age_group)\n",
    "\n",
    "# Show the DataFrame\n",
    "median_follower_count_by_age_group.show()\n"
   ]
  },
  {
   "cell_type": "code",
   "execution_count": null,
   "metadata": {
    "application/vnd.databricks.v1+cell": {
     "cellMetadata": {
      "byteLimit": 2048000,
      "rowLimit": 10000
     },
     "inputWidgets": {},
     "nuid": "c866faa9-3856-4e11-a847-71d62d0a01d3",
     "showTitle": false,
     "title": ""
    }
   },
   "outputs": [
    {
     "data": {
      "text/html": [
       "<style scoped>\n",
       "  .ansiout {\n",
       "    display: block;\n",
       "    unicode-bidi: embed;\n",
       "    white-space: pre-wrap;\n",
       "    word-wrap: break-word;\n",
       "    word-break: break-all;\n",
       "    font-family: \"Menlo\", \"Monaco\", \"Consolas\", \"Ubuntu Mono\", \"Source Code Pro\", monospace;\n",
       "    font-size: 13px;\n",
       "    color: #555;\n",
       "    margin-left: 4px;\n",
       "    line-height: 19px;\n",
       "  }\n",
       "</style>\n",
       "<div class=\"ansiout\">+---------+-------------------+\n",
       "join_year|number_users_joined|\n",
       "+---------+-------------------+\n",
       "     2015|                 33|\n",
       "     2016|                 36|\n",
       "     2017|                 11|\n",
       "+---------+-------------------+\n",
       "\n",
       "</div>"
      ]
     },
     "metadata": {
      "application/vnd.databricks.v1+output": {
       "addedWidgets": {},
       "arguments": {},
       "data": "<div class=\"ansiout\">+---------+-------------------+\n|join_year|number_users_joined|\n+---------+-------------------+\n|     2015|                 33|\n|     2016|                 36|\n|     2017|                 11|\n+---------+-------------------+\n\n</div>",
       "datasetInfos": [],
       "metadata": {},
       "removedWidgets": [],
       "type": "html"
      }
     },
     "output_type": "display_data"
    }
   ],
   "source": [
    "#Find out How Many Users Have Joined Each Year Between 2015 and 2020\n",
    "\n",
    "from pyspark.sql.functions import year\n",
    "\n",
    "# Extract the year from the date_joined column in df_user_cleaned\n",
    "df_user_joined_year = df_user_cleaned.withColumn(\"join_year\", year(\"date_joined\"))\n",
    "\n",
    "# Filter for users who joined between 2015 and 2020\n",
    "df_user_filtered_joined_year = df_user_joined_year.filter((col(\"join_year\") >= 2015) & (col(\"join_year\") <= 2020))\n",
    "\n",
    "# Group by 'join_year' and count the number of users\n",
    "number_users_joined_by_year = df_user_filtered_joined_year.groupBy(\"join_year\") \\\n",
    "    .agg(F.count(\"ind\").alias(\"number_users_joined\"))\n",
    "\n",
    "# Get current timestamp\n",
    "current_timestamp = datetime.now().strftime(\"%Y%m%d%H%M%S\")\n",
    "\n",
    "# Save the DataFrame to the specified mount point\n",
    "output_path_number_users_joined_by_year = f\"/mnt/diane_mount/transformed_data/number_users_joined_by_year_{current_timestamp}\"\n",
    "number_users_joined_by_year.write.mode(\"overwrite\").parquet(output_path_number_users_joined_by_year)\n",
    "\n",
    "# Show the DataFrame\n",
    "number_users_joined_by_year.show()\n",
    "\n",
    "\n"
   ]
  },
  {
   "cell_type": "code",
   "execution_count": null,
   "metadata": {
    "application/vnd.databricks.v1+cell": {
     "cellMetadata": {
      "byteLimit": 2048000,
      "rowLimit": 10000
     },
     "inputWidgets": {},
     "nuid": "69245313-19e3-4a48-a031-bcb369277e8c",
     "showTitle": false,
     "title": ""
    }
   },
   "outputs": [
    {
     "data": {
      "text/html": [
       "<style scoped>\n",
       "  .ansiout {\n",
       "    display: block;\n",
       "    unicode-bidi: embed;\n",
       "    white-space: pre-wrap;\n",
       "    word-wrap: break-word;\n",
       "    word-break: break-all;\n",
       "    font-family: \"Menlo\", \"Monaco\", \"Consolas\", \"Ubuntu Mono\", \"Source Code Pro\", monospace;\n",
       "    font-size: 13px;\n",
       "    color: #555;\n",
       "    margin-left: 4px;\n",
       "    line-height: 19px;\n",
       "  }\n",
       "</style>\n",
       "<div class=\"ansiout\">+---------+---------------------+\n",
       "join_year|median_follower_count|\n",
       "+---------+---------------------+\n",
       "     2015|                    0|\n",
       "     2016|                  111|\n",
       "     2017|                  112|\n",
       "+---------+---------------------+\n",
       "\n",
       "</div>"
      ]
     },
     "metadata": {
      "application/vnd.databricks.v1+output": {
       "addedWidgets": {},
       "arguments": {},
       "data": "<div class=\"ansiout\">+---------+---------------------+\n|join_year|median_follower_count|\n+---------+---------------------+\n|     2015|                    0|\n|     2016|                  111|\n|     2017|                  112|\n+---------+---------------------+\n\n</div>",
       "datasetInfos": [],
       "metadata": {},
       "removedWidgets": [],
       "type": "html"
      }
     },
     "output_type": "display_data"
    }
   ],
   "source": [
    "#Find the median follower count of users have joined between 2015 and 2020.\n",
    "\n",
    "from pyspark.sql.functions import year, expr\n",
    "\n",
    "# Join df_user_cleaned and df_pin_cleaned on 'ind'\n",
    "joined_df_user_pin = df_user_cleaned.join(df_pin_cleaned, 'ind')\n",
    "\n",
    "# Extract the year from the date_joined column in df_user_cleaned\n",
    "df_user_joined_year = joined_df_user_pin.withColumn(\"join_year\", year(\"date_joined\"))\n",
    "\n",
    "# Filter for users who joined between 2015 and 2020\n",
    "df_user_filtered_joined_year = df_user_joined_year.filter((col(\"join_year\") >= 2015) & (col(\"join_year\") <= 2020))\n",
    "\n",
    "# Group by 'join_year' and calculate the median follower count\n",
    "median_follower_count_by_year = df_user_filtered_joined_year.groupBy(\"join_year\") \\\n",
    "    .agg(expr(\"percentile_approx(follower_count, 0.5)\").alias(\"median_follower_count\"))\n",
    "\n",
    "# Get current timestamp\n",
    "current_timestamp = datetime.now().strftime(\"%Y%m%d%H%M%S\")\n",
    "\n",
    "# Save the DataFrame to the specified mount point\n",
    "output_path_median_follower_count_by_year = f\"/mnt/diane_mount/transformed_data/median_follower_count_by_year_{current_timestamp}\"\n",
    "median_follower_count_by_year.write.mode(\"overwrite\").parquet(output_path_median_follower_count_by_year)\n",
    "\n",
    "# Show the DataFrame\n",
    "median_follower_count_by_year.show()\n"
   ]
  },
  {
   "cell_type": "code",
   "execution_count": null,
   "metadata": {
    "application/vnd.databricks.v1+cell": {
     "cellMetadata": {
      "byteLimit": 2048000,
      "rowLimit": 10000
     },
     "inputWidgets": {},
     "nuid": "9e01ee1d-d939-4a54-bb8e-40257b942f4d",
     "showTitle": false,
     "title": ""
    }
   },
   "outputs": [
    {
     "data": {
      "text/html": [
       "<style scoped>\n",
       "  .ansiout {\n",
       "    display: block;\n",
       "    unicode-bidi: embed;\n",
       "    white-space: pre-wrap;\n",
       "    word-wrap: break-word;\n",
       "    word-break: break-all;\n",
       "    font-family: \"Menlo\", \"Monaco\", \"Consolas\", \"Ubuntu Mono\", \"Source Code Pro\", monospace;\n",
       "    font-size: 13px;\n",
       "    color: #555;\n",
       "    margin-left: 4px;\n",
       "    line-height: 19px;\n",
       "  }\n",
       "</style>\n",
       "<div class=\"ansiout\">+---------+---------+---------------------+\n",
       "age_group|post_year|median_follower_count|\n",
       "+---------+---------+---------------------+\n",
       "      +50|     2016|                    0|\n",
       "+---------+---------+---------------------+\n",
       "\n",
       "</div>"
      ]
     },
     "metadata": {
      "application/vnd.databricks.v1+output": {
       "addedWidgets": {},
       "arguments": {},
       "data": "<div class=\"ansiout\">+---------+---------+---------------------+\n|age_group|post_year|median_follower_count|\n+---------+---------+---------------------+\n|      +50|     2016|                    0|\n+---------+---------+---------------------+\n\n</div>",
       "datasetInfos": [],
       "metadata": {},
       "removedWidgets": [],
       "type": "html"
      }
     },
     "output_type": "display_data"
    }
   ],
   "source": [
    "# Task 11: Find the Median Follower Count of Users based on their joining year and age group\n",
    "\n",
    "from datetime import datetime\n",
    "from pyspark.sql import SparkSession\n",
    "from pyspark.sql.functions import col, when, expr, percentile_approx, year\n",
    "\n",
    "# Get current timestamp\n",
    "current_timestamp = datetime.now().strftime(\"%Y%m%d%H%M%S\")\n",
    "\n",
    "# Filter for users who joined between 2015 and 2020\n",
    "df_user_filtered_joined_year = df_user_cleaned.filter((col(\"date_joined\").between('2015-01-01', '2020-12-31')))\n",
    "\n",
    "# Define age groups and corresponding labels\n",
    "age_groups = [\n",
    "    (col(\"age\") >= 18) & (col(\"age\") <= 24),\n",
    "    (col(\"age\") >= 25) & (col(\"age\") <= 35),\n",
    "    (col(\"age\") >= 36) & (col(\"age\") <= 50),\n",
    "    (col(\"age\") > 50)\n",
    "]\n",
    "\n",
    "age_group_labels = [\"18-24\", \"25-35\", \"36-50\", \"+50\"]\n",
    "\n",
    "# Use a when statement to categorize users into age groups\n",
    "for age_condition, label in zip(age_groups, age_group_labels):\n",
    "    df_user_filtered_joined_year = df_user_filtered_joined_year \\\n",
    "        .withColumn(\"age_group\", when(age_condition, label))\n",
    "\n",
    "# Extract the year from the timestamp column in df_user_cleaned\n",
    "df_user_filtered_joined_year = df_user_filtered_joined_year \\\n",
    "    .withColumn(\"post_year\", year(\"date_joined\"))\n",
    "\n",
    "# Calculate median follower count for each age group and post_year\n",
    "median_follower_count_by_age_and_year = df_user_filtered_joined_year \\\n",
    "    .join(df_pin_cleaned, 'ind') \\\n",
    "    .groupBy(\"age_group\", \"post_year\") \\\n",
    "    .agg(expr(\"percentile_approx(follower_count, 0.5)\").alias(\"median_follower_count\"))\n",
    "\n",
    "# Drop null values if any\n",
    "median_follower_count_by_age_and_year = median_follower_count_by_age_and_year.na.drop()\n",
    "\n",
    "# Save the DataFrame to the specified mount point\n",
    "output_path_median_follower_count_by_age_and_year = f\"/mnt/diane_mount/transformed_data/median_follower_count_by_age_and_year_{current_timestamp}\"\n",
    "median_follower_count_by_age_and_year.write.mode(\"overwrite\").parquet(output_path_median_follower_count_by_age_and_year)\n",
    "\n",
    "# Show the DataFrame\n",
    "median_follower_count_by_age_and_year.show()\n",
    "\n"
   ]
  }
 ],
 "metadata": {
  "application/vnd.databricks.v1+notebook": {
   "dashboards": [],
   "language": "python",
   "notebookMetadata": {
    "pythonIndentUnit": 4
   },
   "notebookName": "Data Transformation & Querying of The Data",
   "widgets": {}
  },
  "language_info": {
   "name": "python"
  }
 },
 "nbformat": 4,
 "nbformat_minor": 0
}
